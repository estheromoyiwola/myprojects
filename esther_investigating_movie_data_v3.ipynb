{
 "cells": [
  {
   "cell_type": "markdown",
   "metadata": {
    "provenance": [
     {
      "last_modified": "2022-08-07T20:20:48.458Z",
      "source": "\n## Project: Investigate a Dataset (TMDb Movie Data)\n\n### Table of Contents\n<ul>\n<li><a href=\"#intro\">Introduction</a></li>\n<li><a href=\"#wrangling\">Data Wrangling</a></li>\n<li><a href=\"#eda\">Exploratory Data Analysis</a></li>\n<li><a href=\"#conclusions\">Conclusions</a></li>\n</ul>"
     }
    ]
   },
   "source": [
    "\n",
    "## Project: Investigate a Dataset (TMDb Movie Data)\n",
    "\n",
    "### Table of Contents\n",
    "<ul>\n",
    "<li><a href=\"#intro\">Introduction</a></li>\n",
    "<li><a href=\"#wrangling\">Data Wrangling</a></li>\n",
    "<li><a href=\"#eda\">Exploratory Data Analysis</a></li>\n",
    "<li><a href=\"#conclusions\">Conclusions</a></li>\n",
    "</ul>"
   ]
  },
  {
   "cell_type": "markdown",
   "metadata": {
    "provenance": [
     {
      "last_modified": "2022-08-07T20:20:48.458Z",
      "source": "<a id='intro'></a>\n## Introduction\n\n> This data set contains information about 10,000 movies collected from The Movie Database (TMDb), including user ratings and revenue.\n> The main goal of this project is to explore the available data set and do the necessary wrangling and a reasonable conclusion.\n>  Below are some of the questions to be looked at;\n* Does runtime affects the revenue?\n* what kinds of properties are associated with movies that have high revenues(Top 20)\n* Release year and revenue, is there a relationship between them.\n* what year has the greatest revenue "
     }
    ]
   },
   "source": [
    "<a id='intro'></a>\n",
    "## Introduction\n",
    "\n",
    "> This data set contains information about 10,000 movies collected from The Movie Database (TMDb), including user ratings and revenue.\n",
    "> The main goal of this project is to explore the available data set and do the necessary wrangling and a reasonable conclusion.\n",
    ">  Below are some of the questions to be looked at;\n",
    "* Does runtime affects the revenue?\n",
    "* what kinds of properties are associated with movies that have high revenues(Top 20)\n",
    "* Release year and revenue, is there a relationship between them.\n",
    "* what year has the greatest revenue "
   ]
  },
  {
   "cell_type": "code",
   "execution_count": 2,
   "metadata": {
    "ExecutionTime": {
     "end_time": "2022-08-08T23:10:16.646118Z",
     "start_time": "2022-08-08T23:10:13.791506Z"
    },
    "provenance": [
     {
      "end_time": "Unknown",
      "execution_time": "Unknown",
      "outputs": [],
      "source": "#Importing libraries\n\nimport numpy as np\nimport pandas as pd\nimport matplotlib.pyplot as plt",
      "start_time": "Unknown"
     },
     {
      "end_time": "2022-08-08T17:50:06.206Z",
      "execution_time": "2.08s",
      "outputs": [],
      "source": "#Importing libraries\n\nimport numpy as np\nimport pandas as pd\nimport matplotlib.pyplot as plt",
      "start_time": "2022-08-08T17:50:04.127Z"
     },
     {
      "end_time": "2022-08-08T18:45:16.508Z",
      "execution_time": "3ms",
      "outputs": [],
      "source": "#Importing libraries\n\nimport numpy as np\nimport pandas as pd\nimport matplotlib.pyplot as plt",
      "start_time": "2022-08-08T18:45:16.505Z"
     },
     {
      "end_time": "2022-08-08T23:10:16.646Z",
      "execution_time": "2.85s",
      "outputs": [],
      "source": "#Importing libraries\n\nimport numpy as np\nimport pandas as pd\nimport matplotlib.pyplot as plt",
      "start_time": "2022-08-08T23:10:13.791Z"
     }
    ]
   },
   "outputs": [],
   "source": [
    "#Importing libraries\n",
    "\n",
    "import numpy as np\n",
    "import pandas as pd\n",
    "import matplotlib.pyplot as plt"
   ]
  },
  {
   "cell_type": "code",
   "execution_count": 3,
   "metadata": {
    "ExecutionTime": {
     "end_time": "2022-08-08T23:10:16.653572Z",
     "start_time": "2022-08-08T23:10:16.649348Z"
    },
    "provenance": [
     {
      "end_time": "Unknown",
      "execution_time": "Unknown",
      "outputs": [],
      "source": "import warnings\nwarnings.filterwarnings(\"ignore\")",
      "start_time": "Unknown"
     },
     {
      "end_time": "2022-08-08T17:50:06.212Z",
      "execution_time": "3ms",
      "outputs": [],
      "source": "import warnings\nwarnings.filterwarnings(\"ignore\")",
      "start_time": "2022-08-08T17:50:06.209Z"
     },
     {
      "end_time": "2022-08-08T18:45:16.515Z",
      "execution_time": "3ms",
      "outputs": [],
      "source": "import warnings\nwarnings.filterwarnings(\"ignore\")",
      "start_time": "2022-08-08T18:45:16.512Z"
     },
     {
      "end_time": "2022-08-08T23:10:16.653Z",
      "execution_time": "4ms",
      "outputs": [],
      "source": "import warnings\nwarnings.filterwarnings(\"ignore\")",
      "start_time": "2022-08-08T23:10:16.649Z"
     }
    ]
   },
   "outputs": [],
   "source": [
    "import warnings\n",
    "warnings.filterwarnings(\"ignore\")"
   ]
  },
  {
   "cell_type": "markdown",
   "metadata": {
    "provenance": [
     {
      "last_modified": "2022-08-07T20:20:48.458Z",
      "source": "<a id='wrangling'></a>\n## Data Wrangling\n\n> In this section of the report, I would be checking for cleanliness, and then trim and clean the dataset for analysis.<br> \n> These process would include;\n* Incorrect data types check\n* Missing data check\n* Removing duplicates from rows\n* Renaming column names where necessarry\n\n\n\n### Data Cleaning (General Properties)"
     }
    ]
   },
   "source": [
    "<a id='wrangling'></a>\n",
    "## Data Wrangling\n",
    "\n",
    "> In this section of the report, I would be checking for cleanliness, and then trim and clean the dataset for analysis.<br> \n",
    "> These process would include;\n",
    "* Incorrect data types check\n",
    "* Missing data check\n",
    "* Removing duplicates from rows\n",
    "* Renaming column names where necessarry\n",
    "\n",
    "\n",
    "\n",
    "### Data Cleaning (General Properties)"
   ]
  },
  {
   "cell_type": "code",
   "execution_count": 4,
   "metadata": {
    "ExecutionTime": {
     "end_time": "2022-08-08T23:10:16.779035Z",
     "start_time": "2022-08-08T23:10:16.656028Z"
    },
    "provenance": [
     {
      "end_time": "Unknown",
      "execution_time": "Unknown",
      "outputs": [],
      "source": "#Importing the dataset\n\ndf = pd.read_csv(\"tmdb-movies.csv\")",
      "start_time": "Unknown"
     },
     {
      "end_time": "2022-08-08T17:50:06.340Z",
      "execution_time": "126ms",
      "outputs": [],
      "source": "#Importing the dataset\n\ndf = pd.read_csv(\"tmdb-movies.csv\")",
      "start_time": "2022-08-08T17:50:06.214Z"
     },
     {
      "end_time": "2022-08-08T18:45:16.678Z",
      "execution_time": "160ms",
      "outputs": [],
      "source": "#Importing the dataset\n\ndf = pd.read_csv(\"tmdb-movies.csv\")",
      "start_time": "2022-08-08T18:45:16.518Z"
     },
     {
      "end_time": "2022-08-08T23:10:16.779Z",
      "execution_time": "123ms",
      "outputs": [],
      "source": "#Importing the dataset\n\ndf = pd.read_csv(\"tmdb-movies.csv\")",
      "start_time": "2022-08-08T23:10:16.656Z"
     }
    ]
   },
   "outputs": [],
   "source": [
    "#Importing the dataset\n",
    "\n",
    "df = pd.read_csv(\"tmdb-movies.csv\")"
   ]
  },
  {
   "cell_type": "code",
   "execution_count": 5,
   "metadata": {
    "ExecutionTime": {
     "end_time": "2022-08-08T23:10:16.793674Z",
     "start_time": "2022-08-08T23:10:16.782961Z"
    },
    "provenance": [
     {
      "end_time": "Unknown",
      "execution_time": "Unknown",
      "outputs": [
       {
        "data": {
         "text/plain": "Index(['id', 'imdb_id', 'popularity', 'budget', 'revenue', 'original_title',\n       'cast', 'homepage', 'director', 'tagline', 'keywords', 'overview',\n       'runtime', 'genres', 'production_companies', 'release_date',\n       'vote_count', 'vote_average', 'release_year', 'budget_adj',\n       'revenue_adj'],\n      dtype='object')"
        },
        "execution_count": 27,
        "metadata": {},
        "output_type": "execute_result"
       }
      ],
      "source": "#Checking to know the available column names\n\ndf.columns",
      "start_time": "Unknown"
     },
     {
      "end_time": "2022-08-08T17:50:06.355Z",
      "execution_time": "11ms",
      "outputs": [
       {
        "data": {
         "text/plain": "Index(['id', 'imdb_id', 'popularity', 'budget', 'revenue', 'original_title',\n       'cast', 'homepage', 'director', 'tagline', 'keywords', 'overview',\n       'runtime', 'genres', 'production_companies', 'release_date',\n       'vote_count', 'vote_average', 'release_year', 'budget_adj',\n       'revenue_adj'],\n      dtype='object')"
        },
        "execution_count": 4,
        "metadata": {},
        "output_type": "execute_result"
       }
      ],
      "source": "#Checking to know the available column names\n\ndf.columns",
      "start_time": "2022-08-08T17:50:06.344Z"
     },
     {
      "end_time": "2022-08-08T18:45:16.687Z",
      "execution_time": "5ms",
      "outputs": [
       {
        "data": {
         "text/plain": "Index(['id', 'imdb_id', 'popularity', 'budget', 'revenue', 'original_title',\n       'cast', 'homepage', 'director', 'tagline', 'keywords', 'overview',\n       'runtime', 'genres', 'production_companies', 'release_date',\n       'vote_count', 'vote_average', 'release_year', 'budget_adj',\n       'revenue_adj'],\n      dtype='object')"
        },
        "execution_count": 39,
        "metadata": {},
        "output_type": "execute_result"
       }
      ],
      "source": "#Checking to know the available column names\ndf.columns",
      "start_time": "2022-08-08T18:45:16.682Z"
     },
     {
      "end_time": "2022-08-08T23:10:16.793Z",
      "execution_time": "11ms",
      "outputs": [
       {
        "data": {
         "text/plain": "Index(['id', 'imdb_id', 'popularity', 'budget', 'revenue', 'original_title',\n       'cast', 'homepage', 'director', 'tagline', 'keywords', 'overview',\n       'runtime', 'genres', 'production_companies', 'release_date',\n       'vote_count', 'vote_average', 'release_year', 'budget_adj',\n       'revenue_adj'],\n      dtype='object')"
        },
        "execution_count": 5,
        "metadata": {},
        "output_type": "execute_result"
       }
      ],
      "source": "#Checking to know the available column names\ndf.columns",
      "start_time": "2022-08-08T23:10:16.782Z"
     }
    ]
   },
   "outputs": [
    {
     "data": {
      "text/plain": [
       "Index(['id', 'imdb_id', 'popularity', 'budget', 'revenue', 'original_title',\n",
       "       'cast', 'homepage', 'director', 'tagline', 'keywords', 'overview',\n",
       "       'runtime', 'genres', 'production_companies', 'release_date',\n",
       "       'vote_count', 'vote_average', 'release_year', 'budget_adj',\n",
       "       'revenue_adj'],\n",
       "      dtype='object')"
      ]
     },
     "execution_count": 5,
     "metadata": {},
     "output_type": "execute_result"
    }
   ],
   "source": [
    "#Checking to know the available column names\n",
    "df.columns"
   ]
  },
  {
   "cell_type": "code",
   "execution_count": 6,
   "metadata": {
    "ExecutionTime": {
     "end_time": "2022-08-08T23:10:16.825954Z",
     "start_time": "2022-08-08T23:10:16.796154Z"
    },
    "provenance": [
     {
      "end_time": "Unknown",
      "execution_time": "Unknown",
      "outputs": [
       {
        "name": "stdout",
        "output_type": "stream",
        "text": "<class 'pandas.core.frame.DataFrame'>\nRangeIndex: 10866 entries, 0 to 10865\nData columns (total 21 columns):\n #   Column                Non-Null Count  Dtype  \n---  ------                --------------  -----  \n 0   id                    10866 non-null  int64  \n 1   imdb_id               10856 non-null  object \n 2   popularity            10866 non-null  float64\n 3   budget                10866 non-null  int64  \n 4   revenue               10866 non-null  int64  \n 5   original_title        10866 non-null  object \n 6   cast                  10790 non-null  object \n 7   homepage              2936 non-null   object \n 8   director              10822 non-null  object \n 9   tagline               8042 non-null   object \n 10  keywords              9373 non-null   object \n 11  overview              10862 non-null  object \n 12  runtime               10866 non-null  int64  \n 13  genres                10843 non-null  object \n 14  production_companies  9836 non-null   object \n 15  release_date          10866 non-null  object \n 16  vote_count            10866 non-null  int64  \n 17  vote_average          10866 non-null  float64\n 18  release_year          10866 non-null  int64  \n 19  budget_adj            10866 non-null  float64\n 20  revenue_adj           10866 non-null  float64\ndtypes: float64(4), int64(6), object(11)\nmemory usage: 1.7+ MB\n"
       }
      ],
      "source": "#Investigating to know the information(non-null and dtype) of each column of the dataset\n\ndf.info()",
      "start_time": "Unknown"
     },
     {
      "end_time": "2022-08-08T17:50:06.395Z",
      "execution_time": "38ms",
      "outputs": [
       {
        "name": "stdout",
        "output_type": "stream",
        "text": "<class 'pandas.core.frame.DataFrame'>\nRangeIndex: 10866 entries, 0 to 10865\nData columns (total 21 columns):\n #   Column                Non-Null Count  Dtype  \n---  ------                --------------  -----  \n 0   id                    10866 non-null  int64  \n 1   imdb_id               10856 non-null  object \n 2   popularity            10866 non-null  float64\n 3   budget                10866 non-null  int64  \n 4   revenue               10866 non-null  int64  \n 5   original_title        10866 non-null  object \n 6   cast                  10790 non-null  object \n 7   homepage              2936 non-null   object \n 8   director              10822 non-null  object \n 9   tagline               8042 non-null   object \n 10  keywords              9373 non-null   object \n 11  overview              10862 non-null  object \n 12  runtime               10866 non-null  int64  \n 13  genres                10843 non-null  object \n 14  production_companies  9836 non-null   object \n 15  release_date          10866 non-null  object \n 16  vote_count            10866 non-null  int64  \n 17  vote_average          10866 non-null  float64\n 18  release_year          10866 non-null  int64  \n 19  budget_adj            10866 non-null  float64\n 20  revenue_adj           10866 non-null  float64\ndtypes: float64(4), int64(6), object(11)\nmemory usage: 1.7+ MB\n"
       }
      ],
      "source": "#Investigating to know the information(non-null and dtype) of each column of the dataset\n\ndf.info()",
      "start_time": "2022-08-08T17:50:06.357Z"
     },
     {
      "end_time": "2022-08-08T18:45:16.717Z",
      "execution_time": "27ms",
      "outputs": [
       {
        "name": "stdout",
        "output_type": "stream",
        "text": "<class 'pandas.core.frame.DataFrame'>\nRangeIndex: 10866 entries, 0 to 10865\nData columns (total 21 columns):\n #   Column                Non-Null Count  Dtype  \n---  ------                --------------  -----  \n 0   id                    10866 non-null  int64  \n 1   imdb_id               10856 non-null  object \n 2   popularity            10866 non-null  float64\n 3   budget                10866 non-null  int64  \n 4   revenue               10866 non-null  int64  \n 5   original_title        10866 non-null  object \n 6   cast                  10790 non-null  object \n 7   homepage              2936 non-null   object \n 8   director              10822 non-null  object \n 9   tagline               8042 non-null   object \n 10  keywords              9373 non-null   object \n 11  overview              10862 non-null  object \n 12  runtime               10866 non-null  int64  \n 13  genres                10843 non-null  object \n 14  production_companies  9836 non-null   object \n 15  release_date          10866 non-null  object \n 16  vote_count            10866 non-null  int64  \n 17  vote_average          10866 non-null  float64\n 18  release_year          10866 non-null  int64  \n 19  budget_adj            10866 non-null  float64\n 20  revenue_adj           10866 non-null  float64\ndtypes: float64(4), int64(6), object(11)\nmemory usage: 1.7+ MB\n"
       }
      ],
      "source": "#Investigating to know the information(non-null and dtype) of each column of the dataset\ndf.info()",
      "start_time": "2022-08-08T18:45:16.690Z"
     },
     {
      "end_time": "2022-08-08T23:10:16.825Z",
      "execution_time": "29ms",
      "outputs": [
       {
        "name": "stdout",
        "output_type": "stream",
        "text": "<class 'pandas.core.frame.DataFrame'>\nRangeIndex: 10866 entries, 0 to 10865\nData columns (total 21 columns):\n #   Column                Non-Null Count  Dtype  \n---  ------                --------------  -----  \n 0   id                    10866 non-null  int64  \n 1   imdb_id               10856 non-null  object \n 2   popularity            10866 non-null  float64\n 3   budget                10866 non-null  int64  \n 4   revenue               10866 non-null  int64  \n 5   original_title        10866 non-null  object \n 6   cast                  10790 non-null  object \n 7   homepage              2936 non-null   object \n 8   director              10822 non-null  object \n 9   tagline               8042 non-null   object \n 10  keywords              9373 non-null   object \n 11  overview              10862 non-null  object \n 12  runtime               10866 non-null  int64  \n 13  genres                10843 non-null  object \n 14  production_companies  9836 non-null   object \n 15  release_date          10866 non-null  object \n 16  vote_count            10866 non-null  int64  \n 17  vote_average          10866 non-null  float64\n 18  release_year          10866 non-null  int64  \n 19  budget_adj            10866 non-null  float64\n 20  revenue_adj           10866 non-null  float64\ndtypes: float64(4), int64(6), object(11)\nmemory usage: 1.7+ MB\n"
       }
      ],
      "source": "#Investigating to know the information(non-null and dtype) of each column of the dataset\ndf.info()",
      "start_time": "2022-08-08T23:10:16.796Z"
     }
    ]
   },
   "outputs": [
    {
     "name": "stdout",
     "output_type": "stream",
     "text": [
      "<class 'pandas.core.frame.DataFrame'>\n",
      "RangeIndex: 10866 entries, 0 to 10865\n",
      "Data columns (total 21 columns):\n",
      " #   Column                Non-Null Count  Dtype  \n",
      "---  ------                --------------  -----  \n",
      " 0   id                    10866 non-null  int64  \n",
      " 1   imdb_id               10856 non-null  object \n",
      " 2   popularity            10866 non-null  float64\n",
      " 3   budget                10866 non-null  int64  \n",
      " 4   revenue               10866 non-null  int64  \n",
      " 5   original_title        10866 non-null  object \n",
      " 6   cast                  10790 non-null  object \n",
      " 7   homepage              2936 non-null   object \n",
      " 8   director              10822 non-null  object \n",
      " 9   tagline               8042 non-null   object \n",
      " 10  keywords              9373 non-null   object \n",
      " 11  overview              10862 non-null  object \n",
      " 12  runtime               10866 non-null  int64  \n",
      " 13  genres                10843 non-null  object \n",
      " 14  production_companies  9836 non-null   object \n",
      " 15  release_date          10866 non-null  object \n",
      " 16  vote_count            10866 non-null  int64  \n",
      " 17  vote_average          10866 non-null  float64\n",
      " 18  release_year          10866 non-null  int64  \n",
      " 19  budget_adj            10866 non-null  float64\n",
      " 20  revenue_adj           10866 non-null  float64\n",
      "dtypes: float64(4), int64(6), object(11)\n",
      "memory usage: 1.7+ MB\n"
     ]
    }
   ],
   "source": [
    "#Investigating to know the information(non-null and dtype) of each column of the dataset\n",
    "df.info()"
   ]
  },
  {
   "cell_type": "markdown",
   "metadata": {
    "provenance": [
     {
      "last_modified": "2022-08-07T20:20:48.458Z",
      "source": "Fixing Datatypes:  Changing Release Date datatype from object to date."
     }
    ]
   },
   "source": [
    "Fixing Datatypes:  Changing Release Date datatype from object to date."
   ]
  },
  {
   "cell_type": "code",
   "execution_count": 7,
   "metadata": {
    "ExecutionTime": {
     "end_time": "2022-08-08T23:10:16.831328Z",
     "start_time": "2022-08-08T23:10:16.828213Z"
    },
    "provenance": [
     {
      "end_time": "2022-08-08T17:56:03.881Z",
      "execution_time": "5ms",
      "outputs": [],
      "source": "def create_date_col(df, col):\n    \"\"\"\n    This function helps to create a datetime column in the data \n    \"\"\"\n    return pd.to_datetime(df[col])\n    ",
      "start_time": "2022-08-08T17:56:03.876Z"
     },
     {
      "end_time": "2022-08-08T17:56:38.557Z",
      "execution_time": "3ms",
      "outputs": [],
      "source": "def create_date_col(df, col):\n    \"\"\"\n    This function helps to create a datetime column from an object \n    and returns datetime datatype\n    \"\"\"\n    return pd.to_datetime(df[col])\n    ",
      "start_time": "2022-08-08T17:56:38.554Z"
     },
     {
      "end_time": "2022-08-08T17:56:51.178Z",
      "execution_time": "4ms",
      "outputs": [],
      "source": "def create_date_col(df, col):\n    \"\"\"\n    This function helps to create a datetime column from an object \n    and returns datetime datatype\n    \"\"\"\n    return pd.to_datetime(df[col])\n    ",
      "start_time": "2022-08-08T17:56:51.174Z"
     },
     {
      "end_time": "2022-08-08T18:45:16.724Z",
      "execution_time": "3ms",
      "outputs": [],
      "source": "def create_date_col(df, col):\n    \"\"\"\n    This function helps to create a datetime column from an object \n    and returns datetime datatype\n    \"\"\"\n    return pd.to_datetime(df[col])\n    ",
      "start_time": "2022-08-08T18:45:16.721Z"
     },
     {
      "end_time": "2022-08-08T23:10:16.831Z",
      "execution_time": "3ms",
      "outputs": [],
      "source": "def create_date_col(df, col):\n    \"\"\"\n    This function helps to create a datetime column from an object \n    and returns datetime datatype\n    \"\"\"\n    return pd.to_datetime(df[col])\n    ",
      "start_time": "2022-08-08T23:10:16.828Z"
     }
    ]
   },
   "outputs": [],
   "source": [
    "def create_date_col(df, col):\n",
    "    \"\"\"\n",
    "    This function helps to create a datetime column from an object \n",
    "    and returns datetime datatype\n",
    "    \"\"\"\n",
    "    return pd.to_datetime(df[col])\n",
    "    "
   ]
  },
  {
   "cell_type": "code",
   "execution_count": 8,
   "metadata": {
    "ExecutionTime": {
     "end_time": "2022-08-08T23:10:17.160358Z",
     "start_time": "2022-08-08T23:10:16.833194Z"
    },
    "provenance": [
     {
      "end_time": "2022-08-08T17:56:49.319Z",
      "execution_time": "23ms",
      "outputs": [
       {
        "data": {
         "text/plain": "0       2015-06-09\n1       2015-05-13\n2       2015-03-18\n3       2015-12-15\n4       2015-04-01\n           ...    \n10861   2066-06-15\n10862   2066-12-21\n10863   2066-01-01\n10864   2066-11-02\n10865   2066-11-15\nName: release_date, Length: 10865, dtype: datetime64[ns]"
        },
        "execution_count": 22,
        "metadata": {},
        "output_type": "execute_result"
       }
      ],
      "source": "create_date_col(df, 'release_date')",
      "start_time": "2022-08-08T17:56:49.296Z"
     },
     {
      "end_time": "2022-08-08T17:57:28.540Z",
      "execution_time": "70ms",
      "outputs": [],
      "source": "# convert release date to datetime using the column created above\ndf['release_date'] = create_date_col(df, 'release_date')",
      "start_time": "2022-08-08T17:57:28.470Z"
     },
     {
      "end_time": "2022-08-08T18:45:17.030Z",
      "execution_time": "303ms",
      "outputs": [],
      "source": "# convert release date to datetime using the column created above\ndf['release_date'] = create_date_col(df, 'release_date')",
      "start_time": "2022-08-08T18:45:16.727Z"
     },
     {
      "end_time": "2022-08-08T23:10:17.160Z",
      "execution_time": "327ms",
      "outputs": [],
      "source": "# convert release date to datetime using the column created above\ndf['release_date'] = create_date_col(df, 'release_date')",
      "start_time": "2022-08-08T23:10:16.833Z"
     }
    ]
   },
   "outputs": [],
   "source": [
    "# convert release date to datetime using the column created above\n",
    "df['release_date'] = create_date_col(df, 'release_date')"
   ]
  },
  {
   "cell_type": "code",
   "execution_count": 9,
   "metadata": {
    "ExecutionTime": {
     "end_time": "2022-08-08T23:10:17.168533Z",
     "start_time": "2022-08-08T23:10:17.162624Z"
    },
    "provenance": [
     {
      "end_time": "Unknown",
      "execution_time": "Unknown",
      "outputs": [
       {
        "data": {
         "text/plain": "id                               int64\nimdb_id                         object\npopularity                     float64\nbudget                           int64\nrevenue                          int64\noriginal_title                  object\ncast                            object\nhomepage                        object\ndirector                        object\ntagline                         object\nkeywords                        object\noverview                        object\nruntime                          int64\ngenres                          object\nproduction_companies            object\nrelease_date            datetime64[ns]\nvote_count                       int64\nvote_average                   float64\nrelease_year                     int64\nbudget_adj                     float64\nrevenue_adj                    float64\ndtype: object"
        },
        "execution_count": 30,
        "metadata": {},
        "output_type": "execute_result"
       }
      ],
      "source": "df.dtypes",
      "start_time": "Unknown"
     },
     {
      "end_time": "2022-08-08T17:50:06.837Z",
      "execution_time": "14ms",
      "outputs": [
       {
        "data": {
         "text/plain": "id                               int64\nimdb_id                         object\npopularity                     float64\nbudget                           int64\nrevenue                          int64\noriginal_title                  object\ncast                            object\nhomepage                        object\ndirector                        object\ntagline                         object\nkeywords                        object\noverview                        object\nruntime                          int64\ngenres                          object\nproduction_companies            object\nrelease_date            datetime64[ns]\nvote_count                       int64\nvote_average                   float64\nrelease_year                     int64\nbudget_adj                     float64\nrevenue_adj                    float64\ndtype: object"
        },
        "execution_count": 7,
        "metadata": {},
        "output_type": "execute_result"
       }
      ],
      "source": "df.dtypes",
      "start_time": "2022-08-08T17:50:06.823Z"
     },
     {
      "end_time": "2022-08-08T18:45:17.039Z",
      "execution_time": "6ms",
      "outputs": [
       {
        "data": {
         "text/plain": "id                               int64\nimdb_id                         object\npopularity                     float64\nbudget                           int64\nrevenue                          int64\noriginal_title                  object\ncast                            object\nhomepage                        object\ndirector                        object\ntagline                         object\nkeywords                        object\noverview                        object\nruntime                          int64\ngenres                          object\nproduction_companies            object\nrelease_date            datetime64[ns]\nvote_count                       int64\nvote_average                   float64\nrelease_year                     int64\nbudget_adj                     float64\nrevenue_adj                    float64\ndtype: object"
        },
        "execution_count": 43,
        "metadata": {},
        "output_type": "execute_result"
       }
      ],
      "source": "df.dtypes",
      "start_time": "2022-08-08T18:45:17.033Z"
     },
     {
      "end_time": "2022-08-08T23:10:17.168Z",
      "execution_time": "6ms",
      "outputs": [
       {
        "data": {
         "text/plain": "id                               int64\nimdb_id                         object\npopularity                     float64\nbudget                           int64\nrevenue                          int64\noriginal_title                  object\ncast                            object\nhomepage                        object\ndirector                        object\ntagline                         object\nkeywords                        object\noverview                        object\nruntime                          int64\ngenres                          object\nproduction_companies            object\nrelease_date            datetime64[ns]\nvote_count                       int64\nvote_average                   float64\nrelease_year                     int64\nbudget_adj                     float64\nrevenue_adj                    float64\ndtype: object"
        },
        "execution_count": 9,
        "metadata": {},
        "output_type": "execute_result"
       }
      ],
      "source": "df.dtypes",
      "start_time": "2022-08-08T23:10:17.162Z"
     }
    ]
   },
   "outputs": [
    {
     "data": {
      "text/plain": [
       "id                               int64\n",
       "imdb_id                         object\n",
       "popularity                     float64\n",
       "budget                           int64\n",
       "revenue                          int64\n",
       "original_title                  object\n",
       "cast                            object\n",
       "homepage                        object\n",
       "director                        object\n",
       "tagline                         object\n",
       "keywords                        object\n",
       "overview                        object\n",
       "runtime                          int64\n",
       "genres                          object\n",
       "production_companies            object\n",
       "release_date            datetime64[ns]\n",
       "vote_count                       int64\n",
       "vote_average                   float64\n",
       "release_year                     int64\n",
       "budget_adj                     float64\n",
       "revenue_adj                    float64\n",
       "dtype: object"
      ]
     },
     "execution_count": 9,
     "metadata": {},
     "output_type": "execute_result"
    }
   ],
   "source": [
    "df.dtypes"
   ]
  },
  {
   "cell_type": "markdown",
   "metadata": {
    "provenance": [
     {
      "last_modified": "2022-08-07T20:20:48.458Z",
      "source": "Number of null values in each column"
     }
    ]
   },
   "source": [
    "Number of null values in each column"
   ]
  },
  {
   "cell_type": "code",
   "execution_count": 10,
   "metadata": {
    "ExecutionTime": {
     "end_time": "2022-08-08T23:10:17.190016Z",
     "start_time": "2022-08-08T23:10:17.170722Z"
    },
    "provenance": [
     {
      "end_time": "Unknown",
      "execution_time": "Unknown",
      "outputs": [
       {
        "data": {
         "text/plain": "homepage                7930\ntagline                 2824\nkeywords                1493\nproduction_companies    1030\ncast                      76\ndirector                  44\ngenres                    23\nimdb_id                   10\noverview                   4\nbudget_adj                 0\nrelease_year               0\nvote_average               0\nvote_count                 0\nrelease_date               0\nid                         0\nruntime                    0\noriginal_title             0\nrevenue                    0\nbudget                     0\npopularity                 0\nrevenue_adj                0\ndtype: int64"
        },
        "execution_count": 31,
        "metadata": {},
        "output_type": "execute_result"
       }
      ],
      "source": "df.isnull().sum().sort_values(ascending= False)",
      "start_time": "Unknown"
     },
     {
      "end_time": "2022-08-08T17:50:06.891Z",
      "execution_time": "41ms",
      "outputs": [
       {
        "data": {
         "text/plain": "homepage                7930\ntagline                 2824\nkeywords                1493\nproduction_companies    1030\ncast                      76\ndirector                  44\ngenres                    23\nimdb_id                   10\noverview                   4\nbudget_adj                 0\nrelease_year               0\nvote_average               0\nvote_count                 0\nrelease_date               0\nid                         0\nruntime                    0\noriginal_title             0\nrevenue                    0\nbudget                     0\npopularity                 0\nrevenue_adj                0\ndtype: int64"
        },
        "execution_count": 8,
        "metadata": {},
        "output_type": "execute_result"
       }
      ],
      "source": "df.isnull().sum().sort_values(ascending= False)",
      "start_time": "2022-08-08T17:50:06.850Z"
     },
     {
      "end_time": "2022-08-08T18:45:17.067Z",
      "execution_time": "25ms",
      "outputs": [
       {
        "data": {
         "text/plain": "homepage                7930\ntagline                 2824\nkeywords                1493\nproduction_companies    1030\ncast                      76\ndirector                  44\ngenres                    23\nimdb_id                   10\noverview                   4\nbudget_adj                 0\nrelease_year               0\nvote_average               0\nvote_count                 0\nrelease_date               0\nid                         0\nruntime                    0\noriginal_title             0\nrevenue                    0\nbudget                     0\npopularity                 0\nrevenue_adj                0\ndtype: int64"
        },
        "execution_count": 44,
        "metadata": {},
        "output_type": "execute_result"
       }
      ],
      "source": "df.isnull().sum().sort_values(ascending= False)",
      "start_time": "2022-08-08T18:45:17.042Z"
     },
     {
      "end_time": "2022-08-08T23:10:17.190Z",
      "execution_time": "20ms",
      "outputs": [
       {
        "data": {
         "text/plain": "homepage                7930\ntagline                 2824\nkeywords                1493\nproduction_companies    1030\ncast                      76\ndirector                  44\ngenres                    23\nimdb_id                   10\noverview                   4\nbudget_adj                 0\nrelease_year               0\nvote_average               0\nvote_count                 0\nrelease_date               0\nid                         0\nruntime                    0\noriginal_title             0\nrevenue                    0\nbudget                     0\npopularity                 0\nrevenue_adj                0\ndtype: int64"
        },
        "execution_count": 10,
        "metadata": {},
        "output_type": "execute_result"
       }
      ],
      "source": "df.isnull().sum().sort_values(ascending= False)",
      "start_time": "2022-08-08T23:10:17.170Z"
     }
    ]
   },
   "outputs": [
    {
     "data": {
      "text/plain": [
       "homepage                7930\n",
       "tagline                 2824\n",
       "keywords                1493\n",
       "production_companies    1030\n",
       "cast                      76\n",
       "director                  44\n",
       "genres                    23\n",
       "imdb_id                   10\n",
       "overview                   4\n",
       "budget_adj                 0\n",
       "release_year               0\n",
       "vote_average               0\n",
       "vote_count                 0\n",
       "release_date               0\n",
       "id                         0\n",
       "runtime                    0\n",
       "original_title             0\n",
       "revenue                    0\n",
       "budget                     0\n",
       "popularity                 0\n",
       "revenue_adj                0\n",
       "dtype: int64"
      ]
     },
     "execution_count": 10,
     "metadata": {},
     "output_type": "execute_result"
    }
   ],
   "source": [
    "df.isnull().sum().sort_values(ascending= False)"
   ]
  },
  {
   "cell_type": "markdown",
   "metadata": {
    "provenance": [
     {
      "last_modified": "2022-08-07T20:20:48.458Z",
      "source": "Filling null values with **no information** because forward fill, backward fill, mode and median fill is not reasonable for this type of data."
     }
    ]
   },
   "source": [
    "Filling null values with **no information** because forward fill, backward fill, mode and median fill is not reasonable for this type of data."
   ]
  },
  {
   "cell_type": "code",
   "execution_count": 11,
   "metadata": {
    "ExecutionTime": {
     "end_time": "2022-08-08T23:10:17.246051Z",
     "start_time": "2022-08-08T23:10:17.195207Z"
    },
    "provenance": [
     {
      "end_time": "Unknown",
      "execution_time": "Unknown",
      "outputs": [
       {
        "data": {
         "text/plain": "id                      0\nimdb_id                 0\npopularity              0\nbudget                  0\nrevenue                 0\noriginal_title          0\ncast                    0\nhomepage                0\ndirector                0\ntagline                 0\nkeywords                0\noverview                0\nruntime                 0\ngenres                  0\nproduction_companies    0\nrelease_date            0\nvote_count              0\nvote_average            0\nrelease_year            0\nbudget_adj              0\nrevenue_adj             0\ndtype: int64"
        },
        "execution_count": 32,
        "metadata": {},
        "output_type": "execute_result"
       }
      ],
      "source": "df.fillna(value = \"no information\", inplace= True)\n\n#confirming that there are no null values in the dataframe.\ndf.isnull().sum()",
      "start_time": "Unknown"
     },
     {
      "end_time": "2022-08-08T17:50:06.977Z",
      "execution_time": "80ms",
      "outputs": [
       {
        "data": {
         "text/plain": "id                      0\nimdb_id                 0\npopularity              0\nbudget                  0\nrevenue                 0\noriginal_title          0\ncast                    0\nhomepage                0\ndirector                0\ntagline                 0\nkeywords                0\noverview                0\nruntime                 0\ngenres                  0\nproduction_companies    0\nrelease_date            0\nvote_count              0\nvote_average            0\nrelease_year            0\nbudget_adj              0\nrevenue_adj             0\ndtype: int64"
        },
        "execution_count": 9,
        "metadata": {},
        "output_type": "execute_result"
       }
      ],
      "source": "df.fillna(value = \"no information\", inplace= True)\n\n#confirming that there are no null values in the dataframe.\ndf.isnull().sum()",
      "start_time": "2022-08-08T17:50:06.897Z"
     },
     {
      "end_time": "2022-08-08T18:45:17.142Z",
      "execution_time": "69ms",
      "outputs": [
       {
        "data": {
         "text/plain": "id                      0\nimdb_id                 0\npopularity              0\nbudget                  0\nrevenue                 0\noriginal_title          0\ncast                    0\nhomepage                0\ndirector                0\ntagline                 0\nkeywords                0\noverview                0\nruntime                 0\ngenres                  0\nproduction_companies    0\nrelease_date            0\nvote_count              0\nvote_average            0\nrelease_year            0\nbudget_adj              0\nrevenue_adj             0\ndtype: int64"
        },
        "execution_count": 45,
        "metadata": {},
        "output_type": "execute_result"
       }
      ],
      "source": "df.fillna(value = \"no information\", inplace= True)\n#confirming that there are no null values in the dataframe.\ndf.isnull().sum()",
      "start_time": "2022-08-08T18:45:17.073Z"
     },
     {
      "end_time": "2022-08-08T23:10:17.246Z",
      "execution_time": "51ms",
      "outputs": [
       {
        "data": {
         "text/plain": "id                      0\nimdb_id                 0\npopularity              0\nbudget                  0\nrevenue                 0\noriginal_title          0\ncast                    0\nhomepage                0\ndirector                0\ntagline                 0\nkeywords                0\noverview                0\nruntime                 0\ngenres                  0\nproduction_companies    0\nrelease_date            0\nvote_count              0\nvote_average            0\nrelease_year            0\nbudget_adj              0\nrevenue_adj             0\ndtype: int64"
        },
        "execution_count": 11,
        "metadata": {},
        "output_type": "execute_result"
       }
      ],
      "source": "df.fillna(value = \"no information\", inplace= True)\n#confirming that there are no null values in the dataframe.\ndf.isnull().sum()",
      "start_time": "2022-08-08T23:10:17.195Z"
     }
    ]
   },
   "outputs": [
    {
     "data": {
      "text/plain": [
       "id                      0\n",
       "imdb_id                 0\n",
       "popularity              0\n",
       "budget                  0\n",
       "revenue                 0\n",
       "original_title          0\n",
       "cast                    0\n",
       "homepage                0\n",
       "director                0\n",
       "tagline                 0\n",
       "keywords                0\n",
       "overview                0\n",
       "runtime                 0\n",
       "genres                  0\n",
       "production_companies    0\n",
       "release_date            0\n",
       "vote_count              0\n",
       "vote_average            0\n",
       "release_year            0\n",
       "budget_adj              0\n",
       "revenue_adj             0\n",
       "dtype: int64"
      ]
     },
     "execution_count": 11,
     "metadata": {},
     "output_type": "execute_result"
    }
   ],
   "source": [
    "df.fillna(value = \"no information\", inplace= True)\n",
    "#confirming that there are no null values in the dataframe.\n",
    "df.isnull().sum()"
   ]
  },
  {
   "cell_type": "code",
   "execution_count": 12,
   "metadata": {
    "ExecutionTime": {
     "end_time": "2022-08-08T23:10:17.285198Z",
     "start_time": "2022-08-08T23:10:17.247958Z"
    },
    "provenance": [
     {
      "end_time": "Unknown",
      "execution_time": "Unknown",
      "outputs": [
       {
        "data": {
         "text/plain": "1"
        },
        "execution_count": 33,
        "metadata": {},
        "output_type": "execute_result"
       }
      ],
      "source": "#Checking for duplicates in the dataframe\ndf.duplicated().sum()",
      "start_time": "Unknown"
     },
     {
      "end_time": "2022-08-08T17:50:07.024Z",
      "execution_time": "40ms",
      "outputs": [
       {
        "data": {
         "text/plain": "1"
        },
        "execution_count": 10,
        "metadata": {},
        "output_type": "execute_result"
       }
      ],
      "source": "#Checking for duplicates in the dataframe\ndf.duplicated().sum()",
      "start_time": "2022-08-08T17:50:06.984Z"
     },
     {
      "end_time": "2022-08-08T18:45:17.194Z",
      "execution_time": "48ms",
      "outputs": [
       {
        "data": {
         "text/plain": "1"
        },
        "execution_count": 46,
        "metadata": {},
        "output_type": "execute_result"
       }
      ],
      "source": "#Checking for duplicates in the dataframe\ndf.duplicated().sum()",
      "start_time": "2022-08-08T18:45:17.146Z"
     },
     {
      "end_time": "2022-08-08T23:10:17.285Z",
      "execution_time": "38ms",
      "outputs": [
       {
        "data": {
         "text/plain": "1"
        },
        "execution_count": 12,
        "metadata": {},
        "output_type": "execute_result"
       }
      ],
      "source": "#Checking for duplicates in the dataframe\ndf.duplicated().sum()",
      "start_time": "2022-08-08T23:10:17.247Z"
     }
    ]
   },
   "outputs": [
    {
     "data": {
      "text/plain": [
       "1"
      ]
     },
     "execution_count": 12,
     "metadata": {},
     "output_type": "execute_result"
    }
   ],
   "source": [
    "#Checking for duplicates in the dataframe\n",
    "df.duplicated().sum()"
   ]
  },
  {
   "cell_type": "code",
   "execution_count": 13,
   "metadata": {
    "ExecutionTime": {
     "end_time": "2022-08-08T23:10:17.342576Z",
     "start_time": "2022-08-08T23:10:17.287112Z"
    },
    "provenance": [
     {
      "end_time": "Unknown",
      "execution_time": "Unknown",
      "outputs": [
       {
        "data": {
         "text/html": "<div>\n<style scoped>\n    .dataframe tbody tr th:only-of-type {\n        vertical-align: middle;\n    }\n\n    .dataframe tbody tr th {\n        vertical-align: top;\n    }\n\n    .dataframe thead th {\n        text-align: right;\n    }\n</style>\n<table border=\"1\" class=\"dataframe\">\n  <thead>\n    <tr style=\"text-align: right;\">\n      <th></th>\n      <th>id</th>\n      <th>imdb_id</th>\n      <th>popularity</th>\n      <th>budget</th>\n      <th>revenue</th>\n      <th>original_title</th>\n      <th>cast</th>\n      <th>homepage</th>\n      <th>director</th>\n      <th>tagline</th>\n      <th>...</th>\n      <th>overview</th>\n      <th>runtime</th>\n      <th>genres</th>\n      <th>production_companies</th>\n      <th>release_date</th>\n      <th>vote_count</th>\n      <th>vote_average</th>\n      <th>release_year</th>\n      <th>budget_adj</th>\n      <th>revenue_adj</th>\n    </tr>\n  </thead>\n  <tbody>\n    <tr>\n      <th>2089</th>\n      <td>42194</td>\n      <td>tt0411951</td>\n      <td>0.59643</td>\n      <td>30000000</td>\n      <td>967000</td>\n      <td>TEKKEN</td>\n      <td>Jon Foo|Kelly Overton|Cary-Hiroyuki Tagawa|Ian...</td>\n      <td>no information</td>\n      <td>Dwight H. Little</td>\n      <td>Survival is no game</td>\n      <td>...</td>\n      <td>In the year of 2039, after World Wars destroy ...</td>\n      <td>92</td>\n      <td>Crime|Drama|Action|Thriller|Science Fiction</td>\n      <td>Namco|Light Song Films</td>\n      <td>2010-03-20</td>\n      <td>110</td>\n      <td>5.0</td>\n      <td>2010</td>\n      <td>30000000.0</td>\n      <td>967000.0</td>\n    </tr>\n    <tr>\n      <th>2090</th>\n      <td>42194</td>\n      <td>tt0411951</td>\n      <td>0.59643</td>\n      <td>30000000</td>\n      <td>967000</td>\n      <td>TEKKEN</td>\n      <td>Jon Foo|Kelly Overton|Cary-Hiroyuki Tagawa|Ian...</td>\n      <td>no information</td>\n      <td>Dwight H. Little</td>\n      <td>Survival is no game</td>\n      <td>...</td>\n      <td>In the year of 2039, after World Wars destroy ...</td>\n      <td>92</td>\n      <td>Crime|Drama|Action|Thriller|Science Fiction</td>\n      <td>Namco|Light Song Films</td>\n      <td>2010-03-20</td>\n      <td>110</td>\n      <td>5.0</td>\n      <td>2010</td>\n      <td>30000000.0</td>\n      <td>967000.0</td>\n    </tr>\n  </tbody>\n</table>\n<p>2 rows × 21 columns</p>\n</div>",
         "text/plain": "         id    imdb_id  popularity    budget  revenue original_title  \\\n2089  42194  tt0411951     0.59643  30000000   967000         TEKKEN   \n2090  42194  tt0411951     0.59643  30000000   967000         TEKKEN   \n\n                                                   cast        homepage  \\\n2089  Jon Foo|Kelly Overton|Cary-Hiroyuki Tagawa|Ian...  no information   \n2090  Jon Foo|Kelly Overton|Cary-Hiroyuki Tagawa|Ian...  no information   \n\n              director              tagline  ...  \\\n2089  Dwight H. Little  Survival is no game  ...   \n2090  Dwight H. Little  Survival is no game  ...   \n\n                                               overview runtime  \\\n2089  In the year of 2039, after World Wars destroy ...      92   \n2090  In the year of 2039, after World Wars destroy ...      92   \n\n                                           genres    production_companies  \\\n2089  Crime|Drama|Action|Thriller|Science Fiction  Namco|Light Song Films   \n2090  Crime|Drama|Action|Thriller|Science Fiction  Namco|Light Song Films   \n\n     release_date vote_count  vote_average  release_year  budget_adj  \\\n2089   2010-03-20        110           5.0          2010  30000000.0   \n2090   2010-03-20        110           5.0          2010  30000000.0   \n\n      revenue_adj  \n2089     967000.0  \n2090     967000.0  \n\n[2 rows x 21 columns]"
        },
        "execution_count": 34,
        "metadata": {},
        "output_type": "execute_result"
       }
      ],
      "source": "#checking through the duplicated rows for confirmation before dropping.\ndf[df.duplicated(keep=False)]",
      "start_time": "Unknown"
     },
     {
      "end_time": "2022-08-08T17:50:07.082Z",
      "execution_time": "55ms",
      "outputs": [
       {
        "data": {
         "text/html": "<div>\n<style scoped>\n    .dataframe tbody tr th:only-of-type {\n        vertical-align: middle;\n    }\n\n    .dataframe tbody tr th {\n        vertical-align: top;\n    }\n\n    .dataframe thead th {\n        text-align: right;\n    }\n</style>\n<table border=\"1\" class=\"dataframe\">\n  <thead>\n    <tr style=\"text-align: right;\">\n      <th></th>\n      <th>id</th>\n      <th>imdb_id</th>\n      <th>popularity</th>\n      <th>budget</th>\n      <th>revenue</th>\n      <th>original_title</th>\n      <th>cast</th>\n      <th>homepage</th>\n      <th>director</th>\n      <th>tagline</th>\n      <th>...</th>\n      <th>overview</th>\n      <th>runtime</th>\n      <th>genres</th>\n      <th>production_companies</th>\n      <th>release_date</th>\n      <th>vote_count</th>\n      <th>vote_average</th>\n      <th>release_year</th>\n      <th>budget_adj</th>\n      <th>revenue_adj</th>\n    </tr>\n  </thead>\n  <tbody>\n    <tr>\n      <th>2089</th>\n      <td>42194</td>\n      <td>tt0411951</td>\n      <td>0.59643</td>\n      <td>30000000</td>\n      <td>967000</td>\n      <td>TEKKEN</td>\n      <td>Jon Foo|Kelly Overton|Cary-Hiroyuki Tagawa|Ian...</td>\n      <td>no information</td>\n      <td>Dwight H. Little</td>\n      <td>Survival is no game</td>\n      <td>...</td>\n      <td>In the year of 2039, after World Wars destroy ...</td>\n      <td>92</td>\n      <td>Crime|Drama|Action|Thriller|Science Fiction</td>\n      <td>Namco|Light Song Films</td>\n      <td>2010-03-20</td>\n      <td>110</td>\n      <td>5.0</td>\n      <td>2010</td>\n      <td>30000000.0</td>\n      <td>967000.0</td>\n    </tr>\n    <tr>\n      <th>2090</th>\n      <td>42194</td>\n      <td>tt0411951</td>\n      <td>0.59643</td>\n      <td>30000000</td>\n      <td>967000</td>\n      <td>TEKKEN</td>\n      <td>Jon Foo|Kelly Overton|Cary-Hiroyuki Tagawa|Ian...</td>\n      <td>no information</td>\n      <td>Dwight H. Little</td>\n      <td>Survival is no game</td>\n      <td>...</td>\n      <td>In the year of 2039, after World Wars destroy ...</td>\n      <td>92</td>\n      <td>Crime|Drama|Action|Thriller|Science Fiction</td>\n      <td>Namco|Light Song Films</td>\n      <td>2010-03-20</td>\n      <td>110</td>\n      <td>5.0</td>\n      <td>2010</td>\n      <td>30000000.0</td>\n      <td>967000.0</td>\n    </tr>\n  </tbody>\n</table>\n<p>2 rows × 21 columns</p>\n</div>",
         "text/plain": "         id    imdb_id  popularity    budget  revenue original_title  \\\n2089  42194  tt0411951     0.59643  30000000   967000         TEKKEN   \n2090  42194  tt0411951     0.59643  30000000   967000         TEKKEN   \n\n                                                   cast        homepage  \\\n2089  Jon Foo|Kelly Overton|Cary-Hiroyuki Tagawa|Ian...  no information   \n2090  Jon Foo|Kelly Overton|Cary-Hiroyuki Tagawa|Ian...  no information   \n\n              director              tagline  ...  \\\n2089  Dwight H. Little  Survival is no game  ...   \n2090  Dwight H. Little  Survival is no game  ...   \n\n                                               overview runtime  \\\n2089  In the year of 2039, after World Wars destroy ...      92   \n2090  In the year of 2039, after World Wars destroy ...      92   \n\n                                           genres    production_companies  \\\n2089  Crime|Drama|Action|Thriller|Science Fiction  Namco|Light Song Films   \n2090  Crime|Drama|Action|Thriller|Science Fiction  Namco|Light Song Films   \n\n     release_date vote_count  vote_average  release_year  budget_adj  \\\n2089   2010-03-20        110           5.0          2010  30000000.0   \n2090   2010-03-20        110           5.0          2010  30000000.0   \n\n      revenue_adj  \n2089     967000.0  \n2090     967000.0  \n\n[2 rows x 21 columns]"
        },
        "execution_count": 11,
        "metadata": {},
        "output_type": "execute_result"
       }
      ],
      "source": "#checking through the duplicated rows for confirmation before dropping.\ndf[df.duplicated(keep=False)]",
      "start_time": "2022-08-08T17:50:07.027Z"
     },
     {
      "end_time": "2022-08-08T18:45:17.265Z",
      "execution_time": "68ms",
      "outputs": [
       {
        "data": {
         "text/html": "<div>\n<style scoped>\n    .dataframe tbody tr th:only-of-type {\n        vertical-align: middle;\n    }\n\n    .dataframe tbody tr th {\n        vertical-align: top;\n    }\n\n    .dataframe thead th {\n        text-align: right;\n    }\n</style>\n<table border=\"1\" class=\"dataframe\">\n  <thead>\n    <tr style=\"text-align: right;\">\n      <th></th>\n      <th>id</th>\n      <th>imdb_id</th>\n      <th>popularity</th>\n      <th>budget</th>\n      <th>revenue</th>\n      <th>original_title</th>\n      <th>cast</th>\n      <th>homepage</th>\n      <th>director</th>\n      <th>tagline</th>\n      <th>...</th>\n      <th>overview</th>\n      <th>runtime</th>\n      <th>genres</th>\n      <th>production_companies</th>\n      <th>release_date</th>\n      <th>vote_count</th>\n      <th>vote_average</th>\n      <th>release_year</th>\n      <th>budget_adj</th>\n      <th>revenue_adj</th>\n    </tr>\n  </thead>\n  <tbody>\n    <tr>\n      <th>2089</th>\n      <td>42194</td>\n      <td>tt0411951</td>\n      <td>0.59643</td>\n      <td>30000000</td>\n      <td>967000</td>\n      <td>TEKKEN</td>\n      <td>Jon Foo|Kelly Overton|Cary-Hiroyuki Tagawa|Ian...</td>\n      <td>no information</td>\n      <td>Dwight H. Little</td>\n      <td>Survival is no game</td>\n      <td>...</td>\n      <td>In the year of 2039, after World Wars destroy ...</td>\n      <td>92</td>\n      <td>Crime|Drama|Action|Thriller|Science Fiction</td>\n      <td>Namco|Light Song Films</td>\n      <td>2010-03-20</td>\n      <td>110</td>\n      <td>5.0</td>\n      <td>2010</td>\n      <td>30000000.0</td>\n      <td>967000.0</td>\n    </tr>\n    <tr>\n      <th>2090</th>\n      <td>42194</td>\n      <td>tt0411951</td>\n      <td>0.59643</td>\n      <td>30000000</td>\n      <td>967000</td>\n      <td>TEKKEN</td>\n      <td>Jon Foo|Kelly Overton|Cary-Hiroyuki Tagawa|Ian...</td>\n      <td>no information</td>\n      <td>Dwight H. Little</td>\n      <td>Survival is no game</td>\n      <td>...</td>\n      <td>In the year of 2039, after World Wars destroy ...</td>\n      <td>92</td>\n      <td>Crime|Drama|Action|Thriller|Science Fiction</td>\n      <td>Namco|Light Song Films</td>\n      <td>2010-03-20</td>\n      <td>110</td>\n      <td>5.0</td>\n      <td>2010</td>\n      <td>30000000.0</td>\n      <td>967000.0</td>\n    </tr>\n  </tbody>\n</table>\n<p>2 rows × 21 columns</p>\n</div>",
         "text/plain": "         id    imdb_id  popularity    budget  revenue original_title  \\\n2089  42194  tt0411951     0.59643  30000000   967000         TEKKEN   \n2090  42194  tt0411951     0.59643  30000000   967000         TEKKEN   \n\n                                                   cast        homepage  \\\n2089  Jon Foo|Kelly Overton|Cary-Hiroyuki Tagawa|Ian...  no information   \n2090  Jon Foo|Kelly Overton|Cary-Hiroyuki Tagawa|Ian...  no information   \n\n              director              tagline  ...  \\\n2089  Dwight H. Little  Survival is no game  ...   \n2090  Dwight H. Little  Survival is no game  ...   \n\n                                               overview runtime  \\\n2089  In the year of 2039, after World Wars destroy ...      92   \n2090  In the year of 2039, after World Wars destroy ...      92   \n\n                                           genres    production_companies  \\\n2089  Crime|Drama|Action|Thriller|Science Fiction  Namco|Light Song Films   \n2090  Crime|Drama|Action|Thriller|Science Fiction  Namco|Light Song Films   \n\n     release_date vote_count  vote_average  release_year  budget_adj  \\\n2089   2010-03-20        110           5.0          2010  30000000.0   \n2090   2010-03-20        110           5.0          2010  30000000.0   \n\n      revenue_adj  \n2089     967000.0  \n2090     967000.0  \n\n[2 rows x 21 columns]"
        },
        "execution_count": 47,
        "metadata": {},
        "output_type": "execute_result"
       }
      ],
      "source": "#checking through the duplicated rows for confirmation before dropping.\ndf[df.duplicated(keep=False)]",
      "start_time": "2022-08-08T18:45:17.197Z"
     },
     {
      "end_time": "2022-08-08T23:10:17.342Z",
      "execution_time": "55ms",
      "outputs": [
       {
        "data": {
         "text/html": "<div>\n<style scoped>\n    .dataframe tbody tr th:only-of-type {\n        vertical-align: middle;\n    }\n\n    .dataframe tbody tr th {\n        vertical-align: top;\n    }\n\n    .dataframe thead th {\n        text-align: right;\n    }\n</style>\n<table border=\"1\" class=\"dataframe\">\n  <thead>\n    <tr style=\"text-align: right;\">\n      <th></th>\n      <th>id</th>\n      <th>imdb_id</th>\n      <th>popularity</th>\n      <th>budget</th>\n      <th>revenue</th>\n      <th>original_title</th>\n      <th>cast</th>\n      <th>homepage</th>\n      <th>director</th>\n      <th>tagline</th>\n      <th>...</th>\n      <th>overview</th>\n      <th>runtime</th>\n      <th>genres</th>\n      <th>production_companies</th>\n      <th>release_date</th>\n      <th>vote_count</th>\n      <th>vote_average</th>\n      <th>release_year</th>\n      <th>budget_adj</th>\n      <th>revenue_adj</th>\n    </tr>\n  </thead>\n  <tbody>\n    <tr>\n      <th>2089</th>\n      <td>42194</td>\n      <td>tt0411951</td>\n      <td>0.59643</td>\n      <td>30000000</td>\n      <td>967000</td>\n      <td>TEKKEN</td>\n      <td>Jon Foo|Kelly Overton|Cary-Hiroyuki Tagawa|Ian...</td>\n      <td>no information</td>\n      <td>Dwight H. Little</td>\n      <td>Survival is no game</td>\n      <td>...</td>\n      <td>In the year of 2039, after World Wars destroy ...</td>\n      <td>92</td>\n      <td>Crime|Drama|Action|Thriller|Science Fiction</td>\n      <td>Namco|Light Song Films</td>\n      <td>2010-03-20</td>\n      <td>110</td>\n      <td>5.0</td>\n      <td>2010</td>\n      <td>30000000.0</td>\n      <td>967000.0</td>\n    </tr>\n    <tr>\n      <th>2090</th>\n      <td>42194</td>\n      <td>tt0411951</td>\n      <td>0.59643</td>\n      <td>30000000</td>\n      <td>967000</td>\n      <td>TEKKEN</td>\n      <td>Jon Foo|Kelly Overton|Cary-Hiroyuki Tagawa|Ian...</td>\n      <td>no information</td>\n      <td>Dwight H. Little</td>\n      <td>Survival is no game</td>\n      <td>...</td>\n      <td>In the year of 2039, after World Wars destroy ...</td>\n      <td>92</td>\n      <td>Crime|Drama|Action|Thriller|Science Fiction</td>\n      <td>Namco|Light Song Films</td>\n      <td>2010-03-20</td>\n      <td>110</td>\n      <td>5.0</td>\n      <td>2010</td>\n      <td>30000000.0</td>\n      <td>967000.0</td>\n    </tr>\n  </tbody>\n</table>\n<p>2 rows × 21 columns</p>\n</div>",
         "text/plain": "         id    imdb_id  popularity    budget  revenue original_title  \\\n2089  42194  tt0411951     0.59643  30000000   967000         TEKKEN   \n2090  42194  tt0411951     0.59643  30000000   967000         TEKKEN   \n\n                                                   cast        homepage  \\\n2089  Jon Foo|Kelly Overton|Cary-Hiroyuki Tagawa|Ian...  no information   \n2090  Jon Foo|Kelly Overton|Cary-Hiroyuki Tagawa|Ian...  no information   \n\n              director              tagline  ...  \\\n2089  Dwight H. Little  Survival is no game  ...   \n2090  Dwight H. Little  Survival is no game  ...   \n\n                                               overview runtime  \\\n2089  In the year of 2039, after World Wars destroy ...      92   \n2090  In the year of 2039, after World Wars destroy ...      92   \n\n                                           genres    production_companies  \\\n2089  Crime|Drama|Action|Thriller|Science Fiction  Namco|Light Song Films   \n2090  Crime|Drama|Action|Thriller|Science Fiction  Namco|Light Song Films   \n\n     release_date vote_count  vote_average  release_year  budget_adj  \\\n2089   2010-03-20        110           5.0          2010  30000000.0   \n2090   2010-03-20        110           5.0          2010  30000000.0   \n\n      revenue_adj  \n2089     967000.0  \n2090     967000.0  \n\n[2 rows x 21 columns]"
        },
        "execution_count": 13,
        "metadata": {},
        "output_type": "execute_result"
       }
      ],
      "source": "#checking through the duplicated rows for confirmation before dropping.\ndf[df.duplicated(keep=False)]",
      "start_time": "2022-08-08T23:10:17.287Z"
     }
    ]
   },
   "outputs": [
    {
     "data": {
      "text/html": [
       "<div>\n",
       "<style scoped>\n",
       "    .dataframe tbody tr th:only-of-type {\n",
       "        vertical-align: middle;\n",
       "    }\n",
       "\n",
       "    .dataframe tbody tr th {\n",
       "        vertical-align: top;\n",
       "    }\n",
       "\n",
       "    .dataframe thead th {\n",
       "        text-align: right;\n",
       "    }\n",
       "</style>\n",
       "<table border=\"1\" class=\"dataframe\">\n",
       "  <thead>\n",
       "    <tr style=\"text-align: right;\">\n",
       "      <th></th>\n",
       "      <th>id</th>\n",
       "      <th>imdb_id</th>\n",
       "      <th>popularity</th>\n",
       "      <th>budget</th>\n",
       "      <th>revenue</th>\n",
       "      <th>original_title</th>\n",
       "      <th>cast</th>\n",
       "      <th>homepage</th>\n",
       "      <th>director</th>\n",
       "      <th>tagline</th>\n",
       "      <th>...</th>\n",
       "      <th>overview</th>\n",
       "      <th>runtime</th>\n",
       "      <th>genres</th>\n",
       "      <th>production_companies</th>\n",
       "      <th>release_date</th>\n",
       "      <th>vote_count</th>\n",
       "      <th>vote_average</th>\n",
       "      <th>release_year</th>\n",
       "      <th>budget_adj</th>\n",
       "      <th>revenue_adj</th>\n",
       "    </tr>\n",
       "  </thead>\n",
       "  <tbody>\n",
       "    <tr>\n",
       "      <th>2089</th>\n",
       "      <td>42194</td>\n",
       "      <td>tt0411951</td>\n",
       "      <td>0.59643</td>\n",
       "      <td>30000000</td>\n",
       "      <td>967000</td>\n",
       "      <td>TEKKEN</td>\n",
       "      <td>Jon Foo|Kelly Overton|Cary-Hiroyuki Tagawa|Ian...</td>\n",
       "      <td>no information</td>\n",
       "      <td>Dwight H. Little</td>\n",
       "      <td>Survival is no game</td>\n",
       "      <td>...</td>\n",
       "      <td>In the year of 2039, after World Wars destroy ...</td>\n",
       "      <td>92</td>\n",
       "      <td>Crime|Drama|Action|Thriller|Science Fiction</td>\n",
       "      <td>Namco|Light Song Films</td>\n",
       "      <td>2010-03-20</td>\n",
       "      <td>110</td>\n",
       "      <td>5.0</td>\n",
       "      <td>2010</td>\n",
       "      <td>30000000.0</td>\n",
       "      <td>967000.0</td>\n",
       "    </tr>\n",
       "    <tr>\n",
       "      <th>2090</th>\n",
       "      <td>42194</td>\n",
       "      <td>tt0411951</td>\n",
       "      <td>0.59643</td>\n",
       "      <td>30000000</td>\n",
       "      <td>967000</td>\n",
       "      <td>TEKKEN</td>\n",
       "      <td>Jon Foo|Kelly Overton|Cary-Hiroyuki Tagawa|Ian...</td>\n",
       "      <td>no information</td>\n",
       "      <td>Dwight H. Little</td>\n",
       "      <td>Survival is no game</td>\n",
       "      <td>...</td>\n",
       "      <td>In the year of 2039, after World Wars destroy ...</td>\n",
       "      <td>92</td>\n",
       "      <td>Crime|Drama|Action|Thriller|Science Fiction</td>\n",
       "      <td>Namco|Light Song Films</td>\n",
       "      <td>2010-03-20</td>\n",
       "      <td>110</td>\n",
       "      <td>5.0</td>\n",
       "      <td>2010</td>\n",
       "      <td>30000000.0</td>\n",
       "      <td>967000.0</td>\n",
       "    </tr>\n",
       "  </tbody>\n",
       "</table>\n",
       "<p>2 rows × 21 columns</p>\n",
       "</div>"
      ],
      "text/plain": [
       "         id    imdb_id  popularity    budget  revenue original_title  \\\n",
       "2089  42194  tt0411951     0.59643  30000000   967000         TEKKEN   \n",
       "2090  42194  tt0411951     0.59643  30000000   967000         TEKKEN   \n",
       "\n",
       "                                                   cast        homepage  \\\n",
       "2089  Jon Foo|Kelly Overton|Cary-Hiroyuki Tagawa|Ian...  no information   \n",
       "2090  Jon Foo|Kelly Overton|Cary-Hiroyuki Tagawa|Ian...  no information   \n",
       "\n",
       "              director              tagline  ...  \\\n",
       "2089  Dwight H. Little  Survival is no game  ...   \n",
       "2090  Dwight H. Little  Survival is no game  ...   \n",
       "\n",
       "                                               overview runtime  \\\n",
       "2089  In the year of 2039, after World Wars destroy ...      92   \n",
       "2090  In the year of 2039, after World Wars destroy ...      92   \n",
       "\n",
       "                                           genres    production_companies  \\\n",
       "2089  Crime|Drama|Action|Thriller|Science Fiction  Namco|Light Song Films   \n",
       "2090  Crime|Drama|Action|Thriller|Science Fiction  Namco|Light Song Films   \n",
       "\n",
       "     release_date vote_count  vote_average  release_year  budget_adj  \\\n",
       "2089   2010-03-20        110           5.0          2010  30000000.0   \n",
       "2090   2010-03-20        110           5.0          2010  30000000.0   \n",
       "\n",
       "      revenue_adj  \n",
       "2089     967000.0  \n",
       "2090     967000.0  \n",
       "\n",
       "[2 rows x 21 columns]"
      ]
     },
     "execution_count": 13,
     "metadata": {},
     "output_type": "execute_result"
    }
   ],
   "source": [
    "#checking through the duplicated rows for confirmation before dropping.\n",
    "df[df.duplicated(keep=False)]"
   ]
  },
  {
   "cell_type": "code",
   "execution_count": 14,
   "metadata": {
    "ExecutionTime": {
     "end_time": "2022-08-08T23:10:17.414236Z",
     "start_time": "2022-08-08T23:10:17.344546Z"
    },
    "provenance": [
     {
      "end_time": "Unknown",
      "execution_time": "Unknown",
      "outputs": [
       {
        "data": {
         "text/plain": "0"
        },
        "execution_count": 35,
        "metadata": {},
        "output_type": "execute_result"
       }
      ],
      "source": "#Dropping the duplicates after confirmation\ndf.drop_duplicates(inplace=True)\n\n#checking to see if there are more duplicates after dropping\ndf.duplicated().sum()",
      "start_time": "Unknown"
     },
     {
      "end_time": "2022-08-08T17:50:07.143Z",
      "execution_time": "59ms",
      "outputs": [
       {
        "data": {
         "text/plain": "0"
        },
        "execution_count": 12,
        "metadata": {},
        "output_type": "execute_result"
       }
      ],
      "source": "#Dropping the duplicates after confirmation\ndf.drop_duplicates(inplace=True)\n\n#checking to see if there are more duplicates after dropping\ndf.duplicated().sum()",
      "start_time": "2022-08-08T17:50:07.084Z"
     },
     {
      "end_time": "2022-08-08T18:45:17.346Z",
      "execution_time": "77ms",
      "outputs": [
       {
        "data": {
         "text/plain": "0"
        },
        "execution_count": 48,
        "metadata": {},
        "output_type": "execute_result"
       }
      ],
      "source": "#Dropping the duplicates after confirmation\ndf.drop_duplicates(inplace=True)\n\n#checking to see if there are more duplicates after dropping\ndf.duplicated().sum()",
      "start_time": "2022-08-08T18:45:17.269Z"
     },
     {
      "end_time": "2022-08-08T23:10:17.414Z",
      "execution_time": "70ms",
      "outputs": [
       {
        "data": {
         "text/plain": "0"
        },
        "execution_count": 14,
        "metadata": {},
        "output_type": "execute_result"
       }
      ],
      "source": "#Dropping the duplicates after confirmation\ndf.drop_duplicates(inplace=True)\n\n#checking to see if there are more duplicates after dropping\ndf.duplicated().sum()",
      "start_time": "2022-08-08T23:10:17.344Z"
     }
    ]
   },
   "outputs": [
    {
     "data": {
      "text/plain": [
       "0"
      ]
     },
     "execution_count": 14,
     "metadata": {},
     "output_type": "execute_result"
    }
   ],
   "source": [
    "#Dropping the duplicates after confirmation\n",
    "df.drop_duplicates(inplace=True)\n",
    "\n",
    "#checking to see if there are more duplicates after dropping\n",
    "df.duplicated().sum()"
   ]
  },
  {
   "cell_type": "markdown",
   "metadata": {
    "provenance": [
     {
      "last_modified": "2022-08-07T20:20:48.458Z",
      "source": "<a id='eda'></a>\n## Exploratory Data Analysis\n\n\n### Research Question 1 ( How does the runtime affects the revenue)"
     }
    ]
   },
   "source": [
    "<a id='eda'></a>\n",
    "## Exploratory Data Analysis\n",
    "\n",
    "\n",
    "### Research Question 1 ( How does the runtime affects the revenue?)"
   ]
  },
  {
   "cell_type": "code",
   "execution_count": 15,
   "metadata": {
    "ExecutionTime": {
     "end_time": "2022-08-08T23:10:17.419750Z",
     "start_time": "2022-08-08T23:10:17.416191Z"
    },
    "provenance": [
     {
      "end_time": "Unknown",
      "execution_time": "Unknown",
      "outputs": [],
      "source": "def axis_title_plot(x_label, y_label, title):\n\n    \"\"\"generate x label, y label and title for a plot\n    it takes in the x_label, y_label, title\n    and print out its attributes on a plot\n    \"\"\"\n",
      "start_time": "Unknown"
     },
     {
      "end_time": "2022-08-08T23:08:36.834Z",
      "execution_time": "119ms",
      "outputs": [],
      "source": "def axis_title_plot(x_label, y_label, title):\n\n    \"\"\"generate x label, y label and title for a plot\n    it takes in the x_label, y_label, title\n    and print out its attributes on a plot\n    \"\"\"\n    \n    plt.xlabel(x_label)\n    plt.ylabel(y_label)\n    plt.title(title)\n",
      "start_time": "2022-08-08T23:08:36.715Z"
     },
     {
      "end_time": "2022-08-08T23:10:17.419Z",
      "execution_time": "3ms",
      "outputs": [],
      "source": "# define a function for all your plots\ndef axis_title_plot(x_label, y_label, title):\n\n    \"\"\"generate x label, y label and title for a plot\n    it takes in the x_label, y_label, title\n    and print out its attributes on a plot\n    \"\"\"\n    \n    plt.xlabel(x_label)\n    plt.ylabel(y_label)\n    plt.title(title)\n    plt.show()\n",
      "start_time": "2022-08-08T23:10:17.416Z"
     }
    ]
   },
   "outputs": [],
   "source": [
    "# define a function for all your plots\n",
    "def axis_title_plot(x_label, y_label, title):\n",
    "\n",
    "    \"\"\"generate x label, y label and title for a plot\n",
    "    it takes in the x_label, y_label, title\n",
    "    and print out its attributes on a plot\n",
    "    \"\"\"\n",
    "    \n",
    "    plt.xlabel(x_label)\n",
    "    plt.ylabel(y_label)\n",
    "    plt.title(title)\n",
    "    plt.show()\n"
   ]
  },
  {
   "cell_type": "code",
   "execution_count": 16,
   "metadata": {
    "ExecutionTime": {
     "end_time": "2022-08-08T23:10:17.564932Z",
     "start_time": "2022-08-08T23:10:17.423384Z"
    },
    "provenance": [
     {
      "end_time": "Unknown",
      "execution_time": "Unknown",
      "outputs": [
       {
        "data": {
         "text/plain": "<AxesSubplot:>"
        },
        "execution_count": 36,
        "metadata": {},
        "output_type": "execute_result"
       },
       {
        "data": {
         "image/png": "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\n",
         "text/plain": "<Figure size 432x288 with 1 Axes>"
        },
        "metadata": {
         "needs_background": "light"
        },
        "output_type": "display_data"
       }
      ],
      "source": "#looking at the distribution of the revenue, the values are right skewed\n\ndf['revenue'].hist()",
      "start_time": "Unknown"
     },
     {
      "end_time": "2022-08-08T17:50:07.300Z",
      "execution_time": "156ms",
      "outputs": [
       {
        "data": {
         "text/plain": "<AxesSubplot:>"
        },
        "execution_count": 13,
        "metadata": {},
        "output_type": "execute_result"
       },
       {
        "data": {
         "image/png": "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\n",
         "text/plain": "<Figure size 432x288 with 1 Axes>"
        },
        "metadata": {
         "needs_background": "light"
        },
        "output_type": "display_data",
        "transient": {}
       }
      ],
      "source": "#looking at the distribution of the revenue, the values are right skewed\n\ndf['revenue'].hist()",
      "start_time": "2022-08-08T17:50:07.144Z"
     },
     {
      "end_time": "2022-08-08T17:59:44.542Z",
      "execution_time": "1.87s",
      "outputs": [
       {
        "ename": "AttributeError",
        "evalue": "'Rectangle' object has no property 'title'",
        "output_type": "error",
        "traceback": [
         "\u001b[0;31m---------------------------------------------------------------------------\u001b[0m",
         "\u001b[0;31mAttributeError\u001b[0m                            Traceback (most recent call last)",
         "Input \u001b[0;32mIn [25]\u001b[0m, in \u001b[0;36m<cell line: 2>\u001b[0;34m()\u001b[0m\n\u001b[1;32m      1\u001b[0m \u001b[38;5;66;03m#looking at the distribution of the revenue, the values are right skewed\u001b[39;00m\n\u001b[0;32m----> 2\u001b[0m \u001b[43mdf\u001b[49m\u001b[43m[\u001b[49m\u001b[38;5;124;43m'\u001b[39;49m\u001b[38;5;124;43mrevenue\u001b[39;49m\u001b[38;5;124;43m'\u001b[39;49m\u001b[43m]\u001b[49m\u001b[38;5;241;43m.\u001b[39;49m\u001b[43mhist\u001b[49m\u001b[43m(\u001b[49m\u001b[43mtitle\u001b[49m\u001b[38;5;241;43m=\u001b[39;49m\u001b[38;5;124;43m'\u001b[39;49m\u001b[38;5;124;43mDistribution of Movie Revenue\u001b[39;49m\u001b[38;5;124;43m'\u001b[39;49m\u001b[43m)\u001b[49m\n",
         "File \u001b[0;32m~/opt/anaconda3/lib/python3.8/site-packages/pandas/plotting/_core.py:100\u001b[0m, in \u001b[0;36mhist_series\u001b[0;34m(self, by, ax, grid, xlabelsize, xrot, ylabelsize, yrot, figsize, bins, backend, legend, **kwargs)\u001b[0m\n\u001b[1;32m     48\u001b[0m \u001b[38;5;124;03m\"\"\"\u001b[39;00m\n\u001b[1;32m     49\u001b[0m \u001b[38;5;124;03mDraw histogram of the input series using matplotlib.\u001b[39;00m\n\u001b[1;32m     50\u001b[0m \n\u001b[0;32m   (...)\u001b[0m\n\u001b[1;32m     97\u001b[0m \u001b[38;5;124;03mmatplotlib.axes.Axes.hist : Plot a histogram using matplotlib.\u001b[39;00m\n\u001b[1;32m     98\u001b[0m \u001b[38;5;124;03m\"\"\"\u001b[39;00m\n\u001b[1;32m     99\u001b[0m plot_backend \u001b[38;5;241m=\u001b[39m _get_plot_backend(backend)\n\u001b[0;32m--> 100\u001b[0m \u001b[38;5;28;01mreturn\u001b[39;00m \u001b[43mplot_backend\u001b[49m\u001b[38;5;241;43m.\u001b[39;49m\u001b[43mhist_series\u001b[49m\u001b[43m(\u001b[49m\n\u001b[1;32m    101\u001b[0m \u001b[43m    \u001b[49m\u001b[38;5;28;43mself\u001b[39;49m\u001b[43m,\u001b[49m\n\u001b[1;32m    102\u001b[0m \u001b[43m    \u001b[49m\u001b[43mby\u001b[49m\u001b[38;5;241;43m=\u001b[39;49m\u001b[43mby\u001b[49m\u001b[43m,\u001b[49m\n\u001b[1;32m    103\u001b[0m \u001b[43m    \u001b[49m\u001b[43max\u001b[49m\u001b[38;5;241;43m=\u001b[39;49m\u001b[43max\u001b[49m\u001b[43m,\u001b[49m\n\u001b[1;32m    104\u001b[0m \u001b[43m    \u001b[49m\u001b[43mgrid\u001b[49m\u001b[38;5;241;43m=\u001b[39;49m\u001b[43mgrid\u001b[49m\u001b[43m,\u001b[49m\n\u001b[1;32m    105\u001b[0m \u001b[43m    \u001b[49m\u001b[43mxlabelsize\u001b[49m\u001b[38;5;241;43m=\u001b[39;49m\u001b[43mxlabelsize\u001b[49m\u001b[43m,\u001b[49m\n\u001b[1;32m    106\u001b[0m \u001b[43m    \u001b[49m\u001b[43mxrot\u001b[49m\u001b[38;5;241;43m=\u001b[39;49m\u001b[43mxrot\u001b[49m\u001b[43m,\u001b[49m\n\u001b[1;32m    107\u001b[0m \u001b[43m    \u001b[49m\u001b[43mylabelsize\u001b[49m\u001b[38;5;241;43m=\u001b[39;49m\u001b[43mylabelsize\u001b[49m\u001b[43m,\u001b[49m\n\u001b[1;32m    108\u001b[0m \u001b[43m    \u001b[49m\u001b[43myrot\u001b[49m\u001b[38;5;241;43m=\u001b[39;49m\u001b[43myrot\u001b[49m\u001b[43m,\u001b[49m\n\u001b[1;32m    109\u001b[0m \u001b[43m    \u001b[49m\u001b[43mfigsize\u001b[49m\u001b[38;5;241;43m=\u001b[39;49m\u001b[43mfigsize\u001b[49m\u001b[43m,\u001b[49m\n\u001b[1;32m    110\u001b[0m \u001b[43m    \u001b[49m\u001b[43mbins\u001b[49m\u001b[38;5;241;43m=\u001b[39;49m\u001b[43mbins\u001b[49m\u001b[43m,\u001b[49m\n\u001b[1;32m    111\u001b[0m \u001b[43m    \u001b[49m\u001b[43mlegend\u001b[49m\u001b[38;5;241;43m=\u001b[39;49m\u001b[43mlegend\u001b[49m\u001b[43m,\u001b[49m\n\u001b[1;32m    112\u001b[0m \u001b[43m    \u001b[49m\u001b[38;5;241;43m*\u001b[39;49m\u001b[38;5;241;43m*\u001b[39;49m\u001b[43mkwargs\u001b[49m\u001b[43m,\u001b[49m\n\u001b[1;32m    113\u001b[0m \u001b[43m\u001b[49m\u001b[43m)\u001b[49m\n",
         "File \u001b[0;32m~/opt/anaconda3/lib/python3.8/site-packages/pandas/plotting/_matplotlib/hist.py:391\u001b[0m, in \u001b[0;36mhist_series\u001b[0;34m(self, by, ax, grid, xlabelsize, xrot, ylabelsize, yrot, figsize, bins, legend, **kwds)\u001b[0m\n\u001b[1;32m    389\u001b[0m \u001b[38;5;28;01mif\u001b[39;00m legend:\n\u001b[1;32m    390\u001b[0m     kwds[\u001b[38;5;124m\"\u001b[39m\u001b[38;5;124mlabel\u001b[39m\u001b[38;5;124m\"\u001b[39m] \u001b[38;5;241m=\u001b[39m \u001b[38;5;28mself\u001b[39m\u001b[38;5;241m.\u001b[39mname\n\u001b[0;32m--> 391\u001b[0m \u001b[43max\u001b[49m\u001b[38;5;241;43m.\u001b[39;49m\u001b[43mhist\u001b[49m\u001b[43m(\u001b[49m\u001b[43mvalues\u001b[49m\u001b[43m,\u001b[49m\u001b[43m \u001b[49m\u001b[43mbins\u001b[49m\u001b[38;5;241;43m=\u001b[39;49m\u001b[43mbins\u001b[49m\u001b[43m,\u001b[49m\u001b[43m \u001b[49m\u001b[38;5;241;43m*\u001b[39;49m\u001b[38;5;241;43m*\u001b[39;49m\u001b[43mkwds\u001b[49m\u001b[43m)\u001b[49m\n\u001b[1;32m    392\u001b[0m \u001b[38;5;28;01mif\u001b[39;00m legend:\n\u001b[1;32m    393\u001b[0m     ax\u001b[38;5;241m.\u001b[39mlegend()\n",
         "File \u001b[0;32m~/opt/anaconda3/lib/python3.8/site-packages/matplotlib/__init__.py:1412\u001b[0m, in \u001b[0;36m_preprocess_data.<locals>.inner\u001b[0;34m(ax, data, *args, **kwargs)\u001b[0m\n\u001b[1;32m   1409\u001b[0m \u001b[38;5;129m@functools\u001b[39m\u001b[38;5;241m.\u001b[39mwraps(func)\n\u001b[1;32m   1410\u001b[0m \u001b[38;5;28;01mdef\u001b[39;00m \u001b[38;5;21minner\u001b[39m(ax, \u001b[38;5;241m*\u001b[39margs, data\u001b[38;5;241m=\u001b[39m\u001b[38;5;28;01mNone\u001b[39;00m, \u001b[38;5;241m*\u001b[39m\u001b[38;5;241m*\u001b[39mkwargs):\n\u001b[1;32m   1411\u001b[0m     \u001b[38;5;28;01mif\u001b[39;00m data \u001b[38;5;129;01mis\u001b[39;00m \u001b[38;5;28;01mNone\u001b[39;00m:\n\u001b[0;32m-> 1412\u001b[0m         \u001b[38;5;28;01mreturn\u001b[39;00m \u001b[43mfunc\u001b[49m\u001b[43m(\u001b[49m\u001b[43max\u001b[49m\u001b[43m,\u001b[49m\u001b[43m \u001b[49m\u001b[38;5;241;43m*\u001b[39;49m\u001b[38;5;28;43mmap\u001b[39;49m\u001b[43m(\u001b[49m\u001b[43msanitize_sequence\u001b[49m\u001b[43m,\u001b[49m\u001b[43m \u001b[49m\u001b[43margs\u001b[49m\u001b[43m)\u001b[49m\u001b[43m,\u001b[49m\u001b[43m \u001b[49m\u001b[38;5;241;43m*\u001b[39;49m\u001b[38;5;241;43m*\u001b[39;49m\u001b[43mkwargs\u001b[49m\u001b[43m)\u001b[49m\n\u001b[1;32m   1414\u001b[0m     bound \u001b[38;5;241m=\u001b[39m new_sig\u001b[38;5;241m.\u001b[39mbind(ax, \u001b[38;5;241m*\u001b[39margs, \u001b[38;5;241m*\u001b[39m\u001b[38;5;241m*\u001b[39mkwargs)\n\u001b[1;32m   1415\u001b[0m     auto_label \u001b[38;5;241m=\u001b[39m (bound\u001b[38;5;241m.\u001b[39marguments\u001b[38;5;241m.\u001b[39mget(label_namer)\n\u001b[1;32m   1416\u001b[0m                   \u001b[38;5;129;01mor\u001b[39;00m bound\u001b[38;5;241m.\u001b[39mkwargs\u001b[38;5;241m.\u001b[39mget(label_namer))\n",
         "File \u001b[0;32m~/opt/anaconda3/lib/python3.8/site-packages/matplotlib/axes/_axes.py:6787\u001b[0m, in \u001b[0;36mAxes.hist\u001b[0;34m(self, x, bins, range, density, weights, cumulative, bottom, histtype, align, orientation, rwidth, log, color, label, stacked, **kwargs)\u001b[0m\n\u001b[1;32m   6785\u001b[0m \u001b[38;5;28;01mif\u001b[39;00m patch:\n\u001b[1;32m   6786\u001b[0m     p \u001b[38;5;241m=\u001b[39m patch[\u001b[38;5;241m0\u001b[39m]\n\u001b[0;32m-> 6787\u001b[0m     \u001b[43mp\u001b[49m\u001b[38;5;241;43m.\u001b[39;49m\u001b[43mupdate\u001b[49m\u001b[43m(\u001b[49m\u001b[43mkwargs\u001b[49m\u001b[43m)\u001b[49m\n\u001b[1;32m   6788\u001b[0m     \u001b[38;5;28;01mif\u001b[39;00m lbl \u001b[38;5;129;01mis\u001b[39;00m \u001b[38;5;129;01mnot\u001b[39;00m \u001b[38;5;28;01mNone\u001b[39;00m:\n\u001b[1;32m   6789\u001b[0m         p\u001b[38;5;241m.\u001b[39mset_label(lbl)\n",
         "File \u001b[0;32m~/opt/anaconda3/lib/python3.8/site-packages/matplotlib/artist.py:1064\u001b[0m, in \u001b[0;36mArtist.update\u001b[0;34m(self, props)\u001b[0m\n\u001b[1;32m   1062\u001b[0m             func \u001b[38;5;241m=\u001b[39m \u001b[38;5;28mgetattr\u001b[39m(\u001b[38;5;28mself\u001b[39m, \u001b[38;5;124mf\u001b[39m\u001b[38;5;124m\"\u001b[39m\u001b[38;5;124mset_\u001b[39m\u001b[38;5;132;01m{\u001b[39;00mk\u001b[38;5;132;01m}\u001b[39;00m\u001b[38;5;124m\"\u001b[39m, \u001b[38;5;28;01mNone\u001b[39;00m)\n\u001b[1;32m   1063\u001b[0m             \u001b[38;5;28;01mif\u001b[39;00m \u001b[38;5;129;01mnot\u001b[39;00m callable(func):\n\u001b[0;32m-> 1064\u001b[0m                 \u001b[38;5;28;01mraise\u001b[39;00m \u001b[38;5;167;01mAttributeError\u001b[39;00m(\u001b[38;5;124mf\u001b[39m\u001b[38;5;124m\"\u001b[39m\u001b[38;5;132;01m{\u001b[39;00m\u001b[38;5;28mtype\u001b[39m(\u001b[38;5;28mself\u001b[39m)\u001b[38;5;241m.\u001b[39m\u001b[38;5;18m__name__\u001b[39m\u001b[38;5;132;01m!r}\u001b[39;00m\u001b[38;5;124m object \u001b[39m\u001b[38;5;124m\"\u001b[39m\n\u001b[1;32m   1065\u001b[0m                                      \u001b[38;5;124mf\u001b[39m\u001b[38;5;124m\"\u001b[39m\u001b[38;5;124mhas no property \u001b[39m\u001b[38;5;132;01m{\u001b[39;00mk\u001b[38;5;132;01m!r}\u001b[39;00m\u001b[38;5;124m\"\u001b[39m)\n\u001b[1;32m   1066\u001b[0m             ret\u001b[38;5;241m.\u001b[39mappend(func(v))\n\u001b[1;32m   1067\u001b[0m \u001b[38;5;28;01mif\u001b[39;00m ret:\n",
         "\u001b[0;31mAttributeError\u001b[0m: 'Rectangle' object has no property 'title'"
        ]
       },
       {
        "data": {
         "image/png": "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\n",
         "text/plain": "<Figure size 432x288 with 1 Axes>"
        },
        "metadata": {
         "needs_background": "light"
        },
        "output_type": "display_data",
        "transient": {}
       }
      ],
      "source": "#looking at the distribution of the revenue, the values are right skewed\ndf['revenue'].hist(title='Distribution of Movie Revenue')\n",
      "start_time": "2022-08-08T17:59:42.670Z"
     },
     {
      "end_time": "2022-08-08T18:03:03.428Z",
      "execution_time": "135ms",
      "outputs": [
       {
        "data": {
         "text/plain": "Text(0.5, 1.0, 'Distribution of Movie Revenue')"
        },
        "execution_count": 26,
        "metadata": {},
        "output_type": "execute_result"
       },
       {
        "data": {
         "image/png": "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\n",
         "text/plain": "<Figure size 432x288 with 1 Axes>"
        },
        "metadata": {
         "needs_background": "light"
        },
        "output_type": "display_data",
        "transient": {}
       }
      ],
      "source": "#looking at the distribution of the revenue, the values are right skewed\ndf['revenue'].hist()\nplt.xlabel('Smarts')\nplt.ylabel('Probability')\nplt.title('Distribution of Movie Revenue')",
      "start_time": "2022-08-08T18:03:03.293Z"
     },
     {
      "end_time": "2022-08-08T18:03:39.882Z",
      "execution_time": "115ms",
      "outputs": [
       {
        "data": {
         "text/plain": "Text(0.5, 1.0, 'Distribution of Movie Revenue')"
        },
        "execution_count": 27,
        "metadata": {},
        "output_type": "execute_result"
       },
       {
        "data": {
         "image/png": "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\n",
         "text/plain": "<Figure size 432x288 with 1 Axes>"
        },
        "metadata": {
         "needs_background": "light"
        },
        "output_type": "display_data",
        "transient": {}
       }
      ],
      "source": "#looking at the distribution of the revenue, the values are right skewed\ndf['revenue'].hist()\nplt.xlabel('Revenue')\nplt.ylabel('Count')\nplt.title('Distribution of Movie Revenue')",
      "start_time": "2022-08-08T18:03:39.767Z"
     },
     {
      "end_time": "2022-08-08T18:03:47.522Z",
      "execution_time": "124ms",
      "outputs": [
       {
        "data": {
         "text/plain": "Text(0.5, 1.0, 'Distribution of Movie Revenue')"
        },
        "execution_count": 28,
        "metadata": {},
        "output_type": "execute_result"
       },
       {
        "data": {
         "image/png": "iVBORw0KGgoAAAANSUhEUgAAAZIAAAEWCAYAAABMoxE0AAAAOXRFWHRTb2Z0d2FyZQBNYXRwbG90bGliIHZlcnNpb24zLjUuMiwgaHR0cHM6Ly9tYXRwbG90bGliLm9yZy8qNh9FAAAACXBIWXMAAAsTAAALEwEAmpwYAAAc1klEQVR4nO3de5xcZZ3n8c+XJEC4BImBNiaRoGRRLoIQMaA79GzcIQO4QQckDkhwmckOw+ANdcH7zMuszKw4Cg5oRpgkXA14SbgpGGjUlVu4GUJEsiRAkwzhIpAGBuj4mz/O03CsVHdX99NV1dX5vl+vevWp55znOc9Tp7u/fZ5TfUoRgZmZ2WBt0+wOmJlZa3OQmJlZFgeJmZllcZCYmVkWB4mZmWVxkJiZWRYHiQ0ZSd+V9KUhaustkrokjUrPOyT91VC0ndq7XtLcoWpvAPv9mqSnJP17o/ed9j9kx8ish/x/JFYLSeuANqAb2Aw8ACwGFkTEHwbR1l9FxM8HUKcDuCQivj+QfaW6XwX2iogTB1p3KEmaAvwO2CMiNlZZ3w7cDPw4Ij5UKj8AuBe4JSLaG9HXaiQF8CIQwHPAD4DPRsTmZvXJhgefkdhAfCAidgb2AM4G/jdw4VDvRNLooW5zmNgDeLpaiJQ8CRwm6Y2lsrkUATQcHBAROwGHA8cD/7PJ/bFhwEFiAxYRz0XEMopfJHMl7QcgaaGkr6XlCZKukfSspGck/VLSNpIuBt4CXJ2mrj4naaqkkHSKpEeBm0pl5VB5m6Q7JD0naamk8Wlf7ZI6y32UtE7S+yXNAj4PHJ/2d19a/9pUWerXFyU9ImmjpMWSdknrevoxV9KjaVrqC729NpJ2SfWfTO19MbX/fuBG4M2pHwt7aeIV4CfAnNTeKODDwKUV+zlM0p3ptbhT0mGpfI6kFRXbfkrSsspjlJ4fLenedJx+LemdvY2tLCLWAP8POLC/tiSdKemqij59W9K5pdfsQkkbJD2epv96pjRPlvQrSd+Q9HtJayX9eamddem17Xn+VUmXlJ7PSH15VtJ96azPhpiDxAYtIu4AOoH/WmX1GWndbhRTYp8vqsRHgUcpzm52ioh/KtU5HHgHcEQvuzyJ4i/gN1NMsZ1bQx9/Cvwf4AdpfwdU2ezk9PhT4K3ATsB3KrZ5H7A3MBP4sqR39LLL84BdUjuHpz5/LE3j/TmwPvXj5D66vTjVg+K1WAWs71mZAvRaivG/EfgmcG06i1kG7C1pWqm9vwQuq9yJpIOAi4D/ldr5HrBM0nZ99K2n7tspjvuaGtq6HDhS0ri0bU849vRpEcXx3At4F/BnQPl62HuAB4EJwD8BF0pSDX2cRPE6fQ0YD3wG+KGk3fqrawPjILFc6yl+SCu9CkykuB7wakT8Mvq/IPfViHghIl7qZf3FEXF/RLwAfAn4cM9frplOAL4ZEQ9HRBdwFjCn4mzo7yPipYi4D7gP2CKQUl+OB86KiE0RsQ44B/joQDoTEb8GxkvamyJQFldschTwUERcHBHdEXE58FuKcH4RWAp8JPVpGvB2ioCp9NfA9yLi9ojYHBGLgJeBGX10725JLwCrgQ7g/P7aiohHgLuBY9K2/w14MSJuk9RGEbCfTMd+I/DPpDOy5JGI+Nd0LWYRxfdVWx997HEicF1EXBcRf4iIG4EVwJE11LUBcJBYrknAM1XK/y/FX6s3SHpY0pk1tPXYANY/Aoyh+Cs115tTe+W2R/PHv6zK77J6keKspdIEYNsqbU0aRJ8uBv6O4izpx/30t3I/l5GChOJs5CcpYCrtAZyRpn2elfQsMCW135uDKMZ+PMWZwo41tlXZp8tK9cYAG0r1vgfsXtrna699aRzVXv9q4zuuok/vowgiG0IOEhs0Se+m+OX1q8p16S/yMyLircAHgE9Lmtmzupcm+ztjmVJafgvFWc9TwAvADqV+jaKYUqu13fUUv3TKbXcDT/RTr9JTqU+VbT0+wHagCJK/pfiLujIEKvtbuZ8bgAmSDqT45b3FtFbyGDA/It5QeuyQznB6FYUlwK3Al2ts60qgXdJk4IOlPj1GceYyoVRvXETs21cfSv7o2ANvqhjfxRV92jEizq6xbauRg8QGTNI4SUcDV1C8JXdllW2OlrRXmst+nuItwz1vE32C4hrCQJ0oaR9JOwD/AFyVpjt+B2wv6ShJY4AvAuV5/ieAqZJ6+36/HPiUpD0l7cTr11S6B9K51JclwHxJO0vaA/g0cEnfNau2tZbiGku1C/vXAf9F0l9KGi3peGAf4JpUtxu4iuKscDzFRf5q/hX4G0nvUWHH9BruXGM3zwbmSXpTf21FxJMUU2H/BqyNiNWpfANF8J2Tvq+2kfQ2SYfX2Id7KaYhx0iaDhxbWncJ8AFJR0gaJWl7FW/MmFxj21YjB4kNxNWSNlH8pfcFiou8H+tl22nAz4Euir9cz4+IjrTu68AX03TDZwaw/4uBhRRTHdsDH4fiXWQUf71/n+Kv8hcoLvT3uDJ9fVrS3VXavSi1/QtgLfAfwOkD6FfZ6Wn/D1OcqV2W2h+wiPhVRKyvUv40cDTFGxqeBj4HHB0RT5U2uwx4P3Blb4EYESsorm18B/g9xVTkyQPo30rgFor/JamlrZ4+VZ4hnUQxJfhAqnsVtU8/fQl4W6r39+W2I+IxYDbFGz2epPi+/Sz+vTfk/A+JZmaWxclsZmZZHCRmZpbFQWJmZlkcJGZmlmWk3hyvVxMmTIipU6cOqu4LL7zAjjvu2P+GLchjaz0jdVzgsQ1Hd91111MRUfX2MltdkEydOpUVK1b0v2EVHR0dtLe3D22HhgmPrfWM1HGBxzYcSaq8m8JrPLVlZmZZHCRmZpbFQWJmZlkcJGZmlsVBYmZmWRwkZmaWxUFiZmZZHCRmZpbFQWJmZlm2uv9sz7Hy8ec4+cxrm7LvdWcf1ZT9mpn1x2ckZmaWxUFiZmZZHCRmZpbFQWJmZlkcJGZmlqVuQSLpIkkbJd1fKhsv6UZJD6Wvu5bWnSVpjaQHJR1RKj9Y0sq07lxJSuXbSfpBKr9d0tR6jcXMzHpXzzOShcCsirIzgeURMQ1Ynp4jaR9gDrBvqnO+pFGpzgXAPGBaevS0eQrw+4jYC/hn4B/rNhIzM+tV3YIkIn4BPFNRPBtYlJYXAceUyq+IiJcjYi2wBjhE0kRgXETcGhEBLK6o09PWVcDMnrMVMzNrnEb/Q2JbRGwAiIgNknZP5ZOA20rbdaayV9NyZXlPncdSW92SngPeCDxVuVNJ8yjOamhra6Ojo2NwnR8LZ+zfPai6uQbb51p1dXXVfR/NMlLHNlLHBR5bqxku/9le7Uwi+ijvq86WhRELgAUA06dPj8F+XvJ5ly7lnJXNecnWndBe1/Zb9XOkazFSxzZSxwUeW6tp9Lu2nkjTVaSvG1N5JzCltN1kYH0qn1yl/I/qSBoN7MKWU2lmZlZnjQ6SZcDctDwXWFoqn5PeibUnxUX1O9I02CZJM9L1j5Mq6vS0dSxwU7qOYmZmDVS3eRpJlwPtwARJncBXgLOBJZJOAR4FjgOIiFWSlgAPAN3AaRGxOTV1KsU7wMYC16cHwIXAxZLWUJyJzKnXWMzMrHd1C5KI+Egvq2b2sv18YH6V8hXAflXK/4MURGZm1jz+z3YzM8viIDEzsywOEjMzy+IgMTOzLA4SMzPL4iAxM7MsDhIzM8viIDEzsywOEjMzy+IgMTOzLA4SMzPL4iAxM7MsDhIzM8viIDEzsywOEjMzy+IgMTOzLA4SMzPL4iAxM7MsDhIzM8viIDEzsywOEjMzy+IgMTOzLA4SMzPL4iAxM7MsDhIzM8viIDEzsywOEjMzy+IgMTOzLA4SMzPL4iAxM7MsDhIzM8vSlCCR9ClJqyTdL+lySdtLGi/pRkkPpa+7lrY/S9IaSQ9KOqJUfrCklWnduZLUjPGYmW3NGh4kkiYBHwemR8R+wChgDnAmsDwipgHL03Mk7ZPW7wvMAs6XNCo1dwEwD5iWHrMaOBQzM6N5U1ujgbGSRgM7AOuB2cCitH4RcExang1cEREvR8RaYA1wiKSJwLiIuDUiAlhcqmNmZg0yutE7jIjHJX0DeBR4CbghIm6Q1BYRG9I2GyTtnqpMAm4rNdGZyl5Ny5XlW5A0j+LMhba2Njo6OgbV97axcMb+3YOqm2uwfa5VV1dX3ffRLCN1bCN1XOCxtZqGB0m69jEb2BN4FrhS0ol9ValSFn2Ub1kYsQBYADB9+vRob28fQI9fd96lSzlnZcNfMgDWndBe1/Y7OjoY7Osy3I3UsY3UcYHH1mqaMbX1fmBtRDwZEa8CPwIOA55I01WkrxvT9p3AlFL9yRRTYZ1pubLczMwaqBlB8igwQ9IO6V1WM4HVwDJgbtpmLrA0LS8D5kjaTtKeFBfV70jTYJskzUjtnFSqY2ZmDdKMayS3S7oKuBvoBu6hmHbaCVgi6RSKsDkubb9K0hLggbT9aRGxOTV3KrAQGAtcnx5mZtZATZnwj4ivAF+pKH6Z4uyk2vbzgflVylcA+w15B83MrGb+z3YzM8viIDEzsywOEjMzy+IgMTOzLA4SMzPL4iAxM7MsDhIzM8viIDEzsywOEjMzy+IgMTOzLA4SMzPL4iAxM7MsDhIzM8viIDEzsywOEjMzy+IgMTOzLA4SMzPL4iAxM7MsDhIzM8viIDEzsywOEjMzy+IgMTOzLA4SMzPL4iAxM7MsDhIzM8viIDEzsywOEjMzy+IgMTOzLA4SMzPL4iAxM7MsTQkSSW+QdJWk30paLelQSeMl3SjpofR119L2Z0laI+lBSUeUyg+WtDKtO1eSmjEeM7OtWU1BIum9tZQNwLeBn0bE24EDgNXAmcDyiJgGLE/PkbQPMAfYF5gFnC9pVGrnAmAeMC09ZmX0yczMBqHWM5Lzaizrl6RxwJ8AFwJExCsR8SwwG1iUNlsEHJOWZwNXRMTLEbEWWAMcImkiMC4ibo2IABaX6piZWYOM7mulpEOBw4DdJH26tGocMKp6rX69FXgS+DdJBwB3AZ8A2iJiA0BEbJC0e9p+EnBbqX5nKns1LVeWVxvHPIozF9ra2ujo6BhUx9vGwhn7dw+qbq7B9rlWXV1ddd9Hs4zUsY3UcYHH1mr6DBJgW2CntN3OpfLngWMz9nkQcHpE3C7p26RprF5Uu+4RfZRvWRixAFgAMH369Ghvbx9Qh3ucd+lSzlnZ30tWH+tOaK9r+x0dHQz2dRnuRurYRuq4wGNrNX3+VoyIW4BbJC2MiEeGaJ+dQGdE3J6eX0URJE9ImpjORiYCG0vbTynVnwysT+WTq5SbmVkD1XqNZDtJCyTdIOmmnsdgdhgR/w48JmnvVDQTeABYBsxNZXOBpWl5GTBH0naS9qS4qH5HmgbbJGlGerfWSaU6ZmbWILXO01wJfBf4PrB5CPZ7OnCppG2Bh4GPUYTaEkmnAI8CxwFExCpJSyjCphs4LSJ6+nAqsBAYC1yfHmZm1kC1Bkl3RFwwVDuNiHuB6VVWzexl+/nA/CrlK4D9hqpfZmY2cLVObV0t6W8lTUz/ODhe0vi69szMzFpCrWckPdcuPlsqC4q38pqZ2VaspiCJiD3r3REzM2tNNQWJpJOqlUfE4qHtjpmZtZpap7beXVrenuKi+N0UtyUxM7OtWK1TW6eXn0vaBbi4Lj0yM7OWMtjbyL9I8Y+BZma2lav1GsnVvH4fq1HAO4Al9eqUmZm1jlqvkXyjtNwNPBIRnb1tbGZmW4+aprbSzRt/S3EH4F2BV+rZKTMzax21fkLih4E7KO5/9WHgdkmDvY28mZmNILVObX0BeHdEbASQtBvwc4pbwJuZ2Vas1ndtbdMTIsnTA6hrZmYjWK1nJD+V9DPg8vT8eOC6+nTJzMxaSX+f2b4XxWepf1bSh4D3UXzE7a3ApQ3on5mZDXP9TU99C9gEEBE/iohPR8SnKM5GvlXfrpmZWSvoL0imRsRvKgvTB0pNrUuPzMyspfQXJNv3sW7sUHbEzMxaU39Bcqekv64sTJ+rfld9umRmZq2kv3dtfRL4saQTeD04pgPbAh+sY7/MzKxF9BkkEfEEcJikPwX2S8XXRsRNde+ZmZm1hFo/j+Rm4OY698XMzFqQ/zvdzMyyOEjMzCyLg8TMzLI4SMzMLIuDxMzMsjhIzMwsi4PEzMyyOEjMzCyLg8TMzLI0LUgkjZJ0j6Rr0vPxkm6U9FD6umtp27MkrZH0oKQjSuUHS1qZ1p0rSc0Yi5nZ1qyZZySfAFaXnp8JLI+IacDy9BxJ+wBzgH2BWcD5kkalOhcA84Bp6TGrMV03M7MeTQkSSZOBo4Dvl4pnA4vS8iLgmFL5FRHxckSsBdYAh0iaCIyLiFsjIoDFpTpmZtYgNd20sQ6+BXwO2LlU1hYRGwAiYoOk3VP5JOC20nadqezVtFxZvgVJ8yjOXGhra6Ojo2NQnW4bC2fs3z2ourkG2+dadXV11X0fzTJSxzZSxwUeW6tpeJBIOhrYGBF3SWqvpUqVsuijfMvCiAXAAoDp06dHe3stu93SeZcu5ZyVzcnedSe017X9jo4OBvu6DHcjdWwjdVzgsbWaZvxWfC/wPyQdSfFRvuMkXQI8IWliOhuZCGxM23cCU0r1JwPrU/nkKuVmZtZADb9GEhFnRcTkiJhKcRH9pog4EVgGzE2bzQWWpuVlwBxJ20nak+Ki+h1pGmyTpBnp3VonleqYmVmDNOsaSTVnA0vS58E/ChwHEBGrJC0BHgC6gdMiYnOqcyqwEBgLXJ8eZmbWQE0NkojoADrS8tPAzF62mw/Mr1K+gtc/AtjMzJrA/9luZmZZHCRmZpbFQWJmZlkcJGZmlsVBYmZmWRwkZmaWxUFiZmZZHCRmZpbFQWJmZlkcJGZmlsVBYmZmWRwkZmaWxUFiZmZZHCRmZpbFQWJmZlkcJGZmlsVBYmZmWRwkZmaWxUFiZmZZHCRmZpbFQWJmZlkcJGZmlsVBYmZmWRwkZmaWxUFiZmZZHCRmZpbFQWJmZlkcJGZmlsVBYmZmWRwkZmaWpeFBImmKpJslrZa0StInUvl4STdKeih93bVU5yxJayQ9KOmIUvnBklamdedKUqPHY2a2tWvGGUk3cEZEvAOYAZwmaR/gTGB5REwDlqfnpHVzgH2BWcD5kkalti4A5gHT0mNWIwdiZmZNCJKI2BARd6flTcBqYBIwG1iUNlsEHJOWZwNXRMTLEbEWWAMcImkiMC4ibo2IABaX6piZWYOMbubOJU0F3gXcDrRFxAYowkbS7mmzScBtpWqdqezVtFxZXm0/8yjOXGhra6Ojo2NQ/W0bC2fs3z2ourkG2+dadXV11X0fzTJSxzZSxwUeW6tpWpBI2gn4IfDJiHi+j8sb1VZEH+VbFkYsABYATJ8+Pdrb2wfcX4DzLl3KOSub85KtO6G9ru13dHQw2NdluBupYxup4wKPrdU05V1bksZQhMilEfGjVPxEmq4ifd2YyjuBKaXqk4H1qXxylXIzM2ugZrxrS8CFwOqI+GZp1TJgblqeCywtlc+RtJ2kPSkuqt+RpsE2SZqR2jypVMfMzBqkGfM07wU+CqyUdG8q+zxwNrBE0inAo8BxABGxStIS4AGKd3ydFhGbU71TgYXAWOD69DAzswZqeJBExK+ofn0DYGYvdeYD86uUrwD2G7remZnZQPk/283MLIuDxMzMsjhIzMwsi4PEzMyyOEjMzCyLg8TMzLI4SMzMLIuDxMzMsjhIzMwsi4PEzMyyOEjMzCyLg8TMzLI4SMzMLIuDxMzMsjhIzMwsi4PEzMyyOEjMzCyLg8TMzLI4SMzMLIuDxMzMsjhIzMwsi4PEzMyyOEjMzCyLg8TMzLI4SMzMLIuDxMzMsjhIzMwsi4PEzMyyOEjMzCzL6GZ3wGoz9cxr69r+Gft3c3KVfaw7+6i67tfMWp/PSMzMLEvLB4mkWZIelLRG0pnN7o+Z2dampae2JI0C/gX470AncKekZRHxQHN7NnLUe0qtL55WM2sNLR0kwCHAmoh4GEDSFcBswEEyAgxViPV2/ac3DjCzgWn1IJkEPFZ63gm8p3IjSfOAeelpl6QHB7m/CcBTg6w7rH3cY3uN/rGOnRlaI/aY4bENR3v0tqLVg0RVymKLgogFwILsnUkrImJ6bjvDkcfWekbquMBjazWtfrG9E5hSej4ZWN+kvpiZbZVaPUjuBKZJ2lPStsAcYFmT+2RmtlVp6amtiOiW9HfAz4BRwEURsaqOu8yeHhvGPLbWM1LHBR5bS1HEFpcUzMzMatbqU1tmZtZkDhIzM8viIKmiv9uuqHBuWv8bSQc1o5+DUcPY2iU9J+ne9PhyM/o5UJIukrRR0v29rG/lY9bf2Fr1mE2RdLOk1ZJWSfpElW1a8rjVOLaWPG5VRYQfpQfFRfv/D7wV2Ba4D9inYpsjgesp/o9lBnB7s/s9hGNrB65pdl8HMbY/AQ4C7u9lfUsesxrH1qrHbCJwUFreGfjdCPpZq2VsLXncqj18RrKl1267EhGvAD23XSmbDSyOwm3AGyRNbHRHB6GWsbWkiPgF8Ewfm7TqMatlbC0pIjZExN1peROwmuJuFWUtedxqHNuI4SDZUrXbrlR+A9SyzXBUa78PlXSfpOsl7duYrtVdqx6zWrX0MZM0FXgXcHvFqpY/bn2MDVr8uPVo6f8jqZNabrtS061ZhqFa+n03sEdEdEk6EvgJMK3eHWuAVj1mtWjpYyZpJ+CHwCcj4vnK1VWqtMxx62dsLX3cynxGsqVabrvSqrdm6bffEfF8RHSl5euAMZImNK6LddOqx6xfrXzMJI2h+EV7aUT8qMomLXvc+htbKx+3Sg6SLdVy25VlwEnpHSUzgOciYkOjOzoI/Y5N0pskKS0fQvE98nTDezr0WvWY9atVj1nq84XA6oj4Zi+bteRxq2VsrXrcqvHUVoXo5bYrkv4mrf8ucB3Fu0nWAC8CH2tWfweixrEdC5wqqRt4CZgT6S0mw5mkyyneBTNBUifwFWAMtPYxg5rG1pLHDHgv8FFgpaR7U9nngbdAyx+3WsbWqsdtC75FipmZZfHUlpmZZXGQmJlZFgeJmZllcZCYmVkWB4mZ2QjW300/K7bdQ9LydIPMDkmTa9mHg8RskCRtTndtvV/S1ZLe0Ow+mVWxEJhV47bfoLi32TuBfwC+XkslB4nZ4L0UEQdGxH4UN1U8rdkdMqtU7aafkt4m6aeS7pL0S0lvT6v2AZan5Zup8aauDhKzoXEr6WaC1X5IJe0iaZ2kbdI2O0h6TNKY3n6oJS1Mn8Xxa0kPSzo2lbdLuqZnx5K+I+nktHywpFtSWz9rhTvlWlMsAE6PiIOBzwDnp/L7gL9Iyx8Edpb0xv4ac5CYZZI0CpjJ67eb2eKHNCKeo/ghPTxt8wHgZxHxarXtS81PBN4HHA2c3U8/xgDnAcemti4C5ueP0EaSdCPJw4Ar03/df4/i+wyK77/DJd1D8b36ONDdX5u+RYrZ4I1NP4hTgbuAGyt+SHu22y59/QFwPMWUwRzg/H62B/hJRPwBeEBSWz/92RvYL/UDitvgDPv7UlnDbQM8GxEHVq6IiPXAh+C1wPmL9EdQnxwkZoP3UkQcKGkX4BqKayQL6eWHlOKM5euSxgMHAzcBO/axPcDLpeWepOnmj2cTti+tXxURhw58KLa1iIjnJa2VdFxEXJluHPnOiLgv3X34mfTHy1kUZ7X98tSWWab0F9vHKaYFXgLWSjoOXvvM8QPSdl3AHcC3KT5idXP6jIqq2/fhEWAfSdulEJuZyh8EdpN0aGprjFr4w5JsaKSbft4K7C2pU9IpwAnAKZLuA1bx+kX1duBBSb8D2qhxatRnJGZDICLuST+Ucyh+SC+Q9EWKu/ReQXF9BIrprSspfmB79LV9tX09JmkJ8BvgIeCeVP5KuiB/bgqY0cC3KH5R2FYqIj7Sy6ot3hIcEVcBVw10H777r5mZZfHUlpmZZXGQmJlZFgeJmZllcZCYmVkWB4mZmWVxkJiZWRYHiZmZZflPlOIPuDDJ0WEAAAAASUVORK5CYII=\n",
         "text/plain": "<Figure size 432x288 with 1 Axes>"
        },
        "metadata": {
         "needs_background": "light"
        },
        "output_type": "display_data",
        "transient": {}
       }
      ],
      "source": "#looking at the distribution of the revenue, the values are right skewed\ndf['revenue'].hist()\nplt.xlabel('Revenue')\nplt.ylabel('Count')\nplt.title('Distribution of Movie Revenue')",
      "start_time": "2022-08-08T18:03:47.398Z"
     },
     {
      "end_time": "2022-08-08T18:04:35.478Z",
      "execution_time": "150ms",
      "outputs": [
       {
        "data": {
         "text/plain": "Text(0.5, 1.0, 'Distribution of Movie Revenue')"
        },
        "execution_count": 29,
        "metadata": {},
        "output_type": "execute_result"
       },
       {
        "data": {
         "image/png": "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\n",
         "text/plain": "<Figure size 432x288 with 1 Axes>"
        },
        "metadata": {
         "needs_background": "light"
        },
        "output_type": "display_data",
        "transient": {}
       }
      ],
      "source": "# plot the distribution of revenue to understand how they align\ndf['revenue'].hist()\nplt.xlabel('Revenue')\nplt.ylabel('Count')\nplt.title('Distribution of Movie Revenue')",
      "start_time": "2022-08-08T18:04:35.328Z"
     },
     {
      "end_time": "2022-08-08T18:45:17.467Z",
      "execution_time": "119ms",
      "outputs": [
       {
        "data": {
         "text/plain": "Text(0.5, 1.0, 'Distribution of Movie Revenue')"
        },
        "execution_count": 49,
        "metadata": {},
        "output_type": "execute_result"
       },
       {
        "data": {
         "image/png": "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\n",
         "text/plain": "<Figure size 432x288 with 1 Axes>"
        },
        "metadata": {
         "needs_background": "light"
        },
        "output_type": "display_data",
        "transient": {}
       }
      ],
      "source": "# plot the distribution of revenue to understand how they align\ndf['revenue'].hist()\nplt.xlabel('Revenue')\nplt.ylabel('Count')\nplt.title('Distribution of Movie Revenue')",
      "start_time": "2022-08-08T18:45:17.348Z"
     },
     {
      "end_time": "2022-08-08T23:10:17.564Z",
      "execution_time": "141ms",
      "outputs": [
       {
        "data": {
         "image/png": "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\n",
         "text/plain": "<Figure size 432x288 with 1 Axes>"
        },
        "metadata": {
         "needs_background": "light"
        },
        "output_type": "display_data",
        "transient": {}
       }
      ],
      "source": "# plot the distribution of revenue to understand how they align\ndf['revenue'].hist()\naxis_title_plot(x_label='Revenue', y_label='Count', title='Distribution of Movie Revenue')",
      "start_time": "2022-08-08T23:10:17.423Z"
     }
    ]
   },
   "outputs": [
    {
     "data": {
      "image/png": "[encoded data removed]",
      "text/plain": [
       "<Figure size 432x288 with 1 Axes>"
      ]
     },
     "metadata": {
      "needs_background": "light"
     },
     "output_type": "display_data"
    }
   ],
   "source": [
    "# plot the distribution of revenue to understand how they align\n",
    "df['revenue'].hist()\n",
    "axis_title_plot(x_label='Revenue', y_label='Count', title='Distribution of Movie Revenue')"
   ]
  },
  {
   "cell_type": "markdown",
   "metadata": {
    "provenance": [
     {
      "last_modified": "2022-08-08T23:07:18.660Z",
      "source": "**Summary of Findings:** The distribution of the revenue from the graph is right-skewed, where must of the values(`Revenue`) are less than $100M. Meaning that only few movie can get a Revenue greater than `$100M`"
     }
    ]
   },
   "source": [
    "**Summary of Findings:** The distribution of the revenue from the graph is right-skewed, where must of the values(`Revenue`) are less than $100M. Meaning that only few movie can get a Revenue greater than `$100M`"
   ]
  },
  {
   "cell_type": "code",
   "execution_count": 17,
   "metadata": {
    "ExecutionTime": {
     "end_time": "2022-08-08T23:10:17.571729Z",
     "start_time": "2022-08-08T23:10:17.567261Z"
    },
    "provenance": [
     {
      "end_time": "Unknown",
      "execution_time": "Unknown",
      "outputs": [
       {
        "data": {
         "text/plain": "39826896.07685228"
        },
        "execution_count": 37,
        "metadata": {},
        "output_type": "execute_result"
       }
      ],
      "source": "df['revenue'].mean()",
      "start_time": "Unknown"
     },
     {
      "end_time": "2022-08-08T17:50:07.306Z",
      "execution_time": "4ms",
      "outputs": [
       {
        "data": {
         "text/plain": "39826896.07685228"
        },
        "execution_count": 14,
        "metadata": {},
        "output_type": "execute_result"
       }
      ],
      "source": "df['revenue'].mean()",
      "start_time": "2022-08-08T17:50:07.302Z"
     },
     {
      "end_time": "2022-08-08T18:45:17.473Z",
      "execution_time": "4ms",
      "outputs": [
       {
        "data": {
         "text/plain": "39826896.07685228"
        },
        "execution_count": 50,
        "metadata": {},
        "output_type": "execute_result"
       }
      ],
      "source": "df['revenue'].mean()",
      "start_time": "2022-08-08T18:45:17.469Z"
     },
     {
      "end_time": "2022-08-08T23:10:17.571Z",
      "execution_time": "4ms",
      "outputs": [
       {
        "data": {
         "text/plain": "39826896.07685228"
        },
        "execution_count": 17,
        "metadata": {},
        "output_type": "execute_result"
       }
      ],
      "source": "df['revenue'].mean()",
      "start_time": "2022-08-08T23:10:17.567Z"
     }
    ]
   },
   "outputs": [
    {
     "data": {
      "text/plain": [
       "39826896.07685228"
      ]
     },
     "execution_count": 17,
     "metadata": {},
     "output_type": "execute_result"
    }
   ],
   "source": [
    "df['revenue'].mean()"
   ]
  },
  {
   "cell_type": "code",
   "execution_count": 18,
   "metadata": {
    "ExecutionTime": {
     "end_time": "2022-08-08T23:10:17.679931Z",
     "start_time": "2022-08-08T23:10:17.574404Z"
    },
    "provenance": [
     {
      "end_time": "Unknown",
      "execution_time": "Unknown",
      "outputs": [
       {
        "data": {
         "text/plain": "<AxesSubplot:xlabel='revenue', ylabel='runtime'>"
        },
        "execution_count": 38,
        "metadata": {},
        "output_type": "execute_result"
       },
       {
        "data": {
         "image/png": "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\n",
         "text/plain": "<Figure size 576x432 with 1 Axes>"
        },
        "metadata": {
         "needs_background": "light"
        },
        "output_type": "display_data"
       }
      ],
      "source": "#Remember to increase the size later\ndf.plot.scatter(x = 'revenue', y = 'runtime', figsize=(8,6))",
      "start_time": "Unknown"
     },
     {
      "end_time": "2022-08-08T17:50:07.424Z",
      "execution_time": "115ms",
      "outputs": [
       {
        "data": {
         "text/plain": "<AxesSubplot:xlabel='revenue', ylabel='runtime'>"
        },
        "execution_count": 15,
        "metadata": {},
        "output_type": "execute_result"
       },
       {
        "data": {
         "image/png": "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\n",
         "text/plain": "<Figure size 576x432 with 1 Axes>"
        },
        "metadata": {
         "needs_background": "light"
        },
        "output_type": "display_data",
        "transient": {}
       }
      ],
      "source": "#Remember to increase the size later\ndf.plot.scatter(x = 'revenue', y = 'runtime', figsize=(8,6))",
      "start_time": "2022-08-08T17:50:07.309Z"
     },
     {
      "end_time": "2022-08-08T18:04:45.681Z",
      "execution_time": "244ms",
      "outputs": [
       {
        "data": {
         "text/plain": "<AxesSubplot:xlabel='revenue', ylabel='runtime'>"
        },
        "execution_count": 30,
        "metadata": {},
        "output_type": "execute_result"
       },
       {
        "data": {
         "image/png": "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\n",
         "text/plain": "<Figure size 576x432 with 1 Axes>"
        },
        "metadata": {
         "needs_background": "light"
        },
        "output_type": "display_data",
        "transient": {}
       }
      ],
      "source": "#Remember to increase the size later\ndf.plot.scatter(x = 'revenue', y = 'runtime', figsize=(8,6))",
      "start_time": "2022-08-08T18:04:45.437Z"
     },
     {
      "end_time": "2022-08-08T18:05:21.877Z",
      "execution_time": "137ms",
      "outputs": [
       {
        "data": {
         "text/plain": "Text(0.5, 1.0, 'Scatter Plot of Revenue vs Runtime')"
        },
        "execution_count": 31,
        "metadata": {},
        "output_type": "execute_result"
       },
       {
        "data": {
         "image/png": "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\n",
         "text/plain": "<Figure size 576x432 with 1 Axes>"
        },
        "metadata": {
         "needs_background": "light"
        },
        "output_type": "display_data",
        "transient": {}
       }
      ],
      "source": "df.plot.scatter(x = 'revenue', y = 'runtime', figsize=(8,6))\nplt.xlabel('Revenue')\nplt.ylabel('Count')\nplt.title('Scatter Plot of Revenue vs Runtime')",
      "start_time": "2022-08-08T18:05:21.740Z"
     },
     {
      "end_time": "2022-08-08T18:05:29.192Z",
      "execution_time": "129ms",
      "outputs": [
       {
        "data": {
         "image/png": "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\n",
         "text/plain": "<Figure size 576x432 with 1 Axes>"
        },
        "metadata": {
         "needs_background": "light"
        },
        "output_type": "display_data",
        "transient": {}
       }
      ],
      "source": "df.plot.scatter(x = 'revenue', y = 'runtime', figsize=(8,6))\nplt.xlabel('Revenue')\nplt.ylabel('Count')\nplt.title('Scatter Plot of Revenue vs Runtime')\nplt.show()",
      "start_time": "2022-08-08T18:05:29.063Z"
     },
     {
      "end_time": "2022-08-08T18:12:48.917Z",
      "execution_time": "131ms",
      "outputs": [
       {
        "data": {
         "image/png": "iVBORw0KGgoAAAANSUhEUgAAAfQAAAGDCAYAAADd8eLzAAAAOXRFWHRTb2Z0d2FyZQBNYXRwbG90bGliIHZlcnNpb24zLjUuMiwgaHR0cHM6Ly9tYXRwbG90bGliLm9yZy8qNh9FAAAACXBIWXMAAAsTAAALEwEAmpwYAAA4aklEQVR4nO3deZxcVZ3//9enqpeELBCSGMhGwAadBJOokcWgMuAMiBiYCSCCon4dkfnhMjMgi44bflEIzLjC1y9fdQREMSQzEBBFZFHRACbSiQlrK5DuBEJoErLQ6aXq8/vj3urU2lXV3dVVdfv9fDz6ka5Tt6pO3VTX+55zzz3H3B0RERGpb7FqV0BERESGToEuIiISAQp0ERGRCFCgi4iIRIACXUREJAIU6CIiIhGgQBcZIWb2ZTP78Qi91mIze8bMdpvZ6SPxmjI0ZvY9M/tCtesh9UuBLjXHzI4zsz+Y2atm9oqZ/d7M3jbE5/yImT2UVfYjM/vfQ6ttzuv8yMx6wiB9xczuNbM3DuJ5njOzdw+hKlcA33X38e5+e4Hn7wrr+WJY7/FDeL3ICT8ziXAf7TSzdWZ26jA+d8bn0d0vcPevDsfzy+ikQJeaYmYTgbuA7wAHAjOArwDd1axXPmbWUOCuZe4+HpgJvAT8aMQqtc8hwMYi27wvrOdC4M3A5ZWuVB1aHe6jA4DrgVvN7ICq1kikAAW61JojANz9p+6ecPcud/+Vu69PbWBmHzezJ8xsl5k9bmZvCcsvM7O/pJX/Q1j+N8D3gGPD1tYOMzsfOBe4JCy7M9x2upmtNLNtZvasmX067XW/bGYrzOzHZrYT+MhAb8TdXwN+AhyZ734zW2JmG8P6PBjWEzO7GZgN3BnW7ZICj/+4mbWFPQGrzGx6WP4X4LC0xzcXqeeLwD0EwZ567mPCXpIdYcv0+LD8bDNbk1WPfzWzVeHvzWZ2rZltMrOtYTfy2PC+482sw8wuMrOXzOwFM/to2vM8aGb/lHY7oxVrZm8MezxeMbOnzOysAvulWB1PCT8fu8xss5ldPND+CfdRErgZGAccXmJ93cwusODUx3Yzu84COZ/HcPv+HqO0fXVJ2r46Paz70+E++Fzaa8XSPv+dZrbczA4s9r4kWhToUmueBhJmdqOZvcfMJqXfaWZnAl8GzgMmAkuAzvDuvwDvAPYnaNX/2MwOdvcngAsIW1vufoC73wDcQtiadvf3mVkMuBNYR9AzcCLwL2Z2UloVTgNWELTYbhnojVjQhX0u8Fie+44Afgr8CzAVuJsggJvc/UPAJsIWtLsvy/P4E4CvA2cBBwPPA7cCuPvrsx4/YO+Gmc0E3gO0hbdnAD8H/jdBL8nFwEozmwqsAt5gZoenPcU5BAcuAFcTHJQtBFoI9uMX07Y9iOD/ZwbwMeC67P/jAnUcB9wbvs7rgA8A15vZvDybF6vjD4BPuPsEgoOt+0t4/TjwUaCXYF+X6lTgbcACgv+rk/J9Hgs89iBgDPv24f8DPgi8leBz/kUzOyzc9tPA6cC7gOnAduC6MuopEaBAl5ri7juB4wAn+ALbFrY+p4Wb/BNBCP/RA23u/nz42NvcfYu7J939Z8AzwFFlvPzbgKnufoW797j7X8M6nJ22zWp3vz18ja4Cz3Nx2OpqA8aTvyX/fuDn7n6vu/cC1wJjgbeXWNdzgR+6+5/CwL6coMU3p8THA9xuZruAdoJTA18Kyz8I3O3ud4fv815gDXBK2OtwB0GgEobmG4FVZmbAx4F/dfdX3H0X8DUy918vcIW797r73cBu4A0l1PVU4Dl3/y9373P3PwErgTOyNxyojml1mGtmE919e/hchRwT/l/uJfg/+qC7v1RCfVOucvcd7r4JeIC0XpAS9AJXhp+PW4EpwLfcfZe7byQ4pTI/3PYTwOfdvSP8PHwZOMMKnxaSCFKgS81x9yfc/SPuPpOgBTUd+GZ49yyClngOMzvPzFrDbuId4WOnlPHShwDTU48Pn+NzwLS0bdpLeJ5rw16Ag9x9ibvnq+900lp6YZduO0FrrBTZj99N0FNR6uMBTg9bqccTBF5qXx0CnJm1H44j6AmAoKX7gfD3c4DbwxCdCuwHrE173C/D8pROd+9Lu/0awUFPMYcAR2fV6VyCVmw+heoIsBQ4BXjezH5jZscO8LoPhy3oSQQHBO8ooa7pXkz7vdT3mtLp7onw99TB49a0+7vSnu8Q4H/S9s0TQILMz65EnI7epKa5+5Nm9iOCFggEoff67O3M7BCC1vSJBK3ohJm1ApZ6qnxPn3W7HXjW3Q/Ps22hxwzWFuBNqRth63YWsLnE19lC8CWeevw4YHLa40vm7r8J9/G1BN227cDN7v7xAg/5FTDFzBYShOa/huUvE4TMPHcvux7AHoIDgpT0sG4HfuPuf1ficxWqI+7+R+A0M2sEPgksJ9j3Bbn7bjP7/4C/mNkP3f2xIvUtZriXuWwH/pe7/36Yn1fqiFroUlPCgU8Xhed1MbNZBF/ID4ebfJ+gS/ut4QCjljDMxxF8SW4LH/dRMgejbQVmmllTVtlhabcfBXaa2aVmNtbM4mZ2pA3xkrkClgPvNbMTw2C5iGAk/x8K1C3bT4CPmtlCCwa9fQ14xN2fG2R9vgn8XRiAPwbeZ2YnhftgTDhIayZA2MJeAVxDcI793rA8SXBQ9Q0zex0E5+OzxiAMpBX4RzPbz8xaCM6xp9wFHGFmHzKzxvDnbeEAsxyF6mhmTWZ2rpntH3Zl7yRoyRbl7p0En7/UmICB6ltMvs/jUHwPuDL8W8DMpprZacP03FInFOhSa3YBRwOPmNkegiDfQBB4uPttwJUEgbYLuB040N0fB/4DWE3wZfkmIL21cj/BOccXzezlsOwHBOdSd5jZ7WH35vsIznM+S9Di/D7BIK5h5e5PEZyr/k74Ou8jGMTWE27ydeDfw7rljMJ29/uALxCcR36BoNfi7OztyqjPNuAm4Avu3k4w+O9zBAdI7cBnyfy++AnwbuC2rC70SwnGDjxswZUAv6a0c+QA3wB6CP7/biRt0GF4Pv7vCd7jFoKu7KuBgUbwF6rjh4DnwvpdQPD/UKpvAqeY2fyB6luCfJ/HofgWwSmBX4XjIh4m+DuSUcTch7vnR0REREaaWugiIiIRoEAXERGJAAW6iIhIBCjQRUREIkCBLiIiEgF1PbHMlClTfM6cOdWuhoiIyIhZu3bty+4+Nbu8rgN9zpw5rFmzpviGIiIiEWFmeRcIUpe7iIhIBCjQRUREIkCBLiIiEgEKdBERkQhQoIuIiESAAl1ERCQCFOgiIiIRoEAXERGJAAW6iIhIBCjQ03Tu7mZd+w46d3dXuyoiIiJlqeupX4fTHa2buXTlehpjMXqTSZYtnc+ShTOqXS0REZGSqIVO0DK/dOV69vYm2dXdx97eJJesXK+WuoiI1A0FOtCxvYvGWOauaIzF6NjeVaUaiYiIlEeBDsycNJbeZDKjrDeZZOaksVWqkYiISHkU6MDk8c0sWzqfMY0xJjQ3MKYxxrKl85k8vrnaVRMRESmJBsWFliycweKWKXRs72LmpLEKcxERqSsK9DSTxzcryEVEpC6pyz2NrkMXEZF6pRZ6SNehi4hIPVMLHV2HLiIi9U+Bjq5DFxGR+qdAR9ehi4hI/VOgo+vQRUSk/mlQXEjXoYuISD1ToKfRdegiIlKv1OUuIiISAQp0ERGRCFCgi4iIRIACXUREJAIU6CIiIhGgQBcREYkABbqIiEgEKNBFREQiQIEuIiISAQp0ERGRCFCgi4iIRIACXUREJAIU6CIiIhGgQBcREYkABbqIiEgEKNBFREQiQIEuIiISARUNdDP7VzPbaGYbzOynZjbGzA40s3vN7Jnw30lp219uZm1m9pSZnVTJuomIiERJxQLdzGYAnwYWufuRQBw4G7gMuM/dDwfuC29jZnPD++cBJwPXm1m8UvUTERGJkkp3uTcAY82sAdgP2AKcBtwY3n8jcHr4+2nAre7e7e7PAm3AURWun4iISCRULNDdfTNwLbAJeAF41d1/BUxz9xfCbV4AXhc+ZAbQnvYUHWFZBjM738zWmNmabdu2Var6IiIidaWSXe6TCFrdhwLTgXFm9sGBHpKnzHMK3G9w90Xuvmjq1KnDU1kREZE6V8ku93cDz7r7NnfvBf4beDuw1cwOBgj/fSncvgOYlfb4mQRd9CIiIlJEJQN9E3CMme1nZgacCDwBrAI+HG7zYeCO8PdVwNlm1mxmhwKHA49WsH4iIiKR0VCpJ3b3R8xsBfAnoA94DLgBGA8sN7OPEYT+meH2G81sOfB4uP2F7p6oVP1ERESixNxzTlPXjUWLFvmaNWuqXQ0REZERY2Zr3X1RdrlmihMREYkABbqIiEgEKNBFREQiQIEuIiISAQp0ERGRCFCgi4iIRIACXUREJAIU6CIiIhGgQBcREYkABbqIiEgEKNBFREQiQIEuIiISAQp0ERGRCFCgi4iIRIACXUREJAIU6CIiIhGgQBcREYkABbqIiEgEKNBFREQiQIEuIiISAQp0ERGRCFCgi4iIRIACXUREJAIU6BXQububde076NzdXe2qiIjIKNFQ7QpEzR2tm7l05XoaYzF6k0mWLZ3PkoUzql0tERGJOLXQh1Hn7m4uXbmevb1JdnX3sbc3ySUr16ulLiIiFadAH0Yd27tojGXu0sZYjI7tXVWqkYiIjBYK9GE0c9JYepPJjLLeZJKZk8ZWqUYiIjJaKNCH0eTxzSxbOp8xjTEmNDcwpjHGsqXzmTy+udpVExGRiNOguGG2ZOEMFrdMoWN7FzMnjVWYi4jIiFCgV8Dk8c0KchERGVHqchcREYkABbqIiEgEKNBFREQiQIEuIiISAQp0ERGRCFCgi4iIRIACXUREJAIU6CIiIhGgQBcREYkABbqIiEgEKNBFREQiQIEuIiISAQp0ERGRCFCgi4iIRIACXUREJAIU6CIiIhGgQBcREYkABbqIiEgEKNBFREQiQIEuIiISAQp0ERGRCFCgi4iIRIACXUREJAIU6CIiIhGgQBcREYkABbqIiEgEVDTQzewAM1thZk+a2RNmdqyZHWhm95rZM+G/k9K2v9zM2szsKTM7qZJ1ExERiZJKt9C/BfzS3d8ILACeAC4D7nP3w4H7wtuY2VzgbGAecDJwvZnFK1w/ERGRSKhYoJvZROCdwA8A3L3H3XcApwE3hpvdCJwe/n4acKu7d7v7s0AbcFSl6iciIhIllWyhHwZsA/7LzB4zs++b2Thgmru/ABD++7pw+xlAe9rjO8KyDGZ2vpmtMbM127Ztq2D1RURE6kclA70BeAvwf9z9zcAewu71AixPmecUuN/g7ovcfdHUqVOHp6YiIiJ1rpKB3gF0uPsj4e0VBAG/1cwOBgj/fSlt+1lpj58JbKlg/URERCKjYoHu7i8C7Wb2hrDoROBxYBXw4bDsw8Ad4e+rgLPNrNnMDgUOBx6tVP1ERESipKHCz/8p4BYzawL+CnyU4CBiuZl9DNgEnAng7hvNbDlB6PcBF7p7osL1ExERiYSKBrq7twKL8tx1YoHtrwSurGSdREREokgzxYmIiESAAl1ERCQCFOgiIiIRoEBP07m7m3XtO+jc3V3tqoiIiJSl0qPc68YdrZu5ZMU64hYj4UmuOWMBSxbmTFQnIiJSk9RCJ2iZX7S8le4+57XeBN19zr8tb1VLXURE6oYCHdi4ZSd9ycyyvmRQLiIiUg8U6ECeKeOLlIuIiNQWBTowb/r+NMYz14ZpjBvzpu9fpRqJiIiUR4EOTB7fzAfeNiuj7ANHzWLy+OYq1UhERKQ8CnSCQXHL13ZklC1f06FBcSIiUjcU6EDH9i4aY5m7ojEWo2N7V5VqJCIiUh4FOjBz0lj29mUu7La3L8HMSWOrVCMREZHyKNBD7j7gbRERkVqmQCfoch/bmDlp3tjGBnW5i4hI3VCgE3S59yYzZ5bpTSbV5S4iInVDgU5w2dqypfMZ0xhjQnMDYxpjLFs6X5etiYhI3dDiLKElC2ewuGUKHdu7mDlprMJcRETqigI9zeTxzQpyERGpS+pyFxERiQAFuoiISAQo0EVERCJAgS4iIhIBCnQREZEIUKCnadu6ixVr2mnbuqvaVRERESlLWZetmdk4d99TqcpU0xdv/zM3Pbyp//Z5x87mitPeVMUaiYiIlK6kFrqZvd3MHgeeCG8vMLPrK1qzEdS2dVdGmAPctHqTWuoiIlI3Su1y/wZwEtAJ4O7rgHdWqlIjrbV9R1nlIiIitabkc+ju3p5VlMi7YR1aOOuAsspFRERqTamB3m5mbwfczJrM7GLC7vcoaJk2gfOOnZ1Rdt6xs2mZNqFKNRIRESlPqYPiLgC+BcwAOoBfARdWqlLVcMVpb+K8Y+bQ2r6DhbMOUJiLiEhdKSnQ3f1l4NwK16XqWqZNUJCLiEhdKinQzexQ4FPAnPTHuPuSylRLREREylFql/vtwA+AO4FkxWojIiIig1JqoO91929XtCY1oHN3Nx3bu5g5aazWRRcRkbpSaqB/y8y+RDAYrjtV6O5/qkitquCO1s1cunI9jbEYvckky5bOZ8nCGdWuloiISElKDfQ3AR8CTmBfl7uHt+te5+5uLl25nr29SfaGb++SletZ3DJFLXUREakLpQb6PwCHuXtPJStTLR3bu2iMxfrDHKAxFqNje5cCXURE6kKpE8usAw6oYD2qauaksfQmM8f69SaTzJw0tko1EhERKU+pgT4NeNLM7jGzVamfSlZsJE0e38yypfMZ0xhjQnMDYxpjLFs6X61zERGpG6V2uX+porWoAUsWzmBxyxSNchcRkbpU6kxxv6l0RWrB5PHNCnIREalLAwa6mT3k7seZ2S6CUe39dwHu7hMrWjsREREpyYCB7u7Hhf9qgnMREZEaVtKgODO7uZQyERERqY5SR7nPS79hZg3AW4e/OiIiIjIYAwa6mV0enj+fb2Y7w59dwFbgjhGpoYiIiBQ1YKC7+9fD8+fXuPvE8GeCu09298tHqI4iIiJSRKmXrV1uZjOAQ8hcD/23laqYiIiIlK6kQDezq4CzgceBRFjsgAJdRESkBpSzOMsb3L276JZ1TOuhi4hIvSo10P8KNJK2FnrUaD10ERGpZ6UG+mtAq5ndR1qou/unK1KrEab10EVEpN6VGuirwp9I6tjehSc9o8yTrvXQRUSkbpQ6yv3GSlekmsY1xelOZAZ6d8IZ1xSvUo1ERETKU+oo92fJXJwFAHc/bNhrVAV7ehKMaYyxtzfZXzamMcaensQAjxIREakdpXa5L0r7fQxwJnDg8FenOmZOGltWuYiISK0paS53d+9M+9ns7t8ETijlsWYWN7PHzOyu8PaBZnavmT0T/jspbdvLzazNzJ4ys5MG84YGY/L4ZpYtnU9zQ6z/Z9nS+Tp/LiIidaPU1dbekvazyMwuAEpdUvUzwBNpty8D7nP3w4H7wtuY2VyCyWvmAScD15vZiJ3EXvPcK3T3Jft/1jz/yki9tIiIyJCVutraf6T9fJ1gpbUziz3IzGYC7wW+n1Z8GpAaZHcjcHpa+a3u3u3uzwJtwFEl1m9I2rbu4qaHN2WU3bR6E21bd43Ey4uIiAxZqaPc/zb9drh86vuBp4s89JvAJWS25qe5+wvh875gZq8Ly2cAD6dt1xGWZTCz84HzAWbPnl1K9Ytqbd9RsLxlWqkdESIiItVTbPnUieF57e+a2d9Z4JMEreezijz2VOAld19bYl0sT1m+kfU3uPsid180derUEp96YAtnHVBWuYiISK0p1kK/GdgOrAY+TtDabgJOd/fWIo9dDCwxs1MIRsZPNLMfA1vN7OCwdX4w8FK4fQcwK+3xM4Et5byZwWqZNoF3tEzmd22d/WXvaJms1rmIiNSNYufQD3P3j7j7/wU+QHD52qklhDnufrm7z3T3OQSD3e539w8SzDj34XCzDwN3hL+vAs42s2YzOxQ4HHi03Dc0GJ27u/nj89szyv74/HY6d0d26noREYmYYi303tQv7p4ws2fdfagjxa4ClpvZx4BNhIPr3H2jmS0nWKK1D7jQ3UdkZpeO7V00xmL987gDNMZimvpVRETqRrFAX2BmO8PfDRgb3jbA3X1iKS/i7g8CD4a/dwInFtjuSuDKUp5zOM2cNJbeZDKjrDeZ1MQyIiJSNwbscnf3uLtPDH8muHtD2u8lhXk92DexjLFfY5zmBtPEMiIiUldKvQ498oLh9BaOtc834F5ERKR2KdDZtx56d1+S13oSdPcluWTleg2KExGRuqFAJxgUV065iIhIrVGgE6yHnr50KsDe3qTWQxcRkbqhQCdYDz37rLmF5SIiIvVAgQ709iVy5pj1sFxERKQeKNCB5zpfK6tcRESk1ijQ0eIsIiJS/xTowKRxTcSyTqLHLCgXERGpBwp0gsvTxjVlzoI7rqlBl62JiEjdUKCjudxFRKT+KdBJn8s91v+judxFRKSeKNBDa557he6+ZP/PmudfqXaVRERESqZAB9q27uKmhzdllN20ehNtW4e69LuIiMjIUKADre07yioXERGpNQp0dB26iIjUPwU60DJtAucdOzuj7LxjZ9MybUKVaiQiIlKehuKbjA5XnPYmzjtmDq3tO1g46wCFuYiI1BUFepqWaRMU5CIiUpfU5S4iIhIBCnQREZEIUKCLiIhEgAJdREQkAhToadq27mLFmnbNECciInVHo9xDX7z9zxnTv5537GyuOO1NVayRiIhI6dRCR3O5i4hI/VOgo7ncRUSk/inQgTmT9yurXEREpNYo0IHXepNllYuIiNQaBToAXma5iIhIbVGgA9P3H1tWuYiISK1RoANbXu0qq1xERKTWKNABsDLLRUREaosCHZg3fWJZ5SIiIrVGgQ5s39NTVrmIiEitUaAD92x8saxyERGRWqNAFxERiQAFOnDSvIPKKhcREak1CnSgZdoE3tEyOaPs6EMnsacnQefu7irVSkREpHQKdKBzdzer/9qZUfbIs9s59/sPs/jq+1nVurlKNRMRESmNAh3YuGUnfXmmbd/dnWBvb5JLVq6nc3c3nbu7Wde+Q612ERGpOQ3VrkAt2Nk18OVpjbEYtzyyiesfbKMxFqM3mWTZ0vksWThjhGooIiIyMLXQgV17+wa8vyeR4LoH2tjbm2RXd19Gq11ERKQWKNCB9u2v5S1vihtjGmN88m8PpymeuasaYzE6tmuudxERqQ0KdArP2L5kwcH8/tITOOfo2fQmM0+y9yaTzJyk1dhERKQ2KNCBl3ftzVseN5g8vpnJ45tZtnQ+YxpjTGhuYExjjGVL5zN5fPMI11RERCQ/DYoDNr6wq2j5koUzWNwyhY7tXcycNFZhLiIiNUWBDsw7eAIbtuSG+ryDJ2TcTrXWRUREao263IHZk8eXVS4iIlJrFOjA5HFNZZWLiIjUGgU68OLO/IPiCpWLiIjUGgU6sL5jR97ytc9tz1uuKWBFRKTWaFAcMG3imLzlv/tLJ6taN2dM8XpH62YuXbleU8CKiEhNUQsdWNwyteB9F922rr8l3rm7m0tXrtcUsCIiUnMU6MCxr59c8L7ehLNxy6sAdGzvojGmKWBFRKT2KNCB3z39UpEtjM7d3bza1UtPQlPAiohI7alYoJvZLDN7wMyeMLONZvaZsPxAM7vXzJ4J/52U9pjLzazNzJ4ys5MqVbdsd/35xYL3NcSg/ZXXePtV93HBzWvpSyRpjJumgJWK0sBLESlXJQfF9QEXufufzGwCsNbM7gU+Atzn7leZ2WXAZcClZjYXOBuYB0wHfm1mR7h7ooJ1BOBtsw/g10/kb6V/ZcmRfGnVBvqSAEFVPOFc9+E3M2/6/hlh3rm7W1PDypBp4KWIDEbFWuju/oK7/yn8fRfwBDADOA24MdzsRuD08PfTgFvdvdvdnwXagKMqVb90fZ6/PG4QM8Iw3ycJrP5LZ0Zo39G6mcVX388Hv/8Ii6++n1WtmytX4SxqzUWHBl7WF/3tSS0ZkcvWzGwO8GbgEWCau78AQeib2evCzWYAD6c9rCMsy36u84HzAWbPnj0s9XutpzdvecLhc/+zIe9933/oWY59/RTmTZ8I0P8lvJcg/S9ZuZ7FLVMq3lJXay5aUgMvU58j2DfwUr0+tUV/e1JrKj4ozszGAyuBf3H3nQNtmqcsp+3s7je4+yJ3XzR1auHLzcoxc9K4gvcVaLzTm3AuuHkti6++n588smlIo9/LOcpP37bWWnNqrQzdzElj6U1q4GWtq7W/PRGocAvdzBoJwvwWd//vsHirmR0cts4PBlInrzuAWWkPnwlsqWT9UvZ09w3qca/1BufUv/vAM2Qfj5T6JVzOUX72thce31IzrTm1VobH5PHNLFs6n0uy9qVa57VFPSlSiyoW6GZmwA+AJ9z9P9PuWgV8GLgq/PeOtPKfmNl/EgyKOxx4tFL1S7euPf8Ur6Vqisc5/52Hcd2DbWV9Cacf5Rfrqs+37VAOJLKfOzWYDyh7YF8570OKW7JwBotbpmiAZQ1TT4rUokq20BcDHwL+bGatYdnnCIJ8uZl9DNgEnAng7hvNbDnwOMEI+QtHYoQ7wJ83D3QmoLi9fQnOOXo25xw9O5yExpg3fWLRUe/lHOXn23YwBxLZdUpvWe/tS+DujG1sKKuVHYXWSrH/q5G+gmHy+Oa62XejkXpSpBZVLNDd/SHynxcHOLHAY64ErqxUnQrZ9MrQZnpzD860P9T2cn84dvX2YWaMaYj3/7Fnt7oGOsrPDpBC26YOJEoJm+xu8S+8dy5f/fnjGS1rgF3hKYhSW9n13lopdrpApxMkH/WkSK3R4ixAsvgmA2qKx1n9l86cbmdwehNBOP7b8lbMgm0T7v2hcNaimdy0elP/c521aGbGgUF6gAzUIhhM9/5X7txIU0PhcZGltrLrubVS7HSBTifIQNSTIrVEgT4MXutN8JmftRK3QmPi913L3psIziJcfFsr7a+8xq2PbsrY7md/7OBnf2ynu89zAmQoLYK83eLxGD2JwnUu1FuQTzl1q6UJeIqdLhjo/tTja6WbXkRGNwV6CWIUb8Unkk45J/x7EnDNr57OKY/HDNwg7dnSA2agFsFAAZKvWzzhzpfeN5ev3vV4wXPohXoL8imltVJr3dfFThcUun/D5ld5/w2r1U0vIjVDgV6EEcwWlyzckB1WfYkkljXyoJTz0cUCpFC3+JKFMzh6zoG0tu9g4awDmDSuKWPE++Kr78/obr54xXrmHjyRlmkTyn5vtdh9Xex0Qb778409GGw3vVrxIjJcFOhAI5B/rrhgYplCU8NWggNzD55Aa/u+kfdnLZpZtAu7lADJ1y0+0IHAuvYdOd3NPX1JTvn277j2zAVltzhrdTR8ar9s3LITcOZN3z/v/an91rG9i4ZY5lFXqd302dMFqxUvEl0jfcCuQGfog+KGU2/CM8Ic4Gd/bOfdfzMtZzGYlHKCMr1bPN+BwMW3retvgefrbgboSfigWtaVHg0/lD+e9FMLPYkEn/zbwznn6NkZLfXU77/c8CK7uzNPsJTSTZ/+Pmuxt0JEhk81Dti1HjqFp3etFd19ziduXsuxX7+PWx5+Puf+coIyfXrW1IFAup6Ec/K3fsvn//vPbN/Tw7Kl8/OOhE8dMJQz3Wuq+3pMY2zYl58dyuI42dN4dvc5/3Hv07z9qtzn6dzdzVd//njOc3zh1Lk53fQDvc98+z57umBNpStSn6o1NbBa6MOoIWb0Vehke1dvENifv30De7r7OPqwyRkt0QuPb+G7D7TRFC982VjOdeinzs3bAu9Lwi2PbuKWRzdx3rGzuftTx3HKt3+XMSI+38CwL7x3LkfO2H/YRsOXaqit3Xw9HADdfcmcc+MPPPlSTnf7fk0xmuMxOnd39293yORx3PXJ49jTk8j7Psc1xenuK9zKV3e8SP2q1ulFBXod+tovnmRcU3A9+1mLZrJ8TUfY2nPOf+dhGV3FKflC76t3Pc6//d0RLLvnKfoKXL520+pNnHfMHK49c0HmwLBTg9Hx6c/3+ds3ML45Tl/Shzwavhwbt+wkRuFz2impXolxTfGMoC10aiH9eVJd8nEz9vRkBvFrPUm+tGoj/37HBs5660yWr+3ICOIFsw7I2D4V1rGYQcJpjhsWs/6DMHXHi9S3ak22pUBn+M6hD6Z1bgyuyz8VKqlJaVJf/Nc92MY5RwfLyqYHWGv7jpyWpTss++WTNMaMgZanaW3fwRmLZuUMDMvXqk2dWx7J5WMvWbGe7r6B/3huefh5vnLnRsyCUxhNMcCML71vHucec0jOBD/pzzOuKd4fsOnGNMb6y/r/Px7O/P/I3g/pYZ3iZvz8k8f1XzlQq4MHRaQ01ZpsS4FeZcXC/MiDJ7DhhV0lP1/qi/+XG17MCbCerCOXVAgWOxBZGLYws1vWhVq16fVID7JC3eydu7vZuGUnO7t6mDi2sX+Uefqo8+17evovrUsFX+fu7rxh3txgGX88tzz8PJ+/PXNd+2BfeP8pjOVrOnLeQ3NDcO57T08i78FLX6L4oWD2fsgX1s3xWP8BQefubl7t6qEnUbg7Pkp02Z5EVTWmBlag17inX9pd1va9ySQP/7WTr//iyYzy7DAv5PCp43hm257+2+cdOzvvNefpR6D5uqHTA+iWh5/nK3c9TlPccrrj72jdzEXLW0nP5HjMSCa9/2AnuxfjvGNnc8Vpb+KWRzblhPl+TXG+98G3MG/6/qxr38G4pjhfuSt3EFu6Zfc8SXNDPKOsOR7jP85cwKkLptO5u7vgWINisoN4oK649PPmSYeGGBmT/NRi4A0lkDVOQKJupKcGVqDXuL6EE4eSZ6H7t3cfwdeywrwcm7Z3seITx7Bhy6tMGT+GY18/Oe922QO/Nmx5tX/GudQ59o7tXaxc29Ffn56wXz/VDQ1wyYp1OcGYyOoxyO4/uGn1Jt51+FS+c/8zOfVKJJ32V7o4/+a1NMZidPclsOyZerL0JcF7M/dwdyLJRbetI+nO4pYpXHh8C9+5/2nA8k6XO7YxhkPGmIbUQMHUyPXUH3e+rjgg57x5c0OM6859C/OmT6zJMB9KILdt3cVnV6ynp0/jBIZCPRySToFe48o9v7/snqeG9HoNceMPf32F6x9sI25GbyLZf545Jd8X+cnzDmLWpP2AIFC/etfjNMQs53ptCFrgqZCLW4zSD1f2+fhNa/Pum/+1eE6eFeSKj1KIxYw4TnpHQ3dfEOqxsIugJxG0mvO59OQ38r4F05k8vpnPnHgEHdu72LD5Vb7688dzAi9fV1y+SXya4jH2H9tYk1/UQxm4d0frZj5727qcAyONEyiPejgkmwI9YoZ62dye7gTf+vXTpH/Xfv72Dezp6ePoQydnDBBLfZGnQq8pHqcnkSDpwQQ5hfQmnHFNcba8upe+Ac7DD6TQo+ZN3z/POWrDzWiMG70J55g5k/htW2fG48Y0xLno7w9n2T1P81paqme/j3z7tyFGf5jDvpXv3n/D6oKBl90VN1yjYofaYiv18YMduJc6EMjXyxHVcQKVoCshJB8FuuTIl8Vfu/tJxjfH6e7N7cJOhV5330Bj5fc55tBJvPc7vwuWkh3G6/ab48bEsY109WbWIwn84lP7rgkHePtV92ecf+9NJjmuZSpX/bL0Ho7meAzMueaMBTlfouUG3nCMih1qi62cxw/2AKTQ1RFNDcM3ydBooCshJB8FupRsX/f50EL4t88EreNSDwBKZsYTL+zMOSfv7kwa10TLtH1fdNeckRueLdMmZIRqTyJJT18y77ttbojx/85bVPD89mACbyijYofaYiv38YM9AMm3Xxrjxt2fOm5QC/6MVtW6zllqmwJdqq4xbhjQ3BDMnhaLWc4136U4+tBJXJNnDEFzQzxn/fJC4ZlePq4pznu+/bucbvfmBuOaM+bzziOmFqzLYANvsKNih9piG8zjB3MAktovF922rn+/ujuPv7BTgV6Gal3nLLVNgS5V15twVnziGBob4oxrinPqdx8q+pgGy10FL9Xyz33+wuuXF2p9pgaqjWmI05vY15OQuizunUe8rmgdR/I61KG22Ab7+MEcgCxumUL6HEd9SZ3/HYxqXOcstU2Ls0jVNcWgsSHOgnDSmNTCJvs1xvNuHzM4ad5BJT//P7/r9f0j31MLJXx2xbqiCyXkC7mk5y6vOpDJ45tZMOuAkr9sB7sgy1AXvqnkwjnZOrZ30RTP/L/NXphGSlPu50uiTS10KUtq+tjhXISmJwkbtrzaP+d5+vrkH79pTc7kMUmHXz/5Ek1x6Cnhirdtu7tzupO7+5yfPLKJT514eMHHjXS35lAHtQ21xTZSLT6d/xWpDHOv9cVDC1u0aJGvWbNmyM8z57KfD0NtRoeGWPEZ0t4wbRzPdb6GYezN2rgxBm84aAIbtmROZzumMcbvLz0hJ0RWtW7m4jzXLE9obuD8dx7GdQ+2EY8Ze/Jc757S3BDDPZkT/s0NMf5wWe5rZhvKpWClPrZzdzeLr74/Y+xAoX0SBataN+ccKOkaapHSmNlad1+UXa4WupSllOlOn9m6h4Z4jHwTtPUmyQlzgLhZ/wCs9BBcsnAGcw+eyCnfeYierMvMzjl6NuccPbt/EpcvrdqQt35N8RhLFszklkc35ZSXMmhssAPVymlxj7bLkHT+V2T46Ry6DLsk0JNI5rTOB9KTSPJqVy+3PPw8i6++nw9+/xEWX30/q1o30zJtAteekXt+F/aNWj/3mEN45HPv5rsfeDON8azr5JNJPrp4Ds1Z07xVsps3/TKw1Hn7S1au7z83nn2ufCS7oQd7nn646fyvyPBSC11qQiLh/POP1/Yv8pJ9LXR2i+6htpdZfPX9Oa3fUxdMJ+me9xrzfNeeZ/cIDFe4DNTiTq2tnl33kThfr+lCRaJLgS6DFo/BZSe/kSdf2MnKx7YM6bmSkLNiG2R2O6d+8i3scfGK9cw9eCIt0yaUdI15qnyoAVfoYKBQizvf1LmFDlqGO8w1XahItCnQpd+45jh7exJ5p37NJ5GEb/z6GfoSCeJmJCowwDK727nQwh49fUlO+fbvuPbMBRnXl6evdJb6N/V7vgODz65YzwH7NWXMAFcotAc6GCg0Qj7f2ur5DloqYbSdpxcZbRToo0zcYOlbZ/A/j23pn6mrIQZfWXIkR87Yn1e7evnEzWvoKnGmtn0LmZQf5mMaYySSTjLpOQcR+zUFa4Kndzu3bd2VN8xTehLe3+Is1K2dUujAoLsvyQU3ryVJsG67Q97nKaW1m6/FnW9t9VLPlQ/11IAuFxOJNgX6KJNwWLXuBX7x6Xew5dUuwPpbo21bd/HYplfoSwxuBbRSxQCM/ku0YgbhCqX9unuTXHH6kf0hfEfr5qA1XaT7IAZs3LKTS1asp7vAWtsDrfgF8Fq4NvpnV6wDLO/zlNrazW5xD/ba9uE4963pQkWiTYE+CsUsOF+dPn3pF2//Mzc9vGmARw2fJGSkd745ahIOV9y5kZPDGeEuXbk+47K1QnoSSVb/5eWcyWjSw7bQil/Z4hYLjjTyPM9QWrvlnisfznPfulxMJLp02doo1NWTGTxtW3eNWJiXI25BeKYCuBQXHt/CD3//bE55T2Lfe84Xxvn0JRM5y7umQns4plot9ZKtfO9/KFOl6nIxkWhSoI9CDvxyw4v9t1vbd1TstZri8Nm/P4KxDeV/1BIehGe+AG5qiLFkwcEZZWctmskJfzMtZ55wgE/+bUvGwLj0MG6KG2Mac+v3qROO4Jo817+nnyP//aUn8ON/OprfX3pCxS7/0rlvESmFutwjJPs89EC+cudGTj7yICaPb2ZhOId6KeIxY7/GON19SXrynGuP2b4u9IYYXHvmQha3TOE7D7QVfM6GGJxz9Gx++mh7xkC9a85Y0B+e+c79Llk4g0+fsIvW9h0sDBd2yTforLnBOOfo2Rll2cukZq/w1twQ45yjZzN5fPOAXdSVHJWe/ho69y0ixWgud6Izl/t+jXG6EwlKGdM2rinOTz5+TP+CKF+848/ctDp/t3sM+MBRs/no4jlMGtfUH4Inf+u3GVOtNsTgl595Z85gO8idu/sL753LrAPHZmzXububjVtezXlsSqmjvAczT3g9zC1eiQlwRKT+FJrLXYFOfQV6Q9x4R8sUHnhqW859zQ2GO0VHgkP+hT/atu5r7U4a1zRguEIQgp9dsY64xUh4kmvOWDBgCI5kIA3mtRSYIlIPtDhLHWmMGf/0jkP5wUPP4g69Se8/x5tqObZt3cV//f45blvbTnNDvL9VCfBvy1tzWs7/+JYZ3P7YFhrjMRLuebtsW6ZNoGXahP7b6aPg8yl3xPRIdE8P5bVGsn4iIsNNLXRGpoU+a9IY2rfv7b/95lkTGdMQZ/Wz2zO2a4jBf561sH/yklT39p6eRN7QzNeqDLqud7Kzq5eJYxszurTVAhURqW9qoQ+REQz4es+RB9EQN25vfaHkxzY3GLdfeBzb9/RkDOCCoJv7obaXGdMQY/qk/TK6t0tpMebbZvL4Zt55xNSSthURkWhQoJfgm2fN59CpEzKm77xz3Qs505XGDMY0xOjuS2IGYxsbMkYkTx7fnNGlDbnd3CIiIoOhQC9iv8Y4h06d0D8aHIKW7jfev5DPrliHmZFIOl9eMo+T5x3U36UNqHtbRERGjAK9iNTkJtkKDQjLnrdbRERkJCjQi0if3CSbzkmLiEit0NSvRRS6rrpzdzfr2nfQubt7hGskIiKSSy10Ck+ZannKYHiWshQRERlOaqFTeP7zfOXpS1nu6u5jb2+SS1auV0tdRESqSoFepuFeylJERGQ4KNAZeCdkt7y1lKWIiNQiBTrw+qn7Fbwvu+WdvZZ29hrZIiIi1aBBccC8GQfwzLbX8t43rimeU1buoiQiIiKVphY68IdnXi5436nffYhVrZtzyiePb2bBrAMU5iIiUhMU6MBLe3oK3qdR7CIiUg8U6CXQKHYREal1CvQSaBS7iIjUOgV6ERrFLiIi9UCj3Iv4/aUnKMxFRKTmqYVehMJcRETqgQJdREQkAmou0M3sZDN7yszazOyyatdHRESkHtRUoJtZHLgOeA8wF/iAmc2tbq1ERERqX00FOnAU0Obuf3X3HuBW4LQq10lERKTm1VqgzwDa0253hGX9zOx8M1tjZmu2bds2opUTERGpVbUW6JanzDNuuN/g7ovcfdHUqVOH5UXHNZZXLiIiUmtqLdA7gFlpt2cCWyr9ohu/+t6yykVERGpNrQX6H4HDzexQM2sCzgZWjcQLP3fVe/tb5OMag9siIiL1oqZminP3PjP7JHAPEAd+6O4bR+r11SIXEZF6VVOBDuDudwN3V7seIiIi9aTWutxFRERkEBToIiIiEaBAFxERiQAFuoiISAQo0EVERCJAgS4iIhIBCnQREZEIUKCLiIhEgAJdREQkAszdi29Vo8xsG/D8MD/tFODlYX7OqNE+Kk77aGDaP8VpHxU3WvfRIe6es9xoXQd6JZjZGndfVO161DLto+K0jwam/VOc9lFx2keZ1OUuIiISAQp0ERGRCFCg57qh2hWoA9pHxWkfDUz7pzjto+K0j9LoHLqIiEgEqIUuIiISAaMy0M3sZDN7yszazOyyPPebmX07vH+9mb2lGvWsphL20fFm9qqZtYY/X6xGPavJzH5oZi+Z2YYC9+tzVHwfjerPkZnNMrMHzOwJM9toZp/Js82o/hyVuI9G9eeon7uPqh8gDvwFOAxoAtYBc7O2OQX4BWDAMcAj1a53De6j44G7ql3XKu+ndwJvATYUuH9Uf45K3Eej+nMEHAy8Jfx9AvC0vo8GtY9G9eco9TMaW+hHAW3u/ld37wFuBU7L2uY04CYPPAwcYGYHj3RFq6iUfTTquftvgVcG2GS0f45K2Uejmru/4O5/Cn/fBTwBzMjabFR/jkrcR8Lo7HKfAbSn3e4g98NRyjZRVur7P9bM1pnZL8xs3shUra6M9s9RqfQ5AsxsDvBm4JGsu/Q5Cg2wj0CfIxqqXYEqsDxl2UP9S9kmykp5/38imH5wt5mdAtwOHF7pitWZ0f45KoU+R4CZjQdWAv/i7juz787zkFH3OSqyj/Q5YnS20DuAWWm3ZwJbBrFNlBV9/+6+0913h7/fDTSa2ZSRq2JdGO2fo6L0OQIzayQIqlvc/b/zbDLqP0fF9pE+R4HRGOh/BA43s0PNrAk4G1iVtc0q4LxwdOkxwKvu/sJIV7SKiu4jMzvIzCz8/SiCz1LniNe0to32z1FRo/1zFL73HwBPuPt/FthsVH+OStlHo/1zlDLqutzdvc/MPgncQzCa+4fuvtHMLgjv/x5wN8HI0jbgNeCj1apvNZS4j84A/tnM+oAu4GwPh5uOFmb2U4LRtVPMrAP4EtAI+hyllLCPRvvnaDHwIeDPZtYaln0OmA36HIVK2Uej/XMEaKY4ERGRSBiNXe4iIiKRo0AXERGJAAW6iIhIBCjQRUREIkCBLiIiMgKKLVaUte0hZnZfuCDPg2Y2s9hjFOgio4CZJcJVqDaY2Z1mdkC16yQyCv0IOLnEba8lmMN/PnAF8PViD1Cgi4wOXe6+0N2PJFgs5cJqV0hktMm3WJGZvd7Mfmlma83sd2b2xvCuucB94e8PUMICWQp0kdFnNeHiHvm+TMxsfzN7zsxi4Tb7mVm7mTUW+vIxsx+Fa3b/wcz+amZnhOXHm9ldqRc2s++a2UfC399qZr8Jn+ue0bSCmEiaG4BPuftbgYuB68PydcDS8Pd/ACaY2eSBnkiBLjKKmFkcOJF9U/nmfJm4+6sEXybvCrd5H3CPu/fm2z7t6Q8GjgNOBa4qUo9G4DvAGeFz/RC4cujvUKR+hAvOvB24LZwF7/8S/B1B8Pf1LjN7jOBvcTPQN9DzjbqpX0VGqbHhF8YcYC1wb9aXSWq75vDfnwHvJ+jqOxu4vsj2ALe7exJ43MymFanPG4Ajw3pAMMXwqJmfXCQUA3a4+8LsO9x9C/CP0B/8S8OD7YIU6CKjQ5e7LzSz/YG7CM6h/4gCXyYELfivm9mBwFuB+4FxA2wP0J32eyrx+8jsCRyTdv9Gdz+2/LciEg3uvtPMnjWzM939tnCBmfnuvi5cLe6V8CD5coJerAGpy11kFAmP8D9N0J3XBTxrZmdCsKqVmS0It9sNPAp8C7jL3RPhGtR5tx/A88BcM2sODyZODMufAqaa2bHhczWa2bxhfbMiNSZcrGg18AYz6zCzjwHnAh8zs3XARvYNfjseeMrMngamUcIpKbXQRUYZd38s/PI4m+DL5P+Y2b8TrIJ2K8H5cwi63W8j+GJJGWj7fK/VbmbLgfXAM8BjYXlPOHDu22HQNwDfJPhCE4kkd/9AgbtyLmVz9xXAinKeX6utiYiIRIC63EVERCJAgS4iIhIBCnQREZEIUKCLiIhEgAJdREQkAhToIiIiEaBAFxERiQAFuoiISAT8/8ZqNvP5DMW9AAAAAElFTkSuQmCC\n",
         "text/plain": "<Figure size 576x432 with 1 Axes>"
        },
        "metadata": {
         "needs_background": "light"
        },
        "output_type": "display_data",
        "transient": {}
       }
      ],
      "source": "# Check the relationship between revenue and runtime using scatter plot\ndf.plot.scatter(x = 'revenue', y = 'runtime', figsize=(8,6))\nplt.xlabel('Revenue')\nplt.ylabel('Runtime')\nplt.title('Scatter Plot of Revenue vs Runtime')\nplt.show()",
      "start_time": "2022-08-08T18:12:48.786Z"
     },
     {
      "end_time": "2022-08-08T18:45:17.606Z",
      "execution_time": "131ms",
      "outputs": [
       {
        "data": {
         "image/png": "iVBORw0KGgoAAAANSUhEUgAAAfQAAAGDCAYAAADd8eLzAAAAOXRFWHRTb2Z0d2FyZQBNYXRwbG90bGliIHZlcnNpb24zLjUuMiwgaHR0cHM6Ly9tYXRwbG90bGliLm9yZy8qNh9FAAAACXBIWXMAAAsTAAALEwEAmpwYAAA4aklEQVR4nO3deZxcVZ3//9enqpeELBCSGMhGwAadBJOokcWgMuAMiBiYCSCCon4dkfnhMjMgi44bflEIzLjC1y9fdQREMSQzEBBFZFHRACbSiQlrK5DuBEJoErLQ6aXq8/vj3urU2lXV3dVVdfv9fDz6ka5Tt6pO3VTX+55zzz3H3B0RERGpb7FqV0BERESGToEuIiISAQp0ERGRCFCgi4iIRIACXUREJAIU6CIiIhGgQBcZIWb2ZTP78Qi91mIze8bMdpvZ6SPxmjI0ZvY9M/tCtesh9UuBLjXHzI4zsz+Y2atm9oqZ/d7M3jbE5/yImT2UVfYjM/vfQ6ttzuv8yMx6wiB9xczuNbM3DuJ5njOzdw+hKlcA33X38e5+e4Hn7wrr+WJY7/FDeL3ICT8ziXAf7TSzdWZ26jA+d8bn0d0vcPevDsfzy+ikQJeaYmYTgbuA7wAHAjOArwDd1axXPmbWUOCuZe4+HpgJvAT8aMQqtc8hwMYi27wvrOdC4M3A5ZWuVB1aHe6jA4DrgVvN7ICq1kikAAW61JojANz9p+6ecPcud/+Vu69PbWBmHzezJ8xsl5k9bmZvCcsvM7O/pJX/Q1j+N8D3gGPD1tYOMzsfOBe4JCy7M9x2upmtNLNtZvasmX067XW/bGYrzOzHZrYT+MhAb8TdXwN+AhyZ734zW2JmG8P6PBjWEzO7GZgN3BnW7ZICj/+4mbWFPQGrzGx6WP4X4LC0xzcXqeeLwD0EwZ567mPCXpIdYcv0+LD8bDNbk1WPfzWzVeHvzWZ2rZltMrOtYTfy2PC+482sw8wuMrOXzOwFM/to2vM8aGb/lHY7oxVrZm8MezxeMbOnzOysAvulWB1PCT8fu8xss5ldPND+CfdRErgZGAccXmJ93cwusODUx3Yzu84COZ/HcPv+HqO0fXVJ2r46Paz70+E++Fzaa8XSPv+dZrbczA4s9r4kWhToUmueBhJmdqOZvcfMJqXfaWZnAl8GzgMmAkuAzvDuvwDvAPYnaNX/2MwOdvcngAsIW1vufoC73wDcQtiadvf3mVkMuBNYR9AzcCLwL2Z2UloVTgNWELTYbhnojVjQhX0u8Fie+44Afgr8CzAVuJsggJvc/UPAJsIWtLsvy/P4E4CvA2cBBwPPA7cCuPvrsx4/YO+Gmc0E3gO0hbdnAD8H/jdBL8nFwEozmwqsAt5gZoenPcU5BAcuAFcTHJQtBFoI9uMX07Y9iOD/ZwbwMeC67P/jAnUcB9wbvs7rgA8A15vZvDybF6vjD4BPuPsEgoOt+0t4/TjwUaCXYF+X6lTgbcACgv+rk/J9Hgs89iBgDPv24f8DPgi8leBz/kUzOyzc9tPA6cC7gOnAduC6MuopEaBAl5ri7juB4wAn+ALbFrY+p4Wb/BNBCP/RA23u/nz42NvcfYu7J939Z8AzwFFlvPzbgKnufoW797j7X8M6nJ22zWp3vz18ja4Cz3Nx2OpqA8aTvyX/fuDn7n6vu/cC1wJjgbeXWNdzgR+6+5/CwL6coMU3p8THA9xuZruAdoJTA18Kyz8I3O3ud4fv815gDXBK2OtwB0GgEobmG4FVZmbAx4F/dfdX3H0X8DUy918vcIW797r73cBu4A0l1PVU4Dl3/y9373P3PwErgTOyNxyojml1mGtmE919e/hchRwT/l/uJfg/+qC7v1RCfVOucvcd7r4JeIC0XpAS9AJXhp+PW4EpwLfcfZe7byQ4pTI/3PYTwOfdvSP8PHwZOMMKnxaSCFKgS81x9yfc/SPuPpOgBTUd+GZ49yyClngOMzvPzFrDbuId4WOnlPHShwDTU48Pn+NzwLS0bdpLeJ5rw16Ag9x9ibvnq+900lp6YZduO0FrrBTZj99N0FNR6uMBTg9bqccTBF5qXx0CnJm1H44j6AmAoKX7gfD3c4DbwxCdCuwHrE173C/D8pROd+9Lu/0awUFPMYcAR2fV6VyCVmw+heoIsBQ4BXjezH5jZscO8LoPhy3oSQQHBO8ooa7pXkz7vdT3mtLp7onw99TB49a0+7vSnu8Q4H/S9s0TQILMz65EnI7epKa5+5Nm9iOCFggEoff67O3M7BCC1vSJBK3ohJm1ApZ6qnxPn3W7HXjW3Q/Ps22hxwzWFuBNqRth63YWsLnE19lC8CWeevw4YHLa40vm7r8J9/G1BN227cDN7v7xAg/5FTDFzBYShOa/huUvE4TMPHcvux7AHoIDgpT0sG4HfuPuf1ficxWqI+7+R+A0M2sEPgksJ9j3Bbn7bjP7/4C/mNkP3f2xIvUtZriXuWwH/pe7/36Yn1fqiFroUlPCgU8Xhed1MbNZBF/ID4ebfJ+gS/ut4QCjljDMxxF8SW4LH/dRMgejbQVmmllTVtlhabcfBXaa2aVmNtbM4mZ2pA3xkrkClgPvNbMTw2C5iGAk/x8K1C3bT4CPmtlCCwa9fQ14xN2fG2R9vgn8XRiAPwbeZ2YnhftgTDhIayZA2MJeAVxDcI793rA8SXBQ9Q0zex0E5+OzxiAMpBX4RzPbz8xaCM6xp9wFHGFmHzKzxvDnbeEAsxyF6mhmTWZ2rpntH3Zl7yRoyRbl7p0En7/UmICB6ltMvs/jUHwPuDL8W8DMpprZacP03FInFOhSa3YBRwOPmNkegiDfQBB4uPttwJUEgbYLuB040N0fB/4DWE3wZfkmIL21cj/BOccXzezlsOwHBOdSd5jZ7WH35vsIznM+S9Di/D7BIK5h5e5PEZyr/k74Ou8jGMTWE27ydeDfw7rljMJ29/uALxCcR36BoNfi7OztyqjPNuAm4Avu3k4w+O9zBAdI7cBnyfy++AnwbuC2rC70SwnGDjxswZUAv6a0c+QA3wB6CP7/biRt0GF4Pv7vCd7jFoKu7KuBgUbwF6rjh4DnwvpdQPD/UKpvAqeY2fyB6luCfJ/HofgWwSmBX4XjIh4m+DuSUcTch7vnR0REREaaWugiIiIRoEAXERGJAAW6iIhIBCjQRUREIkCBLiIiEgF1PbHMlClTfM6cOdWuhoiIyIhZu3bty+4+Nbu8rgN9zpw5rFmzpviGIiIiEWFmeRcIUpe7iIhIBCjQRUREIkCBLiIiEgEKdBERkQhQoIuIiESAAl1ERCQCFOgiIiIRoEAXERGJAAW6iIhIBCjQ03Tu7mZd+w46d3dXuyoiIiJlqeupX4fTHa2buXTlehpjMXqTSZYtnc+ShTOqXS0REZGSqIVO0DK/dOV69vYm2dXdx97eJJesXK+WuoiI1A0FOtCxvYvGWOauaIzF6NjeVaUaiYiIlEeBDsycNJbeZDKjrDeZZOaksVWqkYiISHkU6MDk8c0sWzqfMY0xJjQ3MKYxxrKl85k8vrnaVRMRESmJBsWFliycweKWKXRs72LmpLEKcxERqSsK9DSTxzcryEVEpC6pyz2NrkMXEZF6pRZ6SNehi4hIPVMLHV2HLiIi9U+Bjq5DFxGR+qdAR9ehi4hI/VOgo+vQRUSk/mlQXEjXoYuISD1ToKfRdegiIlKv1OUuIiISAQp0ERGRCFCgi4iIRIACXUREJAIU6CIiIhGgQBcREYkABbqIiEgEKNBFREQiQIEuIiISAQp0ERGRCFCgi4iIRIACXUREJAIU6CIiIhGgQBcREYkABbqIiEgEKNBFREQiQIEuIiISARUNdDP7VzPbaGYbzOynZjbGzA40s3vN7Jnw30lp219uZm1m9pSZnVTJuomIiERJxQLdzGYAnwYWufuRQBw4G7gMuM/dDwfuC29jZnPD++cBJwPXm1m8UvUTERGJkkp3uTcAY82sAdgP2AKcBtwY3n8jcHr4+2nAre7e7e7PAm3AURWun4iISCRULNDdfTNwLbAJeAF41d1/BUxz9xfCbV4AXhc+ZAbQnvYUHWFZBjM738zWmNmabdu2Var6IiIidaWSXe6TCFrdhwLTgXFm9sGBHpKnzHMK3G9w90Xuvmjq1KnDU1kREZE6V8ku93cDz7r7NnfvBf4beDuw1cwOBgj/fSncvgOYlfb4mQRd9CIiIlJEJQN9E3CMme1nZgacCDwBrAI+HG7zYeCO8PdVwNlm1mxmhwKHA49WsH4iIiKR0VCpJ3b3R8xsBfAnoA94DLgBGA8sN7OPEYT+meH2G81sOfB4uP2F7p6oVP1ERESixNxzTlPXjUWLFvmaNWuqXQ0REZERY2Zr3X1RdrlmihMREYkABbqIiEgEKNBFREQiQIEuIiISAQp0ERGRCFCgi4iIRIACXUREJAIU6CIiIhGgQBcREYkABbqIiEgEKNBFREQiQIEuIiISAQp0ERGRCFCgi4iIRIACXUREJAIU6CIiIhGgQBcREYkABbqIiEgEKNBFREQiQIEuIiISAQp0ERGRCFCgi4iIRIACXUREJAIU6BXQububde076NzdXe2qiIjIKNFQ7QpEzR2tm7l05XoaYzF6k0mWLZ3PkoUzql0tERGJOLXQh1Hn7m4uXbmevb1JdnX3sbc3ySUr16ulLiIiFadAH0Yd27tojGXu0sZYjI7tXVWqkYiIjBYK9GE0c9JYepPJjLLeZJKZk8ZWqUYiIjJaKNCH0eTxzSxbOp8xjTEmNDcwpjHGsqXzmTy+udpVExGRiNOguGG2ZOEMFrdMoWN7FzMnjVWYi4jIiFCgV8Dk8c0KchERGVHqchcREYkABbqIiEgEKNBFREQiQIEuIiISAQp0ERGRCFCgi4iIRIACXUREJAIU6CIiIhGgQBcREYkABbqIiEgEKNBFREQiQIEuIiISAQp0ERGRCFCgi4iIRIACXUREJAIU6CIiIhGgQBcREYkABbqIiEgEKNBFREQiQIEuIiISAQp0ERGRCFCgi4iIRIACXUREJAIU6CIiIhGgQBcREYkABbqIiEgEVDTQzewAM1thZk+a2RNmdqyZHWhm95rZM+G/k9K2v9zM2szsKTM7qZJ1ExERiZJKt9C/BfzS3d8ILACeAC4D7nP3w4H7wtuY2VzgbGAecDJwvZnFK1w/ERGRSKhYoJvZROCdwA8A3L3H3XcApwE3hpvdCJwe/n4acKu7d7v7s0AbcFSl6iciIhIllWyhHwZsA/7LzB4zs++b2Thgmru/ABD++7pw+xlAe9rjO8KyDGZ2vpmtMbM127Ztq2D1RURE6kclA70BeAvwf9z9zcAewu71AixPmecUuN/g7ovcfdHUqVOHp6YiIiJ1rpKB3gF0uPsj4e0VBAG/1cwOBgj/fSlt+1lpj58JbKlg/URERCKjYoHu7i8C7Wb2hrDoROBxYBXw4bDsw8Ad4e+rgLPNrNnMDgUOBx6tVP1ERESipKHCz/8p4BYzawL+CnyU4CBiuZl9DNgEnAng7hvNbDlB6PcBF7p7osL1ExERiYSKBrq7twKL8tx1YoHtrwSurGSdREREokgzxYmIiESAAl1ERCQCFOgiIiIRoEBP07m7m3XtO+jc3V3tqoiIiJSl0qPc68YdrZu5ZMU64hYj4UmuOWMBSxbmTFQnIiJSk9RCJ2iZX7S8le4+57XeBN19zr8tb1VLXURE6oYCHdi4ZSd9ycyyvmRQLiIiUg8U6ECeKeOLlIuIiNQWBTowb/r+NMYz14ZpjBvzpu9fpRqJiIiUR4EOTB7fzAfeNiuj7ANHzWLy+OYq1UhERKQ8CnSCQXHL13ZklC1f06FBcSIiUjcU6EDH9i4aY5m7ojEWo2N7V5VqJCIiUh4FOjBz0lj29mUu7La3L8HMSWOrVCMREZHyKNBD7j7gbRERkVqmQCfoch/bmDlp3tjGBnW5i4hI3VCgE3S59yYzZ5bpTSbV5S4iInVDgU5w2dqypfMZ0xhjQnMDYxpjLFs6X5etiYhI3dDiLKElC2ewuGUKHdu7mDlprMJcRETqigI9zeTxzQpyERGpS+pyFxERiQAFuoiISAQo0EVERCJAgS4iIhIBCnQREZEIUKCnadu6ixVr2mnbuqvaVRERESlLWZetmdk4d99TqcpU0xdv/zM3Pbyp//Z5x87mitPeVMUaiYiIlK6kFrqZvd3MHgeeCG8vMLPrK1qzEdS2dVdGmAPctHqTWuoiIlI3Su1y/wZwEtAJ4O7rgHdWqlIjrbV9R1nlIiIitabkc+ju3p5VlMi7YR1aOOuAsspFRERqTamB3m5mbwfczJrM7GLC7vcoaJk2gfOOnZ1Rdt6xs2mZNqFKNRIRESlPqYPiLgC+BcwAOoBfARdWqlLVcMVpb+K8Y+bQ2r6DhbMOUJiLiEhdKSnQ3f1l4NwK16XqWqZNUJCLiEhdKinQzexQ4FPAnPTHuPuSylRLREREylFql/vtwA+AO4FkxWojIiIig1JqoO91929XtCY1oHN3Nx3bu5g5aazWRRcRkbpSaqB/y8y+RDAYrjtV6O5/qkitquCO1s1cunI9jbEYvckky5bOZ8nCGdWuloiISElKDfQ3AR8CTmBfl7uHt+te5+5uLl25nr29SfaGb++SletZ3DJFLXUREakLpQb6PwCHuXtPJStTLR3bu2iMxfrDHKAxFqNje5cCXURE6kKpE8usAw6oYD2qauaksfQmM8f69SaTzJw0tko1EhERKU+pgT4NeNLM7jGzVamfSlZsJE0e38yypfMZ0xhjQnMDYxpjLFs6X61zERGpG6V2uX+porWoAUsWzmBxyxSNchcRkbpU6kxxv6l0RWrB5PHNCnIREalLAwa6mT3k7seZ2S6CUe39dwHu7hMrWjsREREpyYCB7u7Hhf9qgnMREZEaVtKgODO7uZQyERERqY5SR7nPS79hZg3AW4e/OiIiIjIYAwa6mV0enj+fb2Y7w59dwFbgjhGpoYiIiBQ1YKC7+9fD8+fXuPvE8GeCu09298tHqI4iIiJSRKmXrV1uZjOAQ8hcD/23laqYiIiIlK6kQDezq4CzgceBRFjsgAJdRESkBpSzOMsb3L276JZ1TOuhi4hIvSo10P8KNJK2FnrUaD10ERGpZ6UG+mtAq5ndR1qou/unK1KrEab10EVEpN6VGuirwp9I6tjehSc9o8yTrvXQRUSkbpQ6yv3GSlekmsY1xelOZAZ6d8IZ1xSvUo1ERETKU+oo92fJXJwFAHc/bNhrVAV7ehKMaYyxtzfZXzamMcaensQAjxIREakdpXa5L0r7fQxwJnDg8FenOmZOGltWuYiISK0paS53d+9M+9ns7t8ETijlsWYWN7PHzOyu8PaBZnavmT0T/jspbdvLzazNzJ4ys5MG84YGY/L4ZpYtnU9zQ6z/Z9nS+Tp/LiIidaPU1dbekvazyMwuAEpdUvUzwBNpty8D7nP3w4H7wtuY2VyCyWvmAScD15vZiJ3EXvPcK3T3Jft/1jz/yki9tIiIyJCVutraf6T9fJ1gpbUziz3IzGYC7wW+n1Z8GpAaZHcjcHpa+a3u3u3uzwJtwFEl1m9I2rbu4qaHN2WU3bR6E21bd43Ey4uIiAxZqaPc/zb9drh86vuBp4s89JvAJWS25qe5+wvh875gZq8Ly2cAD6dt1xGWZTCz84HzAWbPnl1K9Ytqbd9RsLxlWqkdESIiItVTbPnUieF57e+a2d9Z4JMEreezijz2VOAld19bYl0sT1m+kfU3uPsid180derUEp96YAtnHVBWuYiISK0p1kK/GdgOrAY+TtDabgJOd/fWIo9dDCwxs1MIRsZPNLMfA1vN7OCwdX4w8FK4fQcwK+3xM4Et5byZwWqZNoF3tEzmd22d/WXvaJms1rmIiNSNYufQD3P3j7j7/wU+QHD52qklhDnufrm7z3T3OQSD3e539w8SzDj34XCzDwN3hL+vAs42s2YzOxQ4HHi03Dc0GJ27u/nj89szyv74/HY6d0d26noREYmYYi303tQv7p4ws2fdfagjxa4ClpvZx4BNhIPr3H2jmS0nWKK1D7jQ3UdkZpeO7V00xmL987gDNMZimvpVRETqRrFAX2BmO8PfDRgb3jbA3X1iKS/i7g8CD4a/dwInFtjuSuDKUp5zOM2cNJbeZDKjrDeZ1MQyIiJSNwbscnf3uLtPDH8muHtD2u8lhXk92DexjLFfY5zmBtPEMiIiUldKvQ498oLh9BaOtc834F5ERKR2KdDZtx56d1+S13oSdPcluWTleg2KExGRuqFAJxgUV065iIhIrVGgE6yHnr50KsDe3qTWQxcRkbqhQCdYDz37rLmF5SIiIvVAgQ709iVy5pj1sFxERKQeKNCB5zpfK6tcRESk1ijQ0eIsIiJS/xTowKRxTcSyTqLHLCgXERGpBwp0gsvTxjVlzoI7rqlBl62JiEjdUKCjudxFRKT+KdBJn8s91v+judxFRKSeKNBDa557he6+ZP/PmudfqXaVRERESqZAB9q27uKmhzdllN20ehNtW4e69LuIiMjIUKADre07yioXERGpNQp0dB26iIjUPwU60DJtAucdOzuj7LxjZ9MybUKVaiQiIlKehuKbjA5XnPYmzjtmDq3tO1g46wCFuYiI1BUFepqWaRMU5CIiUpfU5S4iIhIBCnQREZEIUKCLiIhEgAJdREQkAhToadq27mLFmnbNECciInVHo9xDX7z9zxnTv5537GyuOO1NVayRiIhI6dRCR3O5i4hI/VOgo7ncRUSk/inQgTmT9yurXEREpNYo0IHXepNllYuIiNQaBToAXma5iIhIbVGgA9P3H1tWuYiISK1RoANbXu0qq1xERKTWKNABsDLLRUREaosCHZg3fWJZ5SIiIrVGgQ5s39NTVrmIiEitUaAD92x8saxyERGRWqNAFxERiQAFOnDSvIPKKhcREak1CnSgZdoE3tEyOaPs6EMnsacnQefu7irVSkREpHQKdKBzdzer/9qZUfbIs9s59/sPs/jq+1nVurlKNRMRESmNAh3YuGUnfXmmbd/dnWBvb5JLVq6nc3c3nbu7Wde+Q612ERGpOQ3VrkAt2Nk18OVpjbEYtzyyiesfbKMxFqM3mWTZ0vksWThjhGooIiIyMLXQgV17+wa8vyeR4LoH2tjbm2RXd19Gq11ERKQWKNCB9u2v5S1vihtjGmN88m8PpymeuasaYzE6tmuudxERqQ0KdArP2L5kwcH8/tITOOfo2fQmM0+y9yaTzJyk1dhERKQ2KNCBl3ftzVseN5g8vpnJ45tZtnQ+YxpjTGhuYExjjGVL5zN5fPMI11RERCQ/DYoDNr6wq2j5koUzWNwyhY7tXcycNFZhLiIiNUWBDsw7eAIbtuSG+ryDJ2TcTrXWRUREao263IHZk8eXVS4iIlJrFOjA5HFNZZWLiIjUGgU68OLO/IPiCpWLiIjUGgU6sL5jR97ytc9tz1uuKWBFRKTWaFAcMG3imLzlv/tLJ6taN2dM8XpH62YuXbleU8CKiEhNUQsdWNwyteB9F922rr8l3rm7m0tXrtcUsCIiUnMU6MCxr59c8L7ehLNxy6sAdGzvojGmKWBFRKT2KNCB3z39UpEtjM7d3bza1UtPQlPAiohI7alYoJvZLDN7wMyeMLONZvaZsPxAM7vXzJ4J/52U9pjLzazNzJ4ys5MqVbdsd/35xYL3NcSg/ZXXePtV93HBzWvpSyRpjJumgJWK0sBLESlXJQfF9QEXufufzGwCsNbM7gU+Atzn7leZ2WXAZcClZjYXOBuYB0wHfm1mR7h7ooJ1BOBtsw/g10/kb6V/ZcmRfGnVBvqSAEFVPOFc9+E3M2/6/hlh3rm7W1PDypBp4KWIDEbFWuju/oK7/yn8fRfwBDADOA24MdzsRuD08PfTgFvdvdvdnwXagKMqVb90fZ6/PG4QM8Iw3ycJrP5LZ0Zo39G6mcVX388Hv/8Ii6++n1WtmytX4SxqzUWHBl7WF/3tSS0ZkcvWzGwO8GbgEWCau78AQeib2evCzWYAD6c9rCMsy36u84HzAWbPnj0s9XutpzdvecLhc/+zIe9933/oWY59/RTmTZ8I0P8lvJcg/S9ZuZ7FLVMq3lJXay5aUgMvU58j2DfwUr0+tUV/e1JrKj4ozszGAyuBf3H3nQNtmqcsp+3s7je4+yJ3XzR1auHLzcoxc9K4gvcVaLzTm3AuuHkti6++n588smlIo9/LOcpP37bWWnNqrQzdzElj6U1q4GWtq7W/PRGocAvdzBoJwvwWd//vsHirmR0cts4PBlInrzuAWWkPnwlsqWT9UvZ09w3qca/1BufUv/vAM2Qfj5T6JVzOUX72thce31IzrTm1VobH5PHNLFs6n0uy9qVa57VFPSlSiyoW6GZmwA+AJ9z9P9PuWgV8GLgq/PeOtPKfmNl/EgyKOxx4tFL1S7euPf8Ur6Vqisc5/52Hcd2DbWV9Cacf5Rfrqs+37VAOJLKfOzWYDyh7YF8570OKW7JwBotbpmiAZQ1TT4rUokq20BcDHwL+bGatYdnnCIJ8uZl9DNgEnAng7hvNbDnwOMEI+QtHYoQ7wJ83D3QmoLi9fQnOOXo25xw9O5yExpg3fWLRUe/lHOXn23YwBxLZdUpvWe/tS+DujG1sKKuVHYXWSrH/q5G+gmHy+Oa62XejkXpSpBZVLNDd/SHynxcHOLHAY64ErqxUnQrZ9MrQZnpzD860P9T2cn84dvX2YWaMaYj3/7Fnt7oGOsrPDpBC26YOJEoJm+xu8S+8dy5f/fnjGS1rgF3hKYhSW9n13lopdrpApxMkH/WkSK3R4ixAsvgmA2qKx1n9l86cbmdwehNBOP7b8lbMgm0T7v2hcNaimdy0elP/c521aGbGgUF6gAzUIhhM9/5X7txIU0PhcZGltrLrubVS7HSBTifIQNSTIrVEgT4MXutN8JmftRK3QmPi913L3psIziJcfFsr7a+8xq2PbsrY7md/7OBnf2ynu89zAmQoLYK83eLxGD2JwnUu1FuQTzl1q6UJeIqdLhjo/tTja6WbXkRGNwV6CWIUb8Unkk45J/x7EnDNr57OKY/HDNwg7dnSA2agFsFAAZKvWzzhzpfeN5ev3vV4wXPohXoL8imltVJr3dfFThcUun/D5ld5/w2r1U0vIjVDgV6EEcwWlyzckB1WfYkkljXyoJTz0cUCpFC3+JKFMzh6zoG0tu9g4awDmDSuKWPE++Kr78/obr54xXrmHjyRlmkTyn5vtdh9Xex0Qb778409GGw3vVrxIjJcFOhAI5B/rrhgYplCU8NWggNzD55Aa/u+kfdnLZpZtAu7lADJ1y0+0IHAuvYdOd3NPX1JTvn277j2zAVltzhrdTR8ar9s3LITcOZN3z/v/an91rG9i4ZY5lFXqd302dMFqxUvEl0jfcCuQGfog+KGU2/CM8Ic4Gd/bOfdfzMtZzGYlHKCMr1bPN+BwMW3retvgefrbgboSfigWtaVHg0/lD+e9FMLPYkEn/zbwznn6NkZLfXU77/c8CK7uzNPsJTSTZ/+Pmuxt0JEhk81Dti1HjqFp3etFd19ziduXsuxX7+PWx5+Puf+coIyfXrW1IFAup6Ec/K3fsvn//vPbN/Tw7Kl8/OOhE8dMJQz3Wuq+3pMY2zYl58dyuI42dN4dvc5/3Hv07z9qtzn6dzdzVd//njOc3zh1Lk53fQDvc98+z57umBNpStSn6o1NbBa6MOoIWb0Vehke1dvENifv30De7r7OPqwyRkt0QuPb+G7D7TRFC982VjOdeinzs3bAu9Lwi2PbuKWRzdx3rGzuftTx3HKt3+XMSI+38CwL7x3LkfO2H/YRsOXaqit3Xw9HADdfcmcc+MPPPlSTnf7fk0xmuMxOnd39293yORx3PXJ49jTk8j7Psc1xenuK9zKV3e8SP2q1ulFBXod+tovnmRcU3A9+1mLZrJ8TUfY2nPOf+dhGV3FKflC76t3Pc6//d0RLLvnKfoKXL520+pNnHfMHK49c0HmwLBTg9Hx6c/3+ds3ML45Tl/Shzwavhwbt+wkRuFz2impXolxTfGMoC10aiH9eVJd8nEz9vRkBvFrPUm+tGoj/37HBs5660yWr+3ICOIFsw7I2D4V1rGYQcJpjhsWs/6DMHXHi9S3ak22pUBn+M6hD6Z1bgyuyz8VKqlJaVJf/Nc92MY5RwfLyqYHWGv7jpyWpTss++WTNMaMgZanaW3fwRmLZuUMDMvXqk2dWx7J5WMvWbGe7r6B/3huefh5vnLnRsyCUxhNMcCML71vHucec0jOBD/pzzOuKd4fsOnGNMb6y/r/Px7O/P/I3g/pYZ3iZvz8k8f1XzlQq4MHRaQ01ZpsS4FeZcXC/MiDJ7DhhV0lP1/qi/+XG17MCbCerCOXVAgWOxBZGLYws1vWhVq16fVID7JC3eydu7vZuGUnO7t6mDi2sX+Uefqo8+17evovrUsFX+fu7rxh3txgGX88tzz8PJ+/PXNd+2BfeP8pjOVrOnLeQ3NDcO57T08i78FLX6L4oWD2fsgX1s3xWP8BQefubl7t6qEnUbg7Pkp02Z5EVTWmBlag17inX9pd1va9ySQP/7WTr//iyYzy7DAv5PCp43hm257+2+cdOzvvNefpR6D5uqHTA+iWh5/nK3c9TlPccrrj72jdzEXLW0nP5HjMSCa9/2AnuxfjvGNnc8Vpb+KWRzblhPl+TXG+98G3MG/6/qxr38G4pjhfuSt3EFu6Zfc8SXNDPKOsOR7jP85cwKkLptO5u7vgWINisoN4oK649PPmSYeGGBmT/NRi4A0lkDVOQKJupKcGVqDXuL6EE4eSZ6H7t3cfwdeywrwcm7Z3seITx7Bhy6tMGT+GY18/Oe922QO/Nmx5tX/GudQ59o7tXaxc29Ffn56wXz/VDQ1wyYp1OcGYyOoxyO4/uGn1Jt51+FS+c/8zOfVKJJ32V7o4/+a1NMZidPclsOyZerL0JcF7M/dwdyLJRbetI+nO4pYpXHh8C9+5/2nA8k6XO7YxhkPGmIbUQMHUyPXUH3e+rjgg57x5c0OM6859C/OmT6zJMB9KILdt3cVnV6ynp0/jBIZCPRySToFe48o9v7/snqeG9HoNceMPf32F6x9sI25GbyLZf545Jd8X+cnzDmLWpP2AIFC/etfjNMQs53ptCFrgqZCLW4zSD1f2+fhNa/Pum/+1eE6eFeSKj1KIxYw4TnpHQ3dfEOqxsIugJxG0mvO59OQ38r4F05k8vpnPnHgEHdu72LD5Vb7688dzAi9fV1y+SXya4jH2H9tYk1/UQxm4d0frZj5727qcAyONEyiPejgkmwI9YoZ62dye7gTf+vXTpH/Xfv72Dezp6ePoQydnDBBLfZGnQq8pHqcnkSDpwQQ5hfQmnHFNcba8upe+Ac7DD6TQo+ZN3z/POWrDzWiMG70J55g5k/htW2fG48Y0xLno7w9n2T1P81paqme/j3z7tyFGf5jDvpXv3n/D6oKBl90VN1yjYofaYiv18YMduJc6EMjXyxHVcQKVoCshJB8FuuTIl8Vfu/tJxjfH6e7N7cJOhV5330Bj5fc55tBJvPc7vwuWkh3G6/ab48bEsY109WbWIwn84lP7rgkHePtV92ecf+9NJjmuZSpX/bL0Ho7meAzMueaMBTlfouUG3nCMih1qi62cxw/2AKTQ1RFNDcM3ydBooCshJB8FupRsX/f50EL4t88EreNSDwBKZsYTL+zMOSfv7kwa10TLtH1fdNeckRueLdMmZIRqTyJJT18y77ttbojx/85bVPD89mACbyijYofaYiv38YM9AMm3Xxrjxt2fOm5QC/6MVtW6zllqmwJdqq4xbhjQ3BDMnhaLWc4136U4+tBJXJNnDEFzQzxn/fJC4ZlePq4pznu+/bucbvfmBuOaM+bzziOmFqzLYANvsKNih9piG8zjB3MAktovF922rn+/ujuPv7BTgV6Gal3nLLVNgS5V15twVnziGBob4oxrinPqdx8q+pgGy10FL9Xyz33+wuuXF2p9pgaqjWmI05vY15OQuizunUe8rmgdR/I61KG22Ab7+MEcgCxumUL6HEd9SZ3/HYxqXOcstU2Ls0jVNcWgsSHOgnDSmNTCJvs1xvNuHzM4ad5BJT//P7/r9f0j31MLJXx2xbqiCyXkC7mk5y6vOpDJ45tZMOuAkr9sB7sgy1AXvqnkwjnZOrZ30RTP/L/NXphGSlPu50uiTS10KUtq+tjhXISmJwkbtrzaP+d5+vrkH79pTc7kMUmHXz/5Ek1x6Cnhirdtu7tzupO7+5yfPLKJT514eMHHjXS35lAHtQ21xTZSLT6d/xWpDHOv9cVDC1u0aJGvWbNmyM8z57KfD0NtRoeGWPEZ0t4wbRzPdb6GYezN2rgxBm84aAIbtmROZzumMcbvLz0hJ0RWtW7m4jzXLE9obuD8dx7GdQ+2EY8Ze/Jc757S3BDDPZkT/s0NMf5wWe5rZhvKpWClPrZzdzeLr74/Y+xAoX0SBataN+ccKOkaapHSmNlad1+UXa4WupSllOlOn9m6h4Z4jHwTtPUmyQlzgLhZ/wCs9BBcsnAGcw+eyCnfeYierMvMzjl6NuccPbt/EpcvrdqQt35N8RhLFszklkc35ZSXMmhssAPVymlxj7bLkHT+V2T46Ry6DLsk0JNI5rTOB9KTSPJqVy+3PPw8i6++nw9+/xEWX30/q1o30zJtAteekXt+F/aNWj/3mEN45HPv5rsfeDON8azr5JNJPrp4Ds1Z07xVsps3/TKw1Hn7S1au7z83nn2ufCS7oQd7nn646fyvyPBSC11qQiLh/POP1/Yv8pJ9LXR2i+6htpdZfPX9Oa3fUxdMJ+me9xrzfNeeZ/cIDFe4DNTiTq2tnl33kThfr+lCRaJLgS6DFo/BZSe/kSdf2MnKx7YM6bmSkLNiG2R2O6d+8i3scfGK9cw9eCIt0yaUdI15qnyoAVfoYKBQizvf1LmFDlqGO8w1XahItCnQpd+45jh7exJ5p37NJ5GEb/z6GfoSCeJmJCowwDK727nQwh49fUlO+fbvuPbMBRnXl6evdJb6N/V7vgODz65YzwH7NWXMAFcotAc6GCg0Qj7f2ur5DloqYbSdpxcZbRToo0zcYOlbZ/A/j23pn6mrIQZfWXIkR87Yn1e7evnEzWvoKnGmtn0LmZQf5mMaYySSTjLpOQcR+zUFa4Kndzu3bd2VN8xTehLe3+Is1K2dUujAoLsvyQU3ryVJsG67Q97nKaW1m6/FnW9t9VLPlQ/11IAuFxOJNgX6KJNwWLXuBX7x6Xew5dUuwPpbo21bd/HYplfoSwxuBbRSxQCM/ku0YgbhCqX9unuTXHH6kf0hfEfr5qA1XaT7IAZs3LKTS1asp7vAWtsDrfgF8Fq4NvpnV6wDLO/zlNrazW5xD/ba9uE4963pQkWiTYE+CsUsOF+dPn3pF2//Mzc9vGmARw2fJGSkd745ahIOV9y5kZPDGeEuXbk+47K1QnoSSVb/5eWcyWjSw7bQil/Z4hYLjjTyPM9QWrvlnisfznPfulxMJLp02doo1NWTGTxtW3eNWJiXI25BeKYCuBQXHt/CD3//bE55T2Lfe84Xxvn0JRM5y7umQns4plot9ZKtfO9/KFOl6nIxkWhSoI9CDvxyw4v9t1vbd1TstZri8Nm/P4KxDeV/1BIehGe+AG5qiLFkwcEZZWctmskJfzMtZ55wgE/+bUvGwLj0MG6KG2Mac+v3qROO4Jo817+nnyP//aUn8ON/OprfX3pCxS7/0rlvESmFutwjJPs89EC+cudGTj7yICaPb2ZhOId6KeIxY7/GON19SXrynGuP2b4u9IYYXHvmQha3TOE7D7QVfM6GGJxz9Gx++mh7xkC9a85Y0B+e+c79Llk4g0+fsIvW9h0sDBd2yTforLnBOOfo2Rll2cukZq/w1twQ45yjZzN5fPOAXdSVHJWe/ho69y0ixWgud6Izl/t+jXG6EwlKGdM2rinOTz5+TP+CKF+848/ctDp/t3sM+MBRs/no4jlMGtfUH4Inf+u3GVOtNsTgl595Z85gO8idu/sL753LrAPHZmzXububjVtezXlsSqmjvAczT3g9zC1eiQlwRKT+FJrLXYFOfQV6Q9x4R8sUHnhqW859zQ2GO0VHgkP+hT/atu5r7U4a1zRguEIQgp9dsY64xUh4kmvOWDBgCI5kIA3mtRSYIlIPtDhLHWmMGf/0jkP5wUPP4g69Se8/x5tqObZt3cV//f45blvbTnNDvL9VCfBvy1tzWs7/+JYZ3P7YFhrjMRLuebtsW6ZNoGXahP7b6aPg8yl3xPRIdE8P5bVGsn4iIsNNLXRGpoU+a9IY2rfv7b/95lkTGdMQZ/Wz2zO2a4jBf561sH/yklT39p6eRN7QzNeqDLqud7Kzq5eJYxszurTVAhURqW9qoQ+REQz4es+RB9EQN25vfaHkxzY3GLdfeBzb9/RkDOCCoJv7obaXGdMQY/qk/TK6t0tpMebbZvL4Zt55xNSSthURkWhQoJfgm2fN59CpEzKm77xz3Qs505XGDMY0xOjuS2IGYxsbMkYkTx7fnNGlDbnd3CIiIoOhQC9iv8Y4h06d0D8aHIKW7jfev5DPrliHmZFIOl9eMo+T5x3U36UNqHtbRERGjAK9iNTkJtkKDQjLnrdbRERkJCjQi0if3CSbzkmLiEit0NSvRRS6rrpzdzfr2nfQubt7hGskIiKSSy10Ck+ZannKYHiWshQRERlOaqFTeP7zfOXpS1nu6u5jb2+SS1auV0tdRESqSoFepuFeylJERGQ4KNAZeCdkt7y1lKWIiNQiBTrw+qn7Fbwvu+WdvZZ29hrZIiIi1aBBccC8GQfwzLbX8t43rimeU1buoiQiIiKVphY68IdnXi5436nffYhVrZtzyiePb2bBrAMU5iIiUhMU6MBLe3oK3qdR7CIiUg8U6CXQKHYREal1CvQSaBS7iIjUOgV6ERrFLiIi9UCj3Iv4/aUnKMxFRKTmqYVehMJcRETqgQJdREQkAmou0M3sZDN7yszazOyyatdHRESkHtRUoJtZHLgOeA8wF/iAmc2tbq1ERERqX00FOnAU0Obuf3X3HuBW4LQq10lERKTm1VqgzwDa0253hGX9zOx8M1tjZmu2bds2opUTERGpVbUW6JanzDNuuN/g7ovcfdHUqVOH5UXHNZZXLiIiUmtqLdA7gFlpt2cCWyr9ohu/+t6yykVERGpNrQX6H4HDzexQM2sCzgZWjcQLP3fVe/tb5OMag9siIiL1oqZminP3PjP7JHAPEAd+6O4bR+r11SIXEZF6VVOBDuDudwN3V7seIiIi9aTWutxFRERkEBToIiIiEaBAFxERiQAFuoiISAQo0EVERCJAgS4iIhIBCnQREZEIUKCLiIhEgAJdREQkAszdi29Vo8xsG/D8MD/tFODlYX7OqNE+Kk77aGDaP8VpHxU3WvfRIe6es9xoXQd6JZjZGndfVO161DLto+K0jwam/VOc9lFx2keZ1OUuIiISAQp0ERGRCFCg57qh2hWoA9pHxWkfDUz7pzjto+K0j9LoHLqIiEgEqIUuIiISAaMy0M3sZDN7yszazOyyPPebmX07vH+9mb2lGvWsphL20fFm9qqZtYY/X6xGPavJzH5oZi+Z2YYC9+tzVHwfjerPkZnNMrMHzOwJM9toZp/Js82o/hyVuI9G9eeon7uPqh8gDvwFOAxoAtYBc7O2OQX4BWDAMcAj1a53De6j44G7ql3XKu+ndwJvATYUuH9Uf45K3Eej+nMEHAy8Jfx9AvC0vo8GtY9G9eco9TMaW+hHAW3u/ld37wFuBU7L2uY04CYPPAwcYGYHj3RFq6iUfTTquftvgVcG2GS0f45K2Uejmru/4O5/Cn/fBTwBzMjabFR/jkrcR8Lo7HKfAbSn3e4g98NRyjZRVur7P9bM1pnZL8xs3shUra6M9s9RqfQ5AsxsDvBm4JGsu/Q5Cg2wj0CfIxqqXYEqsDxl2UP9S9kmykp5/38imH5wt5mdAtwOHF7pitWZ0f45KoU+R4CZjQdWAv/i7juz787zkFH3OSqyj/Q5YnS20DuAWWm3ZwJbBrFNlBV9/+6+0913h7/fDTSa2ZSRq2JdGO2fo6L0OQIzayQIqlvc/b/zbDLqP0fF9pE+R4HRGOh/BA43s0PNrAk4G1iVtc0q4LxwdOkxwKvu/sJIV7SKiu4jMzvIzCz8/SiCz1LniNe0to32z1FRo/1zFL73HwBPuPt/FthsVH+OStlHo/1zlDLqutzdvc/MPgncQzCa+4fuvtHMLgjv/x5wN8HI0jbgNeCj1apvNZS4j84A/tnM+oAu4GwPh5uOFmb2U4LRtVPMrAP4EtAI+hyllLCPRvvnaDHwIeDPZtYaln0OmA36HIVK2Uej/XMEaKY4ERGRSBiNXe4iIiKRo0AXERGJAAW6iIhIBCjQRUREIkCBLiIiMgKKLVaUte0hZnZfuCDPg2Y2s9hjFOgio4CZJcJVqDaY2Z1mdkC16yQyCv0IOLnEba8lmMN/PnAF8PViD1Cgi4wOXe6+0N2PJFgs5cJqV0hktMm3WJGZvd7Mfmlma83sd2b2xvCuucB94e8PUMICWQp0kdFnNeHiHvm+TMxsfzN7zsxi4Tb7mVm7mTUW+vIxsx+Fa3b/wcz+amZnhOXHm9ldqRc2s++a2UfC399qZr8Jn+ue0bSCmEiaG4BPuftbgYuB68PydcDS8Pd/ACaY2eSBnkiBLjKKmFkcOJF9U/nmfJm4+6sEXybvCrd5H3CPu/fm2z7t6Q8GjgNOBa4qUo9G4DvAGeFz/RC4cujvUKR+hAvOvB24LZwF7/8S/B1B8Pf1LjN7jOBvcTPQN9DzjbqpX0VGqbHhF8YcYC1wb9aXSWq75vDfnwHvJ+jqOxu4vsj2ALe7exJ43MymFanPG4Ajw3pAMMXwqJmfXCQUA3a4+8LsO9x9C/CP0B/8S8OD7YIU6CKjQ5e7LzSz/YG7CM6h/4gCXyYELfivm9mBwFuB+4FxA2wP0J32eyrx+8jsCRyTdv9Gdz+2/LciEg3uvtPMnjWzM939tnCBmfnuvi5cLe6V8CD5coJerAGpy11kFAmP8D9N0J3XBTxrZmdCsKqVmS0It9sNPAp8C7jL3RPhGtR5tx/A88BcM2sODyZODMufAqaa2bHhczWa2bxhfbMiNSZcrGg18AYz6zCzjwHnAh8zs3XARvYNfjseeMrMngamUcIpKbXQRUYZd38s/PI4m+DL5P+Y2b8TrIJ2K8H5cwi63W8j+GJJGWj7fK/VbmbLgfXAM8BjYXlPOHDu22HQNwDfJPhCE4kkd/9AgbtyLmVz9xXAinKeX6utiYiIRIC63EVERCJAgS4iIhIBCnQREZEIUKCLiIhEgAJdREQkAhToIiIiEaBAFxERiQAFuoiISAT8/8ZqNvP5DMW9AAAAAElFTkSuQmCC\n",
         "text/plain": "<Figure size 576x432 with 1 Axes>"
        },
        "metadata": {
         "needs_background": "light"
        },
        "output_type": "display_data",
        "transient": {}
       }
      ],
      "source": "# Check the relationship between revenue and runtime using scatter plot\ndf.plot.scatter(x = 'revenue', y = 'runtime', figsize=(8,6))\nplt.xlabel('Revenue')\nplt.ylabel('Runtime')\nplt.title('Scatter Plot of Revenue vs Runtime')\nplt.show()",
      "start_time": "2022-08-08T18:45:17.475Z"
     },
     {
      "end_time": "2022-08-08T23:10:17.679Z",
      "execution_time": "105ms",
      "outputs": [
       {
        "data": {
         "image/png": "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\n",
         "text/plain": "<Figure size 576x432 with 1 Axes>"
        },
        "metadata": {
         "needs_background": "light"
        },
        "output_type": "display_data",
        "transient": {}
       }
      ],
      "source": "# Check the relationship between revenue and runtime using scatter plot\ndf.plot.scatter(x = 'revenue', y = 'runtime', figsize=(8,6))\naxis_title_plot(x_label='Revenue', y_label='Runtime', title='Scatter Plot of Revenue vs Runtime')",
      "start_time": "2022-08-08T23:10:17.574Z"
     }
    ]
   },
   "outputs": [
    {
     "data": {
      "image/png": "[encoded data removed]",
      "text/plain": [
       "<Figure size 576x432 with 1 Axes>"
      ]
     },
     "metadata": {
      "needs_background": "light"
     },
     "output_type": "display_data"
    }
   ],
   "source": [
    "# Check the relationship between revenue and runtime using scatter plot\n",
    "df.plot.scatter(x = 'revenue', y = 'runtime', figsize=(8,6))\n",
    "axis_title_plot(x_label='Revenue', y_label='Runtime', title='Scatter Plot of Revenue vs Runtime')"
   ]
  },
  {
   "cell_type": "markdown",
   "metadata": {
    "provenance": [
     {
      "last_modified": "2022-08-07T20:20:48.458Z",
      "source": "From the above, it can be deduced that increase in runtime does not in return affect the increase in revenue"
     }
    ]
   },
   "source": [
    "**Summary of Findings:** From the diagram above, it can be deduced that increase in `runtime` does affect the an increase in revenue. However we can see that majority of the Runtime id between the minute of `100` - `200` . We can also see big money Movies at runtime less than `200` Minutes."
   ]
  },
  {
   "cell_type": "markdown",
   "metadata": {
    "provenance": [
     {
      "last_modified": "2022-08-07T20:20:48.458Z",
      "source": "### Research Question 2  (Finding the relationship between the release year and revenue)"
     }
    ]
   },
   "source": [
    "### Research Question 2  (Finding the relationship between the release year and revenue)"
   ]
  },
  {
   "cell_type": "code",
   "execution_count": 19,
   "metadata": {
    "ExecutionTime": {
     "end_time": "2022-08-08T23:10:17.690879Z",
     "start_time": "2022-08-08T23:10:17.681746Z"
    },
    "provenance": [
     {
      "end_time": "Unknown",
      "execution_time": "Unknown",
      "outputs": [
       {
        "data": {
         "text/plain": "release_year\n1997    5.549569e+07\n2001    5.541357e+07\n2002    5.505120e+07\n2004    5.470301e+07\n2003    5.387275e+07\n1995    5.232195e+07\n1999    5.069515e+07\n2000    4.836432e+07\n1992    4.570040e+07\n2005    4.537592e+07\nName: revenue, dtype: float64"
        },
        "execution_count": 39,
        "metadata": {},
        "output_type": "execute_result"
       }
      ],
      "source": "#Looking at the top 10 revenues and their year of release\n\ndf.groupby(['release_year']).mean()['revenue'].sort_values(ascending=False).head(10)",
      "start_time": "Unknown"
     },
     {
      "end_time": "2022-08-08T17:50:07.435Z",
      "execution_time": "9ms",
      "outputs": [
       {
        "data": {
         "text/plain": "release_year\n1997    5.549569e+07\n2001    5.541357e+07\n2002    5.505120e+07\n2004    5.470301e+07\n2003    5.387275e+07\n1995    5.232195e+07\n1999    5.069515e+07\n2000    4.836432e+07\n1992    4.570040e+07\n2005    4.537592e+07\nName: revenue, dtype: float64"
        },
        "execution_count": 16,
        "metadata": {},
        "output_type": "execute_result"
       }
      ],
      "source": "#Looking at the top 10 revenues and their year of release\n\ndf.groupby(['release_year']).mean()['revenue'].sort_values(ascending=False).head(10)",
      "start_time": "2022-08-08T17:50:07.426Z"
     },
     {
      "end_time": "2022-08-08T18:45:17.619Z",
      "execution_time": "11ms",
      "outputs": [
       {
        "data": {
         "text/plain": "release_year\n1997    5.549569e+07\n2001    5.541357e+07\n2002    5.505120e+07\n2004    5.470301e+07\n2003    5.387275e+07\n1995    5.232195e+07\n1999    5.069515e+07\n2000    4.836432e+07\n1992    4.570040e+07\n2005    4.537592e+07\nName: revenue, dtype: float64"
        },
        "execution_count": 52,
        "metadata": {},
        "output_type": "execute_result"
       }
      ],
      "source": "#Looking at the top 10 revenues and their year of release using groupby Value\ndf.groupby(['release_year']).mean()['revenue'].sort_values(ascending=False).head(10)",
      "start_time": "2022-08-08T18:45:17.608Z"
     },
     {
      "end_time": "2022-08-08T23:10:17.690Z",
      "execution_time": "9ms",
      "outputs": [
       {
        "data": {
         "text/plain": "release_year\n1997    5.549569e+07\n2001    5.541357e+07\n2002    5.505120e+07\n2004    5.470301e+07\n2003    5.387275e+07\n1995    5.232195e+07\n1999    5.069515e+07\n2000    4.836432e+07\n1992    4.570040e+07\n2005    4.537592e+07\nName: revenue, dtype: float64"
        },
        "execution_count": 19,
        "metadata": {},
        "output_type": "execute_result"
       }
      ],
      "source": "#Looking at the top 10 revenues and their year of release using groupby Value\ndf.groupby(['release_year']).mean()['revenue'].sort_values(ascending=False).head(10)",
      "start_time": "2022-08-08T23:10:17.681Z"
     }
    ]
   },
   "outputs": [
    {
     "data": {
      "text/plain": [
       "release_year\n",
       "1997    5.549569e+07\n",
       "2001    5.541357e+07\n",
       "2002    5.505120e+07\n",
       "2004    5.470301e+07\n",
       "2003    5.387275e+07\n",
       "1995    5.232195e+07\n",
       "1999    5.069515e+07\n",
       "2000    4.836432e+07\n",
       "1992    4.570040e+07\n",
       "2005    4.537592e+07\n",
       "Name: revenue, dtype: float64"
      ]
     },
     "execution_count": 19,
     "metadata": {},
     "output_type": "execute_result"
    }
   ],
   "source": [
    "#Looking at the top 10 revenues and their year of release using groupby Value\n",
    "df.groupby(['release_year']).mean()['revenue'].sort_values(ascending=False).head(10)"
   ]
  },
  {
   "cell_type": "markdown",
   "metadata": {
    "provenance": [
     {
      "last_modified": "2022-08-07T20:20:48.458Z",
      "source": "Looking at the data above, late 90's and early 2000's have the highest revenue with 1997 leading the race"
     }
    ]
   },
   "source": [
    "**Summary of Findings:** Looking at the data above, late 90's and early 2000's have the highest revenue with 1997 leading the race."
   ]
  },
  {
   "cell_type": "markdown",
   "metadata": {
    "provenance": [
     {
      "last_modified": "2022-08-07T20:20:48.458Z",
      "source": "### Research Question 3  (What kinds of properties are associated with movies that have high revenue)"
     }
    ]
   },
   "source": [
    "### Research Question 3  (What kinds of properties are associated with movies that have high revenue?)"
   ]
  },
  {
   "cell_type": "code",
   "execution_count": 20,
   "metadata": {
    "ExecutionTime": {
     "end_time": "2022-08-08T23:10:17.700009Z",
     "start_time": "2022-08-08T23:10:17.693504Z"
    },
    "provenance": [
     {
      "end_time": "Unknown",
      "execution_time": "Unknown",
      "outputs": [],
      "source": "#I am trying to get all the rows associated with the 20 highest revenues\n\ndf_high = df.sort_values(by=['revenue'], ascending= False).head(20)",
      "start_time": "Unknown"
     },
     {
      "end_time": "2022-08-08T17:50:07.442Z",
      "execution_time": "6ms",
      "outputs": [],
      "source": "#I am trying to get all the rows associated with the 20 highest revenues\n\ndf_high = df.sort_values(by=['revenue'], ascending= False).head(20)",
      "start_time": "2022-08-08T17:50:07.436Z"
     },
     {
      "end_time": "2022-08-08T18:21:38.700Z",
      "execution_time": "13ms",
      "outputs": [],
      "source": "#I am trying to get all the rows associated with the 20 highest revenues\ndf_high = df.sort_values(by=['revenue'], ascending= False).head(20)",
      "start_time": "2022-08-08T18:21:38.687Z"
     },
     {
      "end_time": "2022-08-08T18:45:17.632Z",
      "execution_time": "11ms",
      "outputs": [],
      "source": "#I am trying to get all the rows associated with the 20 highest revenues\ndf_high = df.sort_values(by=['revenue'], ascending= False).head(20)",
      "start_time": "2022-08-08T18:45:17.621Z"
     },
     {
      "end_time": "2022-08-08T23:10:17.700Z",
      "execution_time": "7ms",
      "outputs": [],
      "source": "#I am trying to get all the rows associated with the 20 highest revenues\ndf_high = df.sort_values(by=['revenue'], ascending= False).head(20)",
      "start_time": "2022-08-08T23:10:17.693Z"
     }
    ]
   },
   "outputs": [],
   "source": [
    "#I am trying to get all the rows associated with the 20 highest revenues\n",
    "df_high = df.sort_values(by=['revenue'], ascending= False).head(20)"
   ]
  },
  {
   "cell_type": "code",
   "execution_count": 21,
   "metadata": {
    "ExecutionTime": {
     "end_time": "2022-08-08T23:10:18.017849Z",
     "start_time": "2022-08-08T23:10:17.701628Z"
    },
    "provenance": [
     {
      "end_time": "Unknown",
      "execution_time": "Unknown",
      "outputs": [
       {
        "data": {
         "text/plain": "id              5.712840e+04\npopularity      7.184929e+00\nbudget          1.883500e+08\nrevenue         1.366390e+09\nruntime         1.382500e+02\nvote_count      4.515250e+03\nvote_average    6.990000e+00\nrelease_year    2.010000e+03\nbudget_adj      1.868408e+08\nrevenue_adj     1.387102e+09\ndtype: float64"
        },
        "execution_count": 41,
        "metadata": {},
        "output_type": "execute_result"
       }
      ],
      "source": "df_high.mean()",
      "start_time": "Unknown"
     },
     {
      "end_time": "2022-08-08T17:50:07.661Z",
      "execution_time": "217ms",
      "outputs": [
       {
        "data": {
         "text/plain": "id              5.712840e+04\npopularity      7.184929e+00\nbudget          1.883500e+08\nrevenue         1.366390e+09\nruntime         1.382500e+02\nvote_count      4.515250e+03\nvote_average    6.990000e+00\nrelease_year    2.010000e+03\nbudget_adj      1.868408e+08\nrevenue_adj     1.387102e+09\ndtype: float64"
        },
        "execution_count": 18,
        "metadata": {},
        "output_type": "execute_result"
       }
      ],
      "source": "df_high.mean()",
      "start_time": "2022-08-08T17:50:07.444Z"
     },
     {
      "end_time": "2022-08-08T18:21:39.974Z",
      "execution_time": "30ms",
      "outputs": [
       {
        "data": {
         "text/plain": "id              5.712840e+04\npopularity      7.184929e+00\nbudget          1.883500e+08\nrevenue         1.366390e+09\nruntime         1.382500e+02\nvote_count      4.515250e+03\nvote_average    6.990000e+00\nrelease_year    2.010000e+03\nbudget_adj      1.868408e+08\nrevenue_adj     1.387102e+09\ndtype: float64"
        },
        "execution_count": 35,
        "metadata": {},
        "output_type": "execute_result"
       }
      ],
      "source": "df_high.mean()",
      "start_time": "2022-08-08T18:21:39.944Z"
     },
     {
      "end_time": "2022-08-08T18:45:17.668Z",
      "execution_time": "33ms",
      "outputs": [
       {
        "data": {
         "text/plain": "id              5.712840e+04\npopularity      7.184929e+00\nbudget          1.883500e+08\nrevenue         1.366390e+09\nruntime         1.382500e+02\nvote_count      4.515250e+03\nvote_average    6.990000e+00\nrelease_year    2.010000e+03\nbudget_adj      1.868408e+08\nrevenue_adj     1.387102e+09\ndtype: float64"
        },
        "execution_count": 54,
        "metadata": {},
        "output_type": "execute_result"
       }
      ],
      "source": "df_high.mean()",
      "start_time": "2022-08-08T18:45:17.635Z"
     },
     {
      "end_time": "2022-08-08T23:10:18.017Z",
      "execution_time": "316ms",
      "outputs": [
       {
        "data": {
         "text/plain": "id              5.712840e+04\npopularity      7.184929e+00\nbudget          1.883500e+08\nrevenue         1.366390e+09\nruntime         1.382500e+02\nvote_count      4.515250e+03\nvote_average    6.990000e+00\nrelease_year    2.010000e+03\nbudget_adj      1.868408e+08\nrevenue_adj     1.387102e+09\ndtype: float64"
        },
        "execution_count": 21,
        "metadata": {},
        "output_type": "execute_result"
       }
      ],
      "source": "df_high.mean()",
      "start_time": "2022-08-08T23:10:17.701Z"
     }
    ]
   },
   "outputs": [
    {
     "data": {
      "text/plain": [
       "id              5.712840e+04\n",
       "popularity      7.184929e+00\n",
       "budget          1.883500e+08\n",
       "revenue         1.366390e+09\n",
       "runtime         1.382500e+02\n",
       "vote_count      4.515250e+03\n",
       "vote_average    6.990000e+00\n",
       "release_year    2.010000e+03\n",
       "budget_adj      1.868408e+08\n",
       "revenue_adj     1.387102e+09\n",
       "dtype: float64"
      ]
     },
     "execution_count": 21,
     "metadata": {},
     "output_type": "execute_result"
    }
   ],
   "source": [
    "df_high.mean()"
   ]
  },
  {
   "cell_type": "markdown",
   "metadata": {
    "provenance": [
     {
      "last_modified": "2022-08-07T20:20:48.458Z",
      "source": "Conclusion; Looking at the characteristics of the top 20 variables, we can deduce that the top revenues have an average runtime of 138 minutes and budget of 188million dollars."
     }
    ]
   },
   "source": [
    "**Summary of Findings:** Looking at the characteristics of the top 20 variables, we can deduce that the top revenues have an average runtime of 138 minutes and budget of 188million dollars."
   ]
  },
  {
   "cell_type": "markdown",
   "metadata": {
    "provenance": [
     {
      "last_modified": "2022-08-07T20:20:48.458Z",
      "source": "### Research Question 4  (What year has the greatest revenue?)"
     }
    ]
   },
   "source": [
    "### Research Question 4  (What year has the greatest revenue?)"
   ]
  },
  {
   "cell_type": "code",
   "execution_count": 22,
   "metadata": {
    "ExecutionTime": {
     "end_time": "2022-08-08T23:10:18.036045Z",
     "start_time": "2022-08-08T23:10:18.020458Z"
    },
    "provenance": [
     {
      "end_time": "Unknown",
      "execution_time": "Unknown",
      "outputs": [
       {
        "data": {
         "text/plain": "release_year\n1997    5.549569e+07\nName: revenue, dtype: float64"
        },
        "execution_count": 42,
        "metadata": {},
        "output_type": "execute_result"
       }
      ],
      "source": "df.groupby(['release_year']).mean()['revenue'].sort_values(ascending=False).head(1)",
      "start_time": "Unknown"
     },
     {
      "end_time": "2022-08-08T17:50:07.674Z",
      "execution_time": "10ms",
      "outputs": [
       {
        "data": {
         "text/plain": "release_year\n1997    5.549569e+07\nName: revenue, dtype: float64"
        },
        "execution_count": 19,
        "metadata": {},
        "output_type": "execute_result"
       }
      ],
      "source": "df.groupby(['release_year']).mean()['revenue'].sort_values(ascending=False).head(1)",
      "start_time": "2022-08-08T17:50:07.664Z"
     },
     {
      "end_time": "2022-08-08T18:45:17.681Z",
      "execution_time": "11ms",
      "outputs": [
       {
        "data": {
         "text/plain": "release_year\n1997    5.549569e+07\nName: revenue, dtype: float64"
        },
        "execution_count": 55,
        "metadata": {},
        "output_type": "execute_result"
       }
      ],
      "source": "# get movie with highest average revenue\ndf.groupby(['release_year']).mean()['revenue'].sort_values(ascending=False).head(1)",
      "start_time": "2022-08-08T18:45:17.670Z"
     },
     {
      "end_time": "2022-08-08T23:10:18.036Z",
      "execution_time": "16ms",
      "outputs": [
       {
        "data": {
         "text/plain": "release_year\n1997    5.549569e+07\nName: revenue, dtype: float64"
        },
        "execution_count": 22,
        "metadata": {},
        "output_type": "execute_result"
       }
      ],
      "source": "# get movie with highest average revenue\ndf.groupby(['release_year']).mean()['revenue'].sort_values(ascending=False).head(1)",
      "start_time": "2022-08-08T23:10:18.020Z"
     }
    ]
   },
   "outputs": [
    {
     "data": {
      "text/plain": [
       "release_year\n",
       "1997    5.549569e+07\n",
       "Name: revenue, dtype: float64"
      ]
     },
     "execution_count": 22,
     "metadata": {},
     "output_type": "execute_result"
    }
   ],
   "source": [
    "# get movie with highest average revenue\n",
    "df.groupby(['release_year']).mean()['revenue'].sort_values(ascending=False).head(1)"
   ]
  },
  {
   "cell_type": "markdown",
   "metadata": {
    "provenance": [
     {
      "last_modified": "2022-08-08T23:07:18.660Z",
      "source": "**Summary of Findings:** The year 1997 had the highest average revenue compared to other years. From the data, there had been big boom in movie sales for the Movie industry during this period."
     }
    ]
   },
   "source": [
    "**Summary of Findings:** The year 1997 had the highest average revenue compared to other years. From the data, there had been big boom in movie sales for the Movie industry during this period."
   ]
  },
  {
   "cell_type": "markdown",
   "metadata": {
    "provenance": [
     {
      "last_modified": "2022-08-07T20:20:48.458Z",
      "source": "<a id='conclusions'></a>\n## Conclusions\n\n**Limitation** <br/>\n* I filled in missing values with 'no information', there could have been a better way to fill this.\n* Most of my conclusions were estimated values because the values in the data set are too big.\n\nFinal Conclusion; Looking at the exploration done in this dataset, one would find out that there were high revenues back in the early 90's and late 20's years compared to recent times, which means people watch movies more in the past than now that brought about more returns for the industry. "
     }
    ]
   },
   "source": [
    "<a id='conclusions'></a>\n",
    "## Conclusions\n",
    "\n",
    "**Limitation** <br/>\n",
    "* I filled in missing values with 'no information', there could have been a better way to fill this.\n",
    "* Most of my conclusions were estimated values because the values in the data set are too big.\n",
    "\n",
    "\n",
    "### Summary From Question\n",
    "* **How does the runtime affects the revenue?**\n",
    " - The distribution of the revenue from the graph is right-skewed, where must of the values(`Revenue`) are less than $100M. Meaning that only few movie can get a Revenue greater than `$100M`\n",
    "* **Finding the relationship between the release year and revenue.**\n",
    " - From the plotted  , it can be deduced that increase in `runtime` does affect the an increase in revenue. However we can see that majority of the Runtime id between the minute of `100` - `200` . We can also see big money Movies at runtime less than `200` Minutes. And also, Looking at the data above, late 90's and early 2000's have the highest revenue with 1997 leading the race.\n",
    "* **What kinds of properties are associated with movies that have high revenue?**\n",
    " - Looking at the characteristics of the top 20 variables, we can deduce that the top revenues have an average runtime of `138 minutes` and Revenue of `188 million dollars`.\n",
    "* **What year has the greatest revenue?**\n",
    "- The year 1997 had the highest average revenue compared to other years. From the data, there had been big boom in movie sales for the Movie industry during this period\n",
    "\n",
    "### Final Conclusion:\n",
    "> Looking at the exploration done in this dataset, one would find out that there were high revenues back in the early 90's and late 20's years compared to recent times, which means people watch movies more in the past than now that brought about more returns for the industry. "
   ]
  }
 ],
 "metadata": {
  "kernelspec": {
   "display_name": "Python 3 (ipykernel)",
   "language": "python",
   "name": "python3"
  },
  "language_info": {
   "codemirror_mode": {
    "name": "ipython",
    "version": 3
   },
   "file_extension": ".py",
   "mimetype": "text/x-python",
   "name": "python",
   "nbconvert_exporter": "python",
   "pygments_lexer": "ipython3",
   "version": "3.8.13"
  },
  "vscode": {
   "interpreter": {
    "hash": "aee8b7b246df8f9039afb4144a1f6fd8d2ca17a180786b69acc140d282b71a49"
   }
  }
 },
 "nbformat": 4,
 "nbformat_minor": 2
}
